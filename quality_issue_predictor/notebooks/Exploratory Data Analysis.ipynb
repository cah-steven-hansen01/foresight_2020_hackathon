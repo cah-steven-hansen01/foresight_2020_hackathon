{
 "cells": [
  {
   "cell_type": "code",
   "execution_count": 1,
   "id": "f83a9cd2",
   "metadata": {},
   "outputs": [],
   "source": [
    "### only run once! sets up working directory to be /quality_issue_predictor\n",
    "import os\n",
    "os.chdir(os.getcwd()[:-34] + r'\\quality_issue_predictor') "
   ]
  },
  {
   "cell_type": "code",
   "execution_count": 2,
   "id": "f16f583b",
   "metadata": {},
   "outputs": [],
   "source": [
    "import pandas as pd"
   ]
  },
  {
   "cell_type": "code",
   "execution_count": 3,
   "id": "2b22e7c2",
   "metadata": {},
   "outputs": [
    {
     "name": "stderr",
     "output_type": "stream",
     "text": [
      "C:\\Users\\steven.hansen01\\AppData\\Roaming\\Python\\Python39\\site-packages\\IPython\\core\\interactiveshell.py:3441: DtypeWarning: Columns (1) have mixed types.Specify dtype option on import or set low_memory=False.\n",
      "  exec(code_obj, self.user_global_ns, self.user_ns)\n"
     ]
    }
   ],
   "source": [
    "archived_df = pd.read_csv('./clean_data/archived_so.csv')\n",
    "ncs_df = pd.read_csv('./clean_data/NCs.csv')\n",
    "plant_df = pd.read_csv('./clean_data/plantstar.csv')\n",
    "current_df = pd.read_csv('./clean_data/current_so.csv')"
   ]
  },
  {
   "cell_type": "code",
   "execution_count": 4,
   "id": "8e639b52",
   "metadata": {},
   "outputs": [
    {
     "name": "stdout",
     "output_type": "stream",
     "text": [
      "unique archived_lots = 5012\n",
      "unique plantstar lots = 3593\n",
      "unique nc lots = 631\n"
     ]
    }
   ],
   "source": [
    "print(f\"unique archived_lots = {len(archived_df['Lot Number'].unique())}\")\n",
    "print(f\"unique plantstar lots = {len(plant_df['Shop Order'].unique())}\")\n",
    "print(f\"unique nc lots = {len(ncs_df['Lot Number'].unique())}\")"
   ]
  },
  {
   "cell_type": "code",
   "execution_count": 5,
   "id": "ec4f3648",
   "metadata": {},
   "outputs": [],
   "source": [
    "missing_archived_lots = []\n",
    "for lot in ncs_df['Lot Number'].unique():\n",
    "    if lot not in archived_df['Lot Number'].unique():\n",
    "        missing_archived_lots.append(lot)\n",
    "\n"
   ]
  },
  {
   "cell_type": "code",
   "execution_count": 6,
   "id": "d84f0062",
   "metadata": {},
   "outputs": [
    {
     "data": {
      "text/plain": [
       "45"
      ]
     },
     "execution_count": 6,
     "metadata": {},
     "output_type": "execute_result"
    }
   ],
   "source": [
    "len(missing_archived_lots)"
   ]
  },
  {
   "cell_type": "code",
   "execution_count": 9,
   "id": "cea4ec8b",
   "metadata": {},
   "outputs": [
    {
     "name": "stdout",
     "output_type": "stream",
     "text": [
      "4087\n"
     ]
    }
   ],
   "source": [
    "missing_shop_orders = []\n",
    "for shop_order in archived_df['Shop Order'].unique():\n",
    "    if shop_order not in plant_df['Shop Order'].unique():\n",
    "        missing_shop_orders.append(shop_order)\n",
    "print(len(missing_shop_orders))        "
   ]
  },
  {
   "cell_type": "code",
   "execution_count": 10,
   "id": "88caaaf2",
   "metadata": {},
   "outputs": [
    {
     "name": "stderr",
     "output_type": "stream",
     "text": [
      "C:\\Users\\STEVEN~1.HAN\\AppData\\Local\\Temp/ipykernel_3116/4054470245.py:3: FutureWarning: elementwise comparison failed; returning scalar instead, but in the future will perform elementwise comparison\n",
      "  if shop_order not in archived_df['Shop Order'].unique():\n"
     ]
    },
    {
     "name": "stdout",
     "output_type": "stream",
     "text": [
      "2668\n"
     ]
    }
   ],
   "source": [
    "missing_shop_orders = []\n",
    "for shop_order in plant_df['Shop Order'].unique():\n",
    "    if shop_order not in archived_df['Shop Order'].unique():\n",
    "        missing_shop_orders.append(shop_order)\n",
    "print(len(missing_shop_orders))   "
   ]
  },
  {
   "cell_type": "code",
   "execution_count": 14,
   "id": "23bebb56",
   "metadata": {},
   "outputs": [
    {
     "data": {
      "text/plain": [
       "925"
      ]
     },
     "execution_count": 14,
     "metadata": {},
     "output_type": "execute_result"
    }
   ],
   "source": [
    "len(set(archived_df['Shop Order']).intersection(set(plant_df['Shop Order'])))"
   ]
  },
  {
   "cell_type": "code",
   "execution_count": null,
   "id": "94d32274",
   "metadata": {},
   "outputs": [],
   "source": []
  }
 ],
 "metadata": {
  "kernelspec": {
   "display_name": "Python 3 (ipykernel)",
   "language": "python",
   "name": "python3"
  },
  "language_info": {
   "codemirror_mode": {
    "name": "ipython",
    "version": 3
   },
   "file_extension": ".py",
   "mimetype": "text/x-python",
   "name": "python",
   "nbconvert_exporter": "python",
   "pygments_lexer": "ipython3",
   "version": "3.9.5"
  }
 },
 "nbformat": 4,
 "nbformat_minor": 5
}
