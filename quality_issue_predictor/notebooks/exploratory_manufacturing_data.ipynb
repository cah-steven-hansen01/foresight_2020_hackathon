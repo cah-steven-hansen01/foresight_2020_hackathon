{
 "cells": [
  {
   "cell_type": "code",
   "execution_count": 1,
   "metadata": {},
   "outputs": [],
   "source": [
    "### only run once! sets up working directory to be /quality_issue_predictor\n",
    "import os\n",
    "os.chdir(os.getcwd()[:-34] + r'\\quality_issue_predictor') "
   ]
  },
  {
   "cell_type": "code",
   "execution_count": 2,
   "metadata": {},
   "outputs": [],
   "source": [
    "import pandas as pd\n",
    "import numpy as np\n",
    "import os\n",
    "import re\n",
    "#import tensorflow as tf\n",
    "import matplotlib.pyplot as plt\n",
    "\n",
    "#import qa_productivity_tool.complaints as cmplnts\n",
    "import qa_productivity_tool.nc_full as nc_full"
   ]
  },
  {
   "cell_type": "markdown",
   "metadata": {},
   "source": [
    "Table of Contents <a name = \"tableofcontents\"></a>\n",
    "1. [Data Cleaning/preparing](#datacleaning)\n",
    "    1. [Archived Shop Order Cleanup](#socleanup)\n",
    "    2. [Plant Star Cleanup](#plantstarcleanup)\n",
    "    3. [Combine SO and Plantstar Date](#combinesoplantstar)\n",
    "    4. [Quality Data injestion](#qualitydata)\n",
    "2. [Models](#models)\n",
    "    1. [K-means No NC data](#kmeansnonc)\n",
    "    2. [K-means combinded with NC Data](#kmeanswithnc)\n",
    "    3. [Decision Tree Models](#decisiontrees)\n",
    "        1. [Adaboost](#adaboostresults)\n",
    "        2. [Decision Tree Regressor](#dtrresults)\n",
    "    4. [Dimensional Reduction Attempts](#dimensionalreduction)\n",
    "        1. [PCA](#pca)"
   ]
  },
  {
   "cell_type": "markdown",
   "metadata": {},
   "source": [
    "## Data Cleaning/Preparing"
   ]
  },
  {
   "cell_type": "markdown",
   "metadata": {},
   "source": [
    "### Archived Shop Order Clean up"
   ]
  },
  {
   "cell_type": "code",
   "execution_count": 3,
   "metadata": {},
   "outputs": [],
   "source": [
    "df = pd.read_excel(open('./raw_data/archived SO.xlsx','rb'))\n",
    "cols = {'MORD':\"Shop Order\",'MPROD':\"Component\",'MAPRD':\"Product\",'MBOM':'BOM qty','SOLOT':'Lot Number'}\n",
    "drop_cols = ['MQISS', 'MASTS','MOPNO']\n",
    "df = df.rename(columns = cols)\\\n",
    "        .drop(columns = drop_cols)\n",
    "df.shape"
   ]
  },
  {
   "cell_type": "code",
   "execution_count": 4,
   "metadata": {},
   "outputs": [],
   "source": [
    "def lot_checker(lot_number):\n",
    "    'checks if lot number matches YYMXXX63 format'\n",
    "    if str(lot_number) == 'nan':\n",
    "        return False\n",
    "    return (re.compile('(:?[0-9]{2}[A-Ma-m]{1}[Oo0-9]{3}63[Xx]|[0-9]{2}[A-Ma-m]{1}[Oo0-9]{3}63)').match(lot_number) != None) *1\n",
    "df['Lot Format Match'] = list(map(lot_checker,df['Lot Number']))\n",
    "df = df[df['Lot Format Match'] == 1].drop(columns = 'Lot Format Match')"
   ]
  },
  {
   "cell_type": "code",
   "execution_count": 5,
   "metadata": {},
   "outputs": [
    {
     "data": {
      "text/plain": [
       "(51587, 10)"
      ]
     },
     "execution_count": 5,
     "metadata": {},
     "output_type": "execute_result"
    }
   ],
   "source": []
  },
  {
   "cell_type": "code",
   "execution_count": 6,
   "metadata": {},
   "outputs": [],
   "source": []
  },
  {
   "cell_type": "code",
   "execution_count": 7,
   "metadata": {},
   "outputs": [],
   "source": [
    "def encode(frame,encode_type = 'one-hot'):\n",
    "    frame = frame.reset_index(drop=True)\n",
    "    lot_number = frame.loc[0,'Lot Number']\n",
    "    product = frame.loc[0,'Product']\n",
    "    date = frame.loc[0,'Date']\n",
    "    shop_order = str(frame.loc[0,'Shop Order'])\n",
    "    df = pd.DataFrame()\n",
    "    df.loc[lot_number,'Product'] = product\n",
    "    df.loc[lot_number,\"Date\"] = date\n",
    "    df.loc[lot_number,'Shop Order'] = shop_order\n",
    "    for i,component in enumerate(frame.Component):\n",
    "        if encode_type == 'one-hot':\n",
    "            df.loc[lot_number,component] = 1 \n",
    "        elif encode_type == 'qty':\n",
    "            df.loc[lot_number,component] = frame.loc[i,'BOM qty']\n",
    "    return df.reset_index()\\\n",
    "            .rename(columns = {'index':'Lot Number'})\n"
   ]
  },
  {
   "cell_type": "code",
   "execution_count": 8,
   "metadata": {},
   "outputs": [],
   "source": [
    "list_of_frames = [encode(frame,encode_type = 'qty') for lot, frame in df.groupby(by = 'Lot Number')]\n",
    "df = pd.concat(list_of_frames)\\\n",
    "            .fillna(0)\\\n",
    "            .reset_index(drop = True)"
   ]
  },
  {
   "cell_type": "code",
   "execution_count": 9,
   "metadata": {},
   "outputs": [
    {
     "data": {
      "text/plain": [
       "(2886, 646)"
      ]
     },
     "execution_count": 9,
     "metadata": {},
     "output_type": "execute_result"
    }
   ],
   "source": [
    "df.shape"
   ]
  },
  {
   "cell_type": "code",
   "execution_count": 10,
   "metadata": {},
   "outputs": [
    {
     "data": {
      "text/html": [
       "<div>\n",
       "<style scoped>\n",
       "    .dataframe tbody tr th:only-of-type {\n",
       "        vertical-align: middle;\n",
       "    }\n",
       "\n",
       "    .dataframe tbody tr th {\n",
       "        vertical-align: top;\n",
       "    }\n",
       "\n",
       "    .dataframe thead th {\n",
       "        text-align: right;\n",
       "    }\n",
       "</style>\n",
       "<table border=\"1\" class=\"dataframe\">\n",
       "  <thead>\n",
       "    <tr style=\"text-align: right;\">\n",
       "      <th></th>\n",
       "      <th>Lot Number</th>\n",
       "      <th>Product</th>\n",
       "      <th>Date</th>\n",
       "      <th>Shop Order</th>\n",
       "      <th>DC00056758</th>\n",
       "      <th>EXP5013</th>\n",
       "      <th>EXP5050</th>\n",
       "      <th>PT00009994</th>\n",
       "      <th>0301001</th>\n",
       "      <th>4001204</th>\n",
       "      <th>...</th>\n",
       "      <th>PT00103021</th>\n",
       "      <th>FS10002802</th>\n",
       "      <th>FS10002990</th>\n",
       "      <th>FS10026587</th>\n",
       "      <th>R7616</th>\n",
       "      <th>FS10026576</th>\n",
       "      <th>DC00078714</th>\n",
       "      <th>PT00096237</th>\n",
       "      <th>DC00072178</th>\n",
       "      <th>FS10002820</th>\n",
       "    </tr>\n",
       "  </thead>\n",
       "  <tbody>\n",
       "    <tr>\n",
       "      <th>0</th>\n",
       "      <td>19D27563X</td>\n",
       "      <td>4502570</td>\n",
       "      <td>2020-12-01</td>\n",
       "      <td>188358</td>\n",
       "      <td>0.0</td>\n",
       "      <td>0.0</td>\n",
       "      <td>0.0</td>\n",
       "      <td>0.0</td>\n",
       "      <td>0.000000</td>\n",
       "      <td>0.00</td>\n",
       "      <td>...</td>\n",
       "      <td>0.0</td>\n",
       "      <td>0.0</td>\n",
       "      <td>0.0</td>\n",
       "      <td>0.0</td>\n",
       "      <td>0.0</td>\n",
       "      <td>0.0</td>\n",
       "      <td>0.0</td>\n",
       "      <td>0.0</td>\n",
       "      <td>0.0</td>\n",
       "      <td>0.0</td>\n",
       "    </tr>\n",
       "    <tr>\n",
       "      <th>1</th>\n",
       "      <td>19E02463X</td>\n",
       "      <td>4502570</td>\n",
       "      <td>2020-12-01</td>\n",
       "      <td>188400</td>\n",
       "      <td>0.0</td>\n",
       "      <td>0.0</td>\n",
       "      <td>0.0</td>\n",
       "      <td>0.0</td>\n",
       "      <td>0.000000</td>\n",
       "      <td>0.00</td>\n",
       "      <td>...</td>\n",
       "      <td>0.0</td>\n",
       "      <td>0.0</td>\n",
       "      <td>0.0</td>\n",
       "      <td>0.0</td>\n",
       "      <td>0.0</td>\n",
       "      <td>0.0</td>\n",
       "      <td>0.0</td>\n",
       "      <td>0.0</td>\n",
       "      <td>0.0</td>\n",
       "      <td>0.0</td>\n",
       "    </tr>\n",
       "    <tr>\n",
       "      <th>2</th>\n",
       "      <td>19E02563X</td>\n",
       "      <td>4502570</td>\n",
       "      <td>2020-12-01</td>\n",
       "      <td>188401</td>\n",
       "      <td>0.0</td>\n",
       "      <td>0.0</td>\n",
       "      <td>0.0</td>\n",
       "      <td>0.0</td>\n",
       "      <td>0.006728</td>\n",
       "      <td>1.02</td>\n",
       "      <td>...</td>\n",
       "      <td>0.0</td>\n",
       "      <td>0.0</td>\n",
       "      <td>0.0</td>\n",
       "      <td>0.0</td>\n",
       "      <td>0.0</td>\n",
       "      <td>0.0</td>\n",
       "      <td>0.0</td>\n",
       "      <td>0.0</td>\n",
       "      <td>0.0</td>\n",
       "      <td>0.0</td>\n",
       "    </tr>\n",
       "    <tr>\n",
       "      <th>3</th>\n",
       "      <td>19G00463X</td>\n",
       "      <td>4502570</td>\n",
       "      <td>2020-12-01</td>\n",
       "      <td>189166</td>\n",
       "      <td>0.0</td>\n",
       "      <td>0.0</td>\n",
       "      <td>0.0</td>\n",
       "      <td>0.0</td>\n",
       "      <td>0.000000</td>\n",
       "      <td>0.00</td>\n",
       "      <td>...</td>\n",
       "      <td>0.0</td>\n",
       "      <td>0.0</td>\n",
       "      <td>0.0</td>\n",
       "      <td>0.0</td>\n",
       "      <td>0.0</td>\n",
       "      <td>0.0</td>\n",
       "      <td>0.0</td>\n",
       "      <td>0.0</td>\n",
       "      <td>0.0</td>\n",
       "      <td>0.0</td>\n",
       "    </tr>\n",
       "    <tr>\n",
       "      <th>4</th>\n",
       "      <td>19G10763X</td>\n",
       "      <td>8881112083</td>\n",
       "      <td>2020-12-01</td>\n",
       "      <td>189332</td>\n",
       "      <td>0.0</td>\n",
       "      <td>0.0</td>\n",
       "      <td>0.0</td>\n",
       "      <td>0.0</td>\n",
       "      <td>0.000000</td>\n",
       "      <td>0.00</td>\n",
       "      <td>...</td>\n",
       "      <td>0.0</td>\n",
       "      <td>0.0</td>\n",
       "      <td>0.0</td>\n",
       "      <td>0.0</td>\n",
       "      <td>0.0</td>\n",
       "      <td>0.0</td>\n",
       "      <td>0.0</td>\n",
       "      <td>0.0</td>\n",
       "      <td>0.0</td>\n",
       "      <td>0.0</td>\n",
       "    </tr>\n",
       "  </tbody>\n",
       "</table>\n",
       "<p>5 rows × 646 columns</p>\n",
       "</div>"
      ],
      "text/plain": [
       "  Lot Number     Product       Date Shop Order  DC00056758  EXP5013  EXP5050  \\\n",
       "0  19D27563X     4502570 2020-12-01     188358         0.0      0.0      0.0   \n",
       "1  19E02463X     4502570 2020-12-01     188400         0.0      0.0      0.0   \n",
       "2  19E02563X     4502570 2020-12-01     188401         0.0      0.0      0.0   \n",
       "3  19G00463X     4502570 2020-12-01     189166         0.0      0.0      0.0   \n",
       "4  19G10763X  8881112083 2020-12-01     189332         0.0      0.0      0.0   \n",
       "\n",
       "   PT00009994   0301001  4001204  ...  PT00103021  FS10002802  FS10002990  \\\n",
       "0         0.0  0.000000     0.00  ...         0.0         0.0         0.0   \n",
       "1         0.0  0.000000     0.00  ...         0.0         0.0         0.0   \n",
       "2         0.0  0.006728     1.02  ...         0.0         0.0         0.0   \n",
       "3         0.0  0.000000     0.00  ...         0.0         0.0         0.0   \n",
       "4         0.0  0.000000     0.00  ...         0.0         0.0         0.0   \n",
       "\n",
       "   FS10026587  R7616  FS10026576  DC00078714  PT00096237  DC00072178  \\\n",
       "0         0.0    0.0         0.0         0.0         0.0         0.0   \n",
       "1         0.0    0.0         0.0         0.0         0.0         0.0   \n",
       "2         0.0    0.0         0.0         0.0         0.0         0.0   \n",
       "3         0.0    0.0         0.0         0.0         0.0         0.0   \n",
       "4         0.0    0.0         0.0         0.0         0.0         0.0   \n",
       "\n",
       "   FS10002820  \n",
       "0         0.0  \n",
       "1         0.0  \n",
       "2         0.0  \n",
       "3         0.0  \n",
       "4         0.0  \n",
       "\n",
       "[5 rows x 646 columns]"
      ]
     },
     "execution_count": 10,
     "metadata": {},
     "output_type": "execute_result"
    }
   ],
   "source": [
    "df.head()"
   ]
  },
  {
   "cell_type": "code",
   "execution_count": 11,
   "metadata": {
    "tags": []
   },
   "outputs": [
    {
     "name": "stdout",
     "output_type": "stream",
     "text": [
      "2020-Jan-01\n",
      "2021-Dec-30\n"
     ]
    }
   ],
   "source": [
    "print(min(df.Date).strftime(\"%Y-%b-%d\"))\n",
    "print(max(df.Date).strftime(\"%Y-%b-%d\"))"
   ]
  },
  {
   "cell_type": "markdown",
   "metadata": {},
   "source": [
    "Why are there lots through Dec 2021?"
   ]
  },
  {
   "cell_type": "markdown",
   "metadata": {},
   "source": [
    "### Plantstar Clean-up <a name = \"plantstarcleanup\"></a>\n",
    "[return](#tableofcontents)"
   ]
  },
  {
   "cell_type": "code",
   "execution_count": 12,
   "metadata": {},
   "outputs": [],
   "source": [
    "plant_df = pd.read_excel(open(\"./raw_data/Plantstar.xlsx\",'rb'))"
   ]
  },
  {
   "cell_type": "code",
   "execution_count": 13,
   "metadata": {},
   "outputs": [
    {
     "data": {
      "text/html": [
       "<div>\n",
       "<style scoped>\n",
       "    .dataframe tbody tr th:only-of-type {\n",
       "        vertical-align: middle;\n",
       "    }\n",
       "\n",
       "    .dataframe tbody tr th {\n",
       "        vertical-align: top;\n",
       "    }\n",
       "\n",
       "    .dataframe thead th {\n",
       "        text-align: right;\n",
       "    }\n",
       "</style>\n",
       "<table border=\"1\" class=\"dataframe\">\n",
       "  <thead>\n",
       "    <tr style=\"text-align: right;\">\n",
       "      <th></th>\n",
       "      <th>start_time</th>\n",
       "      <th>mach_name</th>\n",
       "      <th>gross_pieces</th>\n",
       "      <th>user_text_1</th>\n",
       "      <th>user_text_4</th>\n",
       "      <th>mat_formula</th>\n",
       "      <th>tool</th>\n",
       "      <th>std_shot_weight</th>\n",
       "      <th>act_shot_weight</th>\n",
       "      <th>start_time2</th>\n",
       "    </tr>\n",
       "  </thead>\n",
       "  <tbody>\n",
       "    <tr>\n",
       "      <th>0</th>\n",
       "      <td>2019-03-01 18:00:00</td>\n",
       "      <td>14-N400</td>\n",
       "      <td>2758</td>\n",
       "      <td>R7500</td>\n",
       "      <td>186439</td>\n",
       "      <td>RM129</td>\n",
       "      <td>R7500D</td>\n",
       "      <td>1.7975</td>\n",
       "      <td>0.0</td>\n",
       "      <td>2019-03-01 18:00:00</td>\n",
       "    </tr>\n",
       "    <tr>\n",
       "      <th>1</th>\n",
       "      <td>2019-03-02 06:00:00</td>\n",
       "      <td>14-N400</td>\n",
       "      <td>5092</td>\n",
       "      <td>R7500</td>\n",
       "      <td>186439</td>\n",
       "      <td>RM129</td>\n",
       "      <td>R7500D</td>\n",
       "      <td>1.7975</td>\n",
       "      <td>0.0</td>\n",
       "      <td>2019-03-02 06:00:00</td>\n",
       "    </tr>\n",
       "    <tr>\n",
       "      <th>2</th>\n",
       "      <td>2019-03-02 18:00:00</td>\n",
       "      <td>14-N400</td>\n",
       "      <td>4920</td>\n",
       "      <td>R7500</td>\n",
       "      <td>186439</td>\n",
       "      <td>RM129</td>\n",
       "      <td>R7500D</td>\n",
       "      <td>1.7975</td>\n",
       "      <td>0.0</td>\n",
       "      <td>2019-03-02 18:00:00</td>\n",
       "    </tr>\n",
       "    <tr>\n",
       "      <th>3</th>\n",
       "      <td>2019-03-03 06:00:00</td>\n",
       "      <td>14-N400</td>\n",
       "      <td>5156</td>\n",
       "      <td>R7500</td>\n",
       "      <td>186439</td>\n",
       "      <td>RM129</td>\n",
       "      <td>R7500D</td>\n",
       "      <td>1.7975</td>\n",
       "      <td>0.0</td>\n",
       "      <td>2019-03-03 06:00:00</td>\n",
       "    </tr>\n",
       "    <tr>\n",
       "      <th>4</th>\n",
       "      <td>2019-03-03 18:00:00</td>\n",
       "      <td>14-N400</td>\n",
       "      <td>4748</td>\n",
       "      <td>R7500</td>\n",
       "      <td>186439</td>\n",
       "      <td>RM129</td>\n",
       "      <td>R7500D</td>\n",
       "      <td>1.7975</td>\n",
       "      <td>0.0</td>\n",
       "      <td>2019-03-03 18:00:00</td>\n",
       "    </tr>\n",
       "  </tbody>\n",
       "</table>\n",
       "</div>"
      ],
      "text/plain": [
       "           start_time mach_name  gross_pieces user_text_1 user_text_4  \\\n",
       "0 2019-03-01 18:00:00   14-N400          2758       R7500      186439   \n",
       "1 2019-03-02 06:00:00   14-N400          5092       R7500      186439   \n",
       "2 2019-03-02 18:00:00   14-N400          4920       R7500      186439   \n",
       "3 2019-03-03 06:00:00   14-N400          5156       R7500      186439   \n",
       "4 2019-03-03 18:00:00   14-N400          4748       R7500      186439   \n",
       "\n",
       "  mat_formula    tool  std_shot_weight  act_shot_weight         start_time2  \n",
       "0       RM129  R7500D           1.7975              0.0 2019-03-01 18:00:00  \n",
       "1       RM129  R7500D           1.7975              0.0 2019-03-02 06:00:00  \n",
       "2       RM129  R7500D           1.7975              0.0 2019-03-02 18:00:00  \n",
       "3       RM129  R7500D           1.7975              0.0 2019-03-03 06:00:00  \n",
       "4       RM129  R7500D           1.7975              0.0 2019-03-03 18:00:00  "
      ]
     },
     "execution_count": 13,
     "metadata": {},
     "output_type": "execute_result"
    }
   ],
   "source": [
    "plant_df.head()"
   ]
  },
  {
   "cell_type": "code",
   "execution_count": 14,
   "metadata": {},
   "outputs": [
    {
     "data": {
      "text/html": [
       "<div>\n",
       "<style scoped>\n",
       "    .dataframe tbody tr th:only-of-type {\n",
       "        vertical-align: middle;\n",
       "    }\n",
       "\n",
       "    .dataframe tbody tr th {\n",
       "        vertical-align: top;\n",
       "    }\n",
       "\n",
       "    .dataframe thead th {\n",
       "        text-align: right;\n",
       "    }\n",
       "</style>\n",
       "<table border=\"1\" class=\"dataframe\">\n",
       "  <thead>\n",
       "    <tr style=\"text-align: right;\">\n",
       "      <th></th>\n",
       "      <th>start_time</th>\n",
       "      <th>mach_name</th>\n",
       "      <th>gross_pieces</th>\n",
       "      <th>user_text_1</th>\n",
       "      <th>Shop Order</th>\n",
       "      <th>mat_formula</th>\n",
       "      <th>tool</th>\n",
       "      <th>std_shot_weight</th>\n",
       "      <th>act_shot_weight</th>\n",
       "      <th>start_time2</th>\n",
       "    </tr>\n",
       "  </thead>\n",
       "  <tbody>\n",
       "    <tr>\n",
       "      <th>0</th>\n",
       "      <td>2019-03-01 18:00:00</td>\n",
       "      <td>14-N400</td>\n",
       "      <td>2758</td>\n",
       "      <td>R7500</td>\n",
       "      <td>186439</td>\n",
       "      <td>RM129</td>\n",
       "      <td>R7500D</td>\n",
       "      <td>1.7975</td>\n",
       "      <td>0.0</td>\n",
       "      <td>2019-03-01 18:00:00</td>\n",
       "    </tr>\n",
       "    <tr>\n",
       "      <th>1</th>\n",
       "      <td>2019-03-02 06:00:00</td>\n",
       "      <td>14-N400</td>\n",
       "      <td>5092</td>\n",
       "      <td>R7500</td>\n",
       "      <td>186439</td>\n",
       "      <td>RM129</td>\n",
       "      <td>R7500D</td>\n",
       "      <td>1.7975</td>\n",
       "      <td>0.0</td>\n",
       "      <td>2019-03-02 06:00:00</td>\n",
       "    </tr>\n",
       "    <tr>\n",
       "      <th>2</th>\n",
       "      <td>2019-03-02 18:00:00</td>\n",
       "      <td>14-N400</td>\n",
       "      <td>4920</td>\n",
       "      <td>R7500</td>\n",
       "      <td>186439</td>\n",
       "      <td>RM129</td>\n",
       "      <td>R7500D</td>\n",
       "      <td>1.7975</td>\n",
       "      <td>0.0</td>\n",
       "      <td>2019-03-02 18:00:00</td>\n",
       "    </tr>\n",
       "    <tr>\n",
       "      <th>3</th>\n",
       "      <td>2019-03-03 06:00:00</td>\n",
       "      <td>14-N400</td>\n",
       "      <td>5156</td>\n",
       "      <td>R7500</td>\n",
       "      <td>186439</td>\n",
       "      <td>RM129</td>\n",
       "      <td>R7500D</td>\n",
       "      <td>1.7975</td>\n",
       "      <td>0.0</td>\n",
       "      <td>2019-03-03 06:00:00</td>\n",
       "    </tr>\n",
       "    <tr>\n",
       "      <th>4</th>\n",
       "      <td>2019-03-03 18:00:00</td>\n",
       "      <td>14-N400</td>\n",
       "      <td>4748</td>\n",
       "      <td>R7500</td>\n",
       "      <td>186439</td>\n",
       "      <td>RM129</td>\n",
       "      <td>R7500D</td>\n",
       "      <td>1.7975</td>\n",
       "      <td>0.0</td>\n",
       "      <td>2019-03-03 18:00:00</td>\n",
       "    </tr>\n",
       "  </tbody>\n",
       "</table>\n",
       "</div>"
      ],
      "text/plain": [
       "           start_time mach_name  gross_pieces user_text_1 Shop Order  \\\n",
       "0 2019-03-01 18:00:00   14-N400          2758       R7500     186439   \n",
       "1 2019-03-02 06:00:00   14-N400          5092       R7500     186439   \n",
       "2 2019-03-02 18:00:00   14-N400          4920       R7500     186439   \n",
       "3 2019-03-03 06:00:00   14-N400          5156       R7500     186439   \n",
       "4 2019-03-03 18:00:00   14-N400          4748       R7500     186439   \n",
       "\n",
       "  mat_formula    tool  std_shot_weight  act_shot_weight         start_time2  \n",
       "0       RM129  R7500D           1.7975              0.0 2019-03-01 18:00:00  \n",
       "1       RM129  R7500D           1.7975              0.0 2019-03-02 06:00:00  \n",
       "2       RM129  R7500D           1.7975              0.0 2019-03-02 18:00:00  \n",
       "3       RM129  R7500D           1.7975              0.0 2019-03-03 06:00:00  \n",
       "4       RM129  R7500D           1.7975              0.0 2019-03-03 18:00:00  "
      ]
     },
     "execution_count": 14,
     "metadata": {},
     "output_type": "execute_result"
    }
   ],
   "source": [
    "cols = {'user_text_4':'Shop Order'}\n",
    "plant_df = plant_df.rename(columns = cols)\n",
    "plant_df.head()"
   ]
  },
  {
   "cell_type": "code",
   "execution_count": 15,
   "metadata": {},
   "outputs": [],
   "source": [
    "def plantstar_extract(shop_order):\n",
    "    tools = list(plant_df['tool'][plant_df['Shop Order'] == shop_order].unique())\n",
    "    machines = list(plant_df['mach_name'][plant_df['Shop Order'] == shop_order].unique())\n",
    "    num_entries = len(plant_df['start_time'][plant_df['Shop Order'] == shop_order]) #related to how long SO ran?\n",
    "    return tools, machines, num_entries"
   ]
  },
  {
   "cell_type": "markdown",
   "metadata": {},
   "source": [
    "### Combine SO data and Plantstar Data <a name = \"combinesoplantstar\"></a>\n",
    "[return](#tableofcontents)"
   ]
  },
  {
   "cell_type": "code",
   "execution_count": 16,
   "metadata": {},
   "outputs": [
    {
     "name": "stdout",
     "output_type": "stream",
     "text": [
      "Wall time: 2min\n"
     ]
    },
    {
     "data": {
      "text/html": [
       "<div>\n",
       "<style scoped>\n",
       "    .dataframe tbody tr th:only-of-type {\n",
       "        vertical-align: middle;\n",
       "    }\n",
       "\n",
       "    .dataframe tbody tr th {\n",
       "        vertical-align: top;\n",
       "    }\n",
       "\n",
       "    .dataframe thead th {\n",
       "        text-align: right;\n",
       "    }\n",
       "</style>\n",
       "<table border=\"1\" class=\"dataframe\">\n",
       "  <thead>\n",
       "    <tr style=\"text-align: right;\">\n",
       "      <th></th>\n",
       "      <th>Lot Number</th>\n",
       "      <th>Product</th>\n",
       "      <th>Date</th>\n",
       "      <th>Shop Order</th>\n",
       "      <th>DC00056758</th>\n",
       "      <th>EXP5013</th>\n",
       "      <th>EXP5050</th>\n",
       "      <th>PT00009994</th>\n",
       "      <th>0301001</th>\n",
       "      <th>4001204</th>\n",
       "      <th>...</th>\n",
       "      <th>R7046K</th>\n",
       "      <th>R7451A</th>\n",
       "      <th>90-N120</th>\n",
       "      <th>R7067C</th>\n",
       "      <th>R7569B-Thin-Wall</th>\n",
       "      <th>R7024L</th>\n",
       "      <th>R7102B</th>\n",
       "      <th>76-V400</th>\n",
       "      <th>R7515B</th>\n",
       "      <th>63-N500</th>\n",
       "    </tr>\n",
       "  </thead>\n",
       "  <tbody>\n",
       "    <tr>\n",
       "      <th>0</th>\n",
       "      <td>19G28063</td>\n",
       "      <td>8985CRS</td>\n",
       "      <td>2020-02-25</td>\n",
       "      <td>189592</td>\n",
       "      <td>0.0</td>\n",
       "      <td>0.0</td>\n",
       "      <td>0.0</td>\n",
       "      <td>0.0</td>\n",
       "      <td>0.0</td>\n",
       "      <td>0.0</td>\n",
       "      <td>...</td>\n",
       "      <td>0.0</td>\n",
       "      <td>0.0</td>\n",
       "      <td>0.0</td>\n",
       "      <td>0.0</td>\n",
       "      <td>0.0</td>\n",
       "      <td>0.0</td>\n",
       "      <td>0.0</td>\n",
       "      <td>0.0</td>\n",
       "      <td>0.0</td>\n",
       "      <td>0.0</td>\n",
       "    </tr>\n",
       "    <tr>\n",
       "      <th>1</th>\n",
       "      <td>19H06863</td>\n",
       "      <td>8608U</td>\n",
       "      <td>2020-02-19</td>\n",
       "      <td>189686</td>\n",
       "      <td>0.0</td>\n",
       "      <td>0.0</td>\n",
       "      <td>0.0</td>\n",
       "      <td>0.0</td>\n",
       "      <td>0.0</td>\n",
       "      <td>0.0</td>\n",
       "      <td>...</td>\n",
       "      <td>0.0</td>\n",
       "      <td>0.0</td>\n",
       "      <td>0.0</td>\n",
       "      <td>0.0</td>\n",
       "      <td>0.0</td>\n",
       "      <td>0.0</td>\n",
       "      <td>0.0</td>\n",
       "      <td>0.0</td>\n",
       "      <td>0.0</td>\n",
       "      <td>0.0</td>\n",
       "    </tr>\n",
       "    <tr>\n",
       "      <th>2</th>\n",
       "      <td>19H12063</td>\n",
       "      <td>8851</td>\n",
       "      <td>2020-03-04</td>\n",
       "      <td>189772</td>\n",
       "      <td>0.0</td>\n",
       "      <td>0.0</td>\n",
       "      <td>0.0</td>\n",
       "      <td>0.0</td>\n",
       "      <td>0.0</td>\n",
       "      <td>0.0</td>\n",
       "      <td>...</td>\n",
       "      <td>0.0</td>\n",
       "      <td>0.0</td>\n",
       "      <td>0.0</td>\n",
       "      <td>0.0</td>\n",
       "      <td>0.0</td>\n",
       "      <td>0.0</td>\n",
       "      <td>0.0</td>\n",
       "      <td>0.0</td>\n",
       "      <td>0.0</td>\n",
       "      <td>0.0</td>\n",
       "    </tr>\n",
       "    <tr>\n",
       "      <th>3</th>\n",
       "      <td>19H17163</td>\n",
       "      <td>8851NB</td>\n",
       "      <td>2020-03-04</td>\n",
       "      <td>189853</td>\n",
       "      <td>0.0</td>\n",
       "      <td>0.0</td>\n",
       "      <td>0.0</td>\n",
       "      <td>0.0</td>\n",
       "      <td>0.0</td>\n",
       "      <td>0.0</td>\n",
       "      <td>...</td>\n",
       "      <td>0.0</td>\n",
       "      <td>0.0</td>\n",
       "      <td>0.0</td>\n",
       "      <td>0.0</td>\n",
       "      <td>0.0</td>\n",
       "      <td>0.0</td>\n",
       "      <td>0.0</td>\n",
       "      <td>0.0</td>\n",
       "      <td>0.0</td>\n",
       "      <td>0.0</td>\n",
       "    </tr>\n",
       "    <tr>\n",
       "      <th>4</th>\n",
       "      <td>19H25863</td>\n",
       "      <td>31144010</td>\n",
       "      <td>2020-01-15</td>\n",
       "      <td>189982</td>\n",
       "      <td>0.0</td>\n",
       "      <td>0.0</td>\n",
       "      <td>0.0</td>\n",
       "      <td>0.0</td>\n",
       "      <td>0.0</td>\n",
       "      <td>0.0</td>\n",
       "      <td>...</td>\n",
       "      <td>0.0</td>\n",
       "      <td>0.0</td>\n",
       "      <td>0.0</td>\n",
       "      <td>0.0</td>\n",
       "      <td>0.0</td>\n",
       "      <td>0.0</td>\n",
       "      <td>0.0</td>\n",
       "      <td>0.0</td>\n",
       "      <td>0.0</td>\n",
       "      <td>0.0</td>\n",
       "    </tr>\n",
       "  </tbody>\n",
       "</table>\n",
       "<p>5 rows × 776 columns</p>\n",
       "</div>"
      ],
      "text/plain": [
       "  Lot Number   Product       Date Shop Order  DC00056758  EXP5013  EXP5050  \\\n",
       "0   19G28063   8985CRS 2020-02-25     189592         0.0      0.0      0.0   \n",
       "1   19H06863     8608U 2020-02-19     189686         0.0      0.0      0.0   \n",
       "2   19H12063      8851 2020-03-04     189772         0.0      0.0      0.0   \n",
       "3   19H17163    8851NB 2020-03-04     189853         0.0      0.0      0.0   \n",
       "4   19H25863  31144010 2020-01-15     189982         0.0      0.0      0.0   \n",
       "\n",
       "   PT00009994  0301001  4001204  ...  R7046K  R7451A  90-N120  R7067C  \\\n",
       "0         0.0      0.0      0.0  ...     0.0     0.0      0.0     0.0   \n",
       "1         0.0      0.0      0.0  ...     0.0     0.0      0.0     0.0   \n",
       "2         0.0      0.0      0.0  ...     0.0     0.0      0.0     0.0   \n",
       "3         0.0      0.0      0.0  ...     0.0     0.0      0.0     0.0   \n",
       "4         0.0      0.0      0.0  ...     0.0     0.0      0.0     0.0   \n",
       "\n",
       "   R7569B-Thin-Wall  R7024L  R7102B  76-V400  R7515B  63-N500  \n",
       "0               0.0     0.0     0.0      0.0     0.0      0.0  \n",
       "1               0.0     0.0     0.0      0.0     0.0      0.0  \n",
       "2               0.0     0.0     0.0      0.0     0.0      0.0  \n",
       "3               0.0     0.0     0.0      0.0     0.0      0.0  \n",
       "4               0.0     0.0     0.0      0.0     0.0      0.0  \n",
       "\n",
       "[5 rows x 776 columns]"
      ]
     },
     "execution_count": 16,
     "metadata": {},
     "output_type": "execute_result"
    }
   ],
   "source": [
    "%%time\n",
    "for i, shop_order in enumerate(df['Shop Order']):\n",
    "    tools,machines,num_entries = plantstar_extract(shop_order)\n",
    "    if num_entries == 0:\n",
    "        df = df.drop(i)\n",
    "        continue\n",
    "    for t in tools:\n",
    "        df.loc[i,t] = 1\n",
    "    for m in machines:\n",
    "        df.loc[i,m] = 1\n",
    "    df.loc[i,'num_plantstar_entries'] = num_entries\n",
    "df = df.fillna(0)\\\n",
    "    .reset_index(drop= True)\n",
    "df.head()"
   ]
  },
  {
   "cell_type": "markdown",
   "metadata": {},
   "source": [
    "### Quality Records Data <a name = \"qualitydata\"></a>\n",
    "[return](#tableofcontents)"
   ]
  },
  {
   "cell_type": "code",
   "execution_count": 17,
   "metadata": {
    "tags": []
   },
   "outputs": [
    {
     "name": "stdout",
     "output_type": "stream",
     "text": [
      "Searching for most recent NC Full Report file \n",
      "C:\\Users\\steven.hansen01\\OneDrive - Cardinal Health\\General\\quality_issue_predictor\\raw_data\n"
     ]
    },
    {
     "data": {
      "text/plain": [
       "('NC Full Report with AQL (3).xlsx',\n",
       " 'C:\\\\Users\\\\steven.hansen01\\\\OneDrive - Cardinal Health\\\\General\\\\quality_issue_predictor\\\\raw_data\\\\NC Full Report with AQL (3).xlsx',\n",
       " '9/23/2021')"
      ]
     },
     "execution_count": 17,
     "metadata": {},
     "output_type": "execute_result"
    }
   ],
   "source": [
    "%%time\n",
    "nc_data = nc_full.NC_Full()\n",
    "nc_data.mostrecentreport(og_data_path = os.getcwd()+r'\\raw_data')\n",
    "\n",
    "nc_data = nc_data.run_report()\n",
    "for i, lot_number in enumerate(df['Lot Number']):\n",
    "    for j, nc_lot_nums in enumerate(nc_data['Lot Number']):\n",
    "        if lot_number in nc_lot_nums:\n",
    "            df.loc[i,'NC'] = 1\n",
    "            break\n",
    "df = df.fillna(0)"
   ]
  },
  {
   "cell_type": "code",
   "execution_count": 24,
   "metadata": {},
   "outputs": [],
   "source": [
    "for col in df.columns[4:]:\n",
    "    if str(col) == 'nan':\n",
    "        df =  df.drop(columns =col)"
   ]
  },
  {
   "cell_type": "code",
   "execution_count": 25,
   "metadata": {},
   "outputs": [],
   "source": [
    "cleaned_data = df[df.columns[4:]].to_numpy().copy()"
   ]
  },
  {
   "cell_type": "code",
   "execution_count": 26,
   "metadata": {},
   "outputs": [
    {
     "data": {
      "text/plain": [
       "(1171, 772)"
      ]
     },
     "execution_count": 26,
     "metadata": {},
     "output_type": "execute_result"
    }
   ],
   "source": [
    "cleaned_data.shape"
   ]
  },
  {
   "cell_type": "markdown",
   "metadata": {},
   "source": [
    "## Models <a name = 'models'></a>\n",
    "[return](#tableofcontents)"
   ]
  },
  {
   "cell_type": "code",
   "execution_count": 27,
   "metadata": {},
   "outputs": [],
   "source": [
    "import seaborn as sns"
   ]
  },
  {
   "cell_type": "markdown",
   "metadata": {},
   "source": [
    "###  AdaBoost <a name = AdaBoost></a>\n",
    "[return](#tableofcontents)"
   ]
  },
  {
   "cell_type": "code",
   "execution_count": 35,
   "metadata": {},
   "outputs": [],
   "source": [
    "from sklearn.ensemble import AdaBoostRegressor\n",
    "from sklearn.tree import DecisionTreeRegressor"
   ]
  },
  {
   "cell_type": "code",
   "execution_count": 31,
   "metadata": {},
   "outputs": [],
   "source": [
    "import numpy as np\n",
    "from sklearn.model_selection import train_test_split\n",
    "from sklearn.metrics import precision_recall_curve"
   ]
  },
  {
   "cell_type": "code",
   "execution_count": 183,
   "metadata": {},
   "outputs": [],
   "source": [
    "X = cleaned_data[:,:-1]\n",
    "y = cleaned_data[:,-1]"
   ]
  },
  {
   "cell_type": "code",
   "execution_count": 184,
   "metadata": {},
   "outputs": [
    {
     "data": {
      "text/plain": [
       "93.0"
      ]
     },
     "execution_count": 184,
     "metadata": {},
     "output_type": "execute_result"
    }
   ],
   "source": [
    "sum(y)"
   ]
  },
  {
   "cell_type": "code",
   "execution_count": 191,
   "metadata": {},
   "outputs": [],
   "source": [
    "def ada_boost_models(X,y,n_estimators=100,max_depth=4):\n",
    "    X_train, X_test, y_train, y_test = train_test_split(\n",
    "    X, y, test_size=0.10, random_state=42)\n",
    "    rng = np.random.RandomState(1)\n",
    "    regr = AdaBoostRegressor(DecisionTreeRegressor(max_depth = max_depth),\n",
    "                          n_estimators=n_estimators, random_state=rng)\n",
    "    regr.fit(X_train, y_train)\n",
    "    y_1 = regr.predict(X_test)\n",
    "    return regr,y_test,y_1\n",
    "regr,y_test,y_1 = ada_boost_models(X,y)"
   ]
  },
  {
   "cell_type": "code",
   "execution_count": 192,
   "metadata": {},
   "outputs": [
    {
     "data": {
      "image/png": "[encoded data removed]",
      "text/plain": [
       "<Figure size 432x288 with 1 Axes>"
      ]
     },
     "metadata": {},
     "output_type": "display_data"
    }
   ],
   "source": [
    "def plot_prec_recall(y_test, y_1):\n",
    "    precision, recall, thresholds = precision_recall_curve(y_test,y_1)\n",
    "    indicted = np.zeros(thresholds.shape)\n",
    "    for i,thresh in enumerate(thresholds):\n",
    "        indicted[i] = len(y_1[y_1>=thresh])/len(y_1)\n",
    "    \n",
    "    plt.plot(thresholds,precision[:-1],label = 'Precision')\n",
    "    plt.plot(thresholds,recall[:-1],label = 'Recall')\n",
    "    plt.plot(thresholds,indicted,label = 'Indicted')\n",
    "    plt.title('AdaBoost: Precision Recall Curve')\n",
    "    plt.xlabel('Threshold')\n",
    "    plt.legend()\n",
    "    plt.show()\n",
    "    return precision[:-1], recall[:-1], thresholds\n",
    "precision,recall,threshods = plot_prec_recall(y_test,y_1)"
   ]
  },
  {
   "cell_type": "code",
   "execution_count": 251,
   "metadata": {},
   "outputs": [
    {
     "name": "stdout",
     "output_type": "stream",
     "text": [
      "----- Balanced Precision and Recall Model -----\n",
      "percent of lots indicted = 1.69%\n",
      "recall (NC reduction) = 10.0%\n",
      "total number of predicted NCs = 2\n",
      "True Positives = 1.0\n",
      "precision = 50.0%\n"
     ]
    }
   ],
   "source": [
    "#thresholds\n",
    "print(5*'-'+' Balanced Precision and Recall Model '+5*'-')\n",
    "test_threshold = np.round(thresholds[11],4)\n",
    "print(f'percent of lots indicted = {round(100*len(y_1[y_1>=test_threshold])/len(y_1),2)}%')\n",
    "print(f'recall (NC reduction) = {round(100*recall[np.where(np.round(thresholds,4) == test_threshold)][0],2)}%')\n",
    "print(f'total number of predicted NCs = {len(y_1[y_1>=test_threshold])}')\n",
    "print(f'True Positives = {sum(y_test[np.where(y_1>=test_threshold)])}')\n",
    "print(f'precision = {round(100*precision[np.where(np.round(thresholds,4) == test_threshold)][0],2)}%')"
   ]
  },
  {
   "cell_type": "code",
   "execution_count": 212,
   "metadata": {},
   "outputs": [
    {
     "data": {
      "text/plain": [
       "DC00056758    0\n",
       "EXP5013       0\n",
       "EXP5050       0\n",
       "PT00009994    0\n",
       "0301001       0\n",
       "             ..\n",
       "R7102B        0\n",
       "76-V400       0\n",
       "R7515B        0\n",
       "63-N500       0\n",
       "NC            0\n",
       "Name: 0, Length: 772, dtype: object"
      ]
     },
     "execution_count": 212,
     "metadata": {},
     "output_type": "execute_result"
    }
   ],
   "source": [
    "df.iloc[0,4:]"
   ]
  },
  {
   "cell_type": "code",
   "execution_count": 237,
   "metadata": {},
   "outputs": [],
   "source": [
    "analysis_df = df.copy()\n",
    "for i, _ in enumerate(df['Lot Number']):\n",
    "    analysis_df.loc[i,'prediction'] = regr.predict(df.iloc[i,4:-1].to_numpy().reshape((1,-1)))\n",
    "\n"
   ]
  },
  {
   "cell_type": "code",
   "execution_count": null,
   "metadata": {},
   "outputs": [],
   "source": [
    "import seaborn as sns"
   ]
  },
  {
   "cell_type": "code",
   "execution_count": 240,
   "metadata": {},
   "outputs": [
    {
     "data": {
      "text/html": [
       "<div>\n",
       "<style scoped>\n",
       "    .dataframe tbody tr th:only-of-type {\n",
       "        vertical-align: middle;\n",
       "    }\n",
       "\n",
       "    .dataframe tbody tr th {\n",
       "        vertical-align: top;\n",
       "    }\n",
       "\n",
       "    .dataframe thead th {\n",
       "        text-align: right;\n",
       "    }\n",
       "</style>\n",
       "<table border=\"1\" class=\"dataframe\">\n",
       "  <thead>\n",
       "    <tr style=\"text-align: right;\">\n",
       "      <th></th>\n",
       "      <th>Lot Number</th>\n",
       "      <th>Product</th>\n",
       "      <th>Date</th>\n",
       "      <th>Shop Order</th>\n",
       "      <th>DC00056758</th>\n",
       "      <th>EXP5013</th>\n",
       "      <th>EXP5050</th>\n",
       "      <th>PT00009994</th>\n",
       "      <th>0301001</th>\n",
       "      <th>4001204</th>\n",
       "      <th>...</th>\n",
       "      <th>90-N120</th>\n",
       "      <th>R7067C</th>\n",
       "      <th>R7569B-Thin-Wall</th>\n",
       "      <th>R7024L</th>\n",
       "      <th>R7102B</th>\n",
       "      <th>76-V400</th>\n",
       "      <th>R7515B</th>\n",
       "      <th>63-N500</th>\n",
       "      <th>NC</th>\n",
       "      <th>prediction</th>\n",
       "    </tr>\n",
       "  </thead>\n",
       "  <tbody>\n",
       "    <tr>\n",
       "      <th>0</th>\n",
       "      <td>19G28063</td>\n",
       "      <td>8985CRS</td>\n",
       "      <td>2020-02-25</td>\n",
       "      <td>189592</td>\n",
       "      <td>0.0</td>\n",
       "      <td>0.0</td>\n",
       "      <td>0.0</td>\n",
       "      <td>0.0</td>\n",
       "      <td>0.0</td>\n",
       "      <td>0.0</td>\n",
       "      <td>...</td>\n",
       "      <td>0.0</td>\n",
       "      <td>0.0</td>\n",
       "      <td>0.0</td>\n",
       "      <td>0.0</td>\n",
       "      <td>0.0</td>\n",
       "      <td>0.0</td>\n",
       "      <td>0.0</td>\n",
       "      <td>0.0</td>\n",
       "      <td>0.0</td>\n",
       "      <td>0.222458</td>\n",
       "    </tr>\n",
       "    <tr>\n",
       "      <th>1</th>\n",
       "      <td>19H06863</td>\n",
       "      <td>8608U</td>\n",
       "      <td>2020-02-19</td>\n",
       "      <td>189686</td>\n",
       "      <td>0.0</td>\n",
       "      <td>0.0</td>\n",
       "      <td>0.0</td>\n",
       "      <td>0.0</td>\n",
       "      <td>0.0</td>\n",
       "      <td>0.0</td>\n",
       "      <td>...</td>\n",
       "      <td>0.0</td>\n",
       "      <td>0.0</td>\n",
       "      <td>0.0</td>\n",
       "      <td>0.0</td>\n",
       "      <td>0.0</td>\n",
       "      <td>0.0</td>\n",
       "      <td>0.0</td>\n",
       "      <td>0.0</td>\n",
       "      <td>0.0</td>\n",
       "      <td>0.415162</td>\n",
       "    </tr>\n",
       "    <tr>\n",
       "      <th>2</th>\n",
       "      <td>19H12063</td>\n",
       "      <td>8851</td>\n",
       "      <td>2020-03-04</td>\n",
       "      <td>189772</td>\n",
       "      <td>0.0</td>\n",
       "      <td>0.0</td>\n",
       "      <td>0.0</td>\n",
       "      <td>0.0</td>\n",
       "      <td>0.0</td>\n",
       "      <td>0.0</td>\n",
       "      <td>...</td>\n",
       "      <td>0.0</td>\n",
       "      <td>0.0</td>\n",
       "      <td>0.0</td>\n",
       "      <td>0.0</td>\n",
       "      <td>0.0</td>\n",
       "      <td>0.0</td>\n",
       "      <td>0.0</td>\n",
       "      <td>0.0</td>\n",
       "      <td>1.0</td>\n",
       "      <td>0.427623</td>\n",
       "    </tr>\n",
       "    <tr>\n",
       "      <th>3</th>\n",
       "      <td>19H17163</td>\n",
       "      <td>8851NB</td>\n",
       "      <td>2020-03-04</td>\n",
       "      <td>189853</td>\n",
       "      <td>0.0</td>\n",
       "      <td>0.0</td>\n",
       "      <td>0.0</td>\n",
       "      <td>0.0</td>\n",
       "      <td>0.0</td>\n",
       "      <td>0.0</td>\n",
       "      <td>...</td>\n",
       "      <td>0.0</td>\n",
       "      <td>0.0</td>\n",
       "      <td>0.0</td>\n",
       "      <td>0.0</td>\n",
       "      <td>0.0</td>\n",
       "      <td>0.0</td>\n",
       "      <td>0.0</td>\n",
       "      <td>0.0</td>\n",
       "      <td>0.0</td>\n",
       "      <td>0.415162</td>\n",
       "    </tr>\n",
       "    <tr>\n",
       "      <th>4</th>\n",
       "      <td>19H25863</td>\n",
       "      <td>31144010</td>\n",
       "      <td>2020-01-15</td>\n",
       "      <td>189982</td>\n",
       "      <td>0.0</td>\n",
       "      <td>0.0</td>\n",
       "      <td>0.0</td>\n",
       "      <td>0.0</td>\n",
       "      <td>0.0</td>\n",
       "      <td>0.0</td>\n",
       "      <td>...</td>\n",
       "      <td>0.0</td>\n",
       "      <td>0.0</td>\n",
       "      <td>0.0</td>\n",
       "      <td>0.0</td>\n",
       "      <td>0.0</td>\n",
       "      <td>0.0</td>\n",
       "      <td>0.0</td>\n",
       "      <td>0.0</td>\n",
       "      <td>0.0</td>\n",
       "      <td>0.409769</td>\n",
       "    </tr>\n",
       "    <tr>\n",
       "      <th>...</th>\n",
       "      <td>...</td>\n",
       "      <td>...</td>\n",
       "      <td>...</td>\n",
       "      <td>...</td>\n",
       "      <td>...</td>\n",
       "      <td>...</td>\n",
       "      <td>...</td>\n",
       "      <td>...</td>\n",
       "      <td>...</td>\n",
       "      <td>...</td>\n",
       "      <td>...</td>\n",
       "      <td>...</td>\n",
       "      <td>...</td>\n",
       "      <td>...</td>\n",
       "      <td>...</td>\n",
       "      <td>...</td>\n",
       "      <td>...</td>\n",
       "      <td>...</td>\n",
       "      <td>...</td>\n",
       "      <td>...</td>\n",
       "      <td>...</td>\n",
       "    </tr>\n",
       "    <tr>\n",
       "      <th>1166</th>\n",
       "      <td>21F26763</td>\n",
       "      <td>8980S</td>\n",
       "      <td>2021-07-07</td>\n",
       "      <td>198038</td>\n",
       "      <td>0.0</td>\n",
       "      <td>0.0</td>\n",
       "      <td>0.0</td>\n",
       "      <td>0.0</td>\n",
       "      <td>0.0</td>\n",
       "      <td>0.0</td>\n",
       "      <td>...</td>\n",
       "      <td>0.0</td>\n",
       "      <td>0.0</td>\n",
       "      <td>0.0</td>\n",
       "      <td>0.0</td>\n",
       "      <td>0.0</td>\n",
       "      <td>0.0</td>\n",
       "      <td>0.0</td>\n",
       "      <td>0.0</td>\n",
       "      <td>0.0</td>\n",
       "      <td>0.433014</td>\n",
       "    </tr>\n",
       "    <tr>\n",
       "      <th>1167</th>\n",
       "      <td>21F28363</td>\n",
       "      <td>31323358</td>\n",
       "      <td>2021-07-12</td>\n",
       "      <td>198054</td>\n",
       "      <td>0.0</td>\n",
       "      <td>0.0</td>\n",
       "      <td>0.0</td>\n",
       "      <td>0.0</td>\n",
       "      <td>0.0</td>\n",
       "      <td>0.0</td>\n",
       "      <td>...</td>\n",
       "      <td>0.0</td>\n",
       "      <td>0.0</td>\n",
       "      <td>0.0</td>\n",
       "      <td>0.0</td>\n",
       "      <td>0.0</td>\n",
       "      <td>0.0</td>\n",
       "      <td>0.0</td>\n",
       "      <td>0.0</td>\n",
       "      <td>0.0</td>\n",
       "      <td>0.415162</td>\n",
       "    </tr>\n",
       "    <tr>\n",
       "      <th>1168</th>\n",
       "      <td>21F32363</td>\n",
       "      <td>85121</td>\n",
       "      <td>2021-07-26</td>\n",
       "      <td>198110</td>\n",
       "      <td>0.0</td>\n",
       "      <td>0.0</td>\n",
       "      <td>0.0</td>\n",
       "      <td>0.0</td>\n",
       "      <td>0.0</td>\n",
       "      <td>0.0</td>\n",
       "      <td>...</td>\n",
       "      <td>0.0</td>\n",
       "      <td>0.0</td>\n",
       "      <td>0.0</td>\n",
       "      <td>0.0</td>\n",
       "      <td>0.0</td>\n",
       "      <td>0.0</td>\n",
       "      <td>0.0</td>\n",
       "      <td>0.0</td>\n",
       "      <td>1.0</td>\n",
       "      <td>0.415162</td>\n",
       "    </tr>\n",
       "    <tr>\n",
       "      <th>1169</th>\n",
       "      <td>21G07063</td>\n",
       "      <td>8989</td>\n",
       "      <td>2021-07-15</td>\n",
       "      <td>198250</td>\n",
       "      <td>0.0</td>\n",
       "      <td>0.0</td>\n",
       "      <td>0.0</td>\n",
       "      <td>0.0</td>\n",
       "      <td>0.0</td>\n",
       "      <td>0.0</td>\n",
       "      <td>...</td>\n",
       "      <td>0.0</td>\n",
       "      <td>0.0</td>\n",
       "      <td>0.0</td>\n",
       "      <td>0.0</td>\n",
       "      <td>0.0</td>\n",
       "      <td>0.0</td>\n",
       "      <td>0.0</td>\n",
       "      <td>0.0</td>\n",
       "      <td>0.0</td>\n",
       "      <td>0.426230</td>\n",
       "    </tr>\n",
       "    <tr>\n",
       "      <th>1170</th>\n",
       "      <td>21G14163</td>\n",
       "      <td>31143665</td>\n",
       "      <td>2021-07-28</td>\n",
       "      <td>198337</td>\n",
       "      <td>0.0</td>\n",
       "      <td>0.0</td>\n",
       "      <td>0.0</td>\n",
       "      <td>0.0</td>\n",
       "      <td>0.0</td>\n",
       "      <td>0.0</td>\n",
       "      <td>...</td>\n",
       "      <td>0.0</td>\n",
       "      <td>0.0</td>\n",
       "      <td>0.0</td>\n",
       "      <td>0.0</td>\n",
       "      <td>0.0</td>\n",
       "      <td>0.0</td>\n",
       "      <td>0.0</td>\n",
       "      <td>0.0</td>\n",
       "      <td>0.0</td>\n",
       "      <td>0.439410</td>\n",
       "    </tr>\n",
       "  </tbody>\n",
       "</table>\n",
       "<p>1171 rows × 777 columns</p>\n",
       "</div>"
      ],
      "text/plain": [
       "     Lot Number   Product       Date Shop Order  DC00056758  EXP5013  EXP5050  \\\n",
       "0      19G28063   8985CRS 2020-02-25     189592         0.0      0.0      0.0   \n",
       "1      19H06863     8608U 2020-02-19     189686         0.0      0.0      0.0   \n",
       "2      19H12063      8851 2020-03-04     189772         0.0      0.0      0.0   \n",
       "3      19H17163    8851NB 2020-03-04     189853         0.0      0.0      0.0   \n",
       "4      19H25863  31144010 2020-01-15     189982         0.0      0.0      0.0   \n",
       "...         ...       ...        ...        ...         ...      ...      ...   \n",
       "1166   21F26763     8980S 2021-07-07     198038         0.0      0.0      0.0   \n",
       "1167   21F28363  31323358 2021-07-12     198054         0.0      0.0      0.0   \n",
       "1168   21F32363     85121 2021-07-26     198110         0.0      0.0      0.0   \n",
       "1169   21G07063      8989 2021-07-15     198250         0.0      0.0      0.0   \n",
       "1170   21G14163  31143665 2021-07-28     198337         0.0      0.0      0.0   \n",
       "\n",
       "      PT00009994  0301001  4001204  ...  90-N120  R7067C  R7569B-Thin-Wall  \\\n",
       "0            0.0      0.0      0.0  ...      0.0     0.0               0.0   \n",
       "1            0.0      0.0      0.0  ...      0.0     0.0               0.0   \n",
       "2            0.0      0.0      0.0  ...      0.0     0.0               0.0   \n",
       "3            0.0      0.0      0.0  ...      0.0     0.0               0.0   \n",
       "4            0.0      0.0      0.0  ...      0.0     0.0               0.0   \n",
       "...          ...      ...      ...  ...      ...     ...               ...   \n",
       "1166         0.0      0.0      0.0  ...      0.0     0.0               0.0   \n",
       "1167         0.0      0.0      0.0  ...      0.0     0.0               0.0   \n",
       "1168         0.0      0.0      0.0  ...      0.0     0.0               0.0   \n",
       "1169         0.0      0.0      0.0  ...      0.0     0.0               0.0   \n",
       "1170         0.0      0.0      0.0  ...      0.0     0.0               0.0   \n",
       "\n",
       "      R7024L  R7102B  76-V400  R7515B  63-N500   NC  prediction  \n",
       "0        0.0     0.0      0.0     0.0      0.0  0.0    0.222458  \n",
       "1        0.0     0.0      0.0     0.0      0.0  0.0    0.415162  \n",
       "2        0.0     0.0      0.0     0.0      0.0  1.0    0.427623  \n",
       "3        0.0     0.0      0.0     0.0      0.0  0.0    0.415162  \n",
       "4        0.0     0.0      0.0     0.0      0.0  0.0    0.409769  \n",
       "...      ...     ...      ...     ...      ...  ...         ...  \n",
       "1166     0.0     0.0      0.0     0.0      0.0  0.0    0.433014  \n",
       "1167     0.0     0.0      0.0     0.0      0.0  0.0    0.415162  \n",
       "1168     0.0     0.0      0.0     0.0      0.0  1.0    0.415162  \n",
       "1169     0.0     0.0      0.0     0.0      0.0  0.0    0.426230  \n",
       "1170     0.0     0.0      0.0     0.0      0.0  0.0    0.439410  \n",
       "\n",
       "[1171 rows x 777 columns]"
      ]
     },
     "execution_count": 240,
     "metadata": {},
     "output_type": "execute_result"
    }
   ],
   "source": [
    "analysis_df"
   ]
  },
  {
   "cell_type": "code",
   "execution_count": 250,
   "metadata": {},
   "outputs": [
    {
     "data": {
      "text/plain": [
       "<AxesSubplot:xlabel='NC', ylabel='prediction'>"
      ]
     },
     "execution_count": 250,
     "metadata": {},
     "output_type": "execute_result"
    },
    {
     "data": {
      "image/png": "[encoded data removed]",
      "text/plain": [
       "<Figure size 432x288 with 1 Axes>"
      ]
     },
     "metadata": {},
     "output_type": "display_data"
    }
   ],
   "source": [
    "sns.swarmplot(x=\"NC\", y=\"prediction\", data=analysis_df.iloc[1000:,:])"
   ]
  },
  {
   "cell_type": "code",
   "execution_count": null,
   "metadata": {},
   "outputs": [],
   "source": []
  },
  {
   "cell_type": "code",
   "execution_count": 165,
   "metadata": {},
   "outputs": [
    {
     "data": {
      "text/plain": [
       "array([0.38755981, 0.38932147, 0.3894081 , 0.40540541, 0.40976934,\n",
       "       0.41516245, 0.42622951, 0.42762284, 0.43301435, 0.43940991,\n",
       "       0.44186047, 0.49010989])"
      ]
     },
     "execution_count": 165,
     "metadata": {},
     "output_type": "execute_result"
    }
   ],
   "source": [
    "thresholds"
   ]
  },
  {
   "cell_type": "code",
   "execution_count": 142,
   "metadata": {},
   "outputs": [
    {
     "name": "stdout",
     "output_type": "stream",
     "text": [
      "0 0.06976744186046512\n",
      "1 0.06711409395973154\n",
      "2 0.06825938566552901\n",
      "3 0.07547169811320754\n",
      "4 0.07421875\n",
      "5 0.07659574468085106\n",
      "6 0.07792207792207792\n",
      "7 0.07860262008733625\n",
      "8 0.12903225806451613\n",
      "9 0.25\n",
      "10 0.3333333333333333\n",
      "11 0.5\n",
      "12 0.0\n"
     ]
    }
   ],
   "source": [
    "for i, t in enumerate(precision):\n",
    "    print(i,t)"
   ]
  },
  {
   "cell_type": "code",
   "execution_count": 155,
   "metadata": {},
   "outputs": [],
   "source": [
    "# 'real worldish test'\n",
    "rw_test_df = df[df.Date > pd.to_datetime('6/01/2021')]\n",
    "rw_test_df = rw_test_df[rw_test_df.columns[4:]].to_numpy().copy()"
   ]
  },
  {
   "cell_type": "code",
   "execution_count": 156,
   "metadata": {},
   "outputs": [],
   "source": [
    "X_rw = rw_test_df[:,:-1]\n",
    "y_rw = rw_test_df[:,-1]"
   ]
  },
  {
   "cell_type": "code",
   "execution_count": 157,
   "metadata": {},
   "outputs": [],
   "source": [
    "y_rw_g = regr.predict(X_rw)"
   ]
  },
  {
   "cell_type": "code",
   "execution_count": 158,
   "metadata": {},
   "outputs": [
    {
     "data": {
      "image/png": "[encoded data removed]",
      "text/plain": [
       "<Figure size 432x288 with 1 Axes>"
      ]
     },
     "metadata": {},
     "output_type": "display_data"
    },
    {
     "data": {
      "text/plain": [
       "(array([0.19148936, 0.14285714, 0.        ]),\n",
       " array([1.        , 0.11111111, 0.        ]),\n",
       " array([0.26386807, 0.26746167, 0.36111111]))"
      ]
     },
     "execution_count": 158,
     "metadata": {},
     "output_type": "execute_result"
    }
   ],
   "source": [
    "plot_prec_recall(y_rw,y_rw_g)"
   ]
  },
  {
   "cell_type": "code",
   "execution_count": 164,
   "metadata": {},
   "outputs": [
    {
     "data": {
      "text/plain": [
       "0.3611111111111111"
      ]
     },
     "execution_count": 164,
     "metadata": {},
     "output_type": "execute_result"
    }
   ],
   "source": [
    "max(y_rw_g)"
   ]
  },
  {
   "cell_type": "code",
   "execution_count": 160,
   "metadata": {},
   "outputs": [
    {
     "data": {
      "text/plain": [
       "array([0., 0., 0., 0., 0., 0., 0., 0., 0., 0., 1., 0., 0., 0., 0., 0., 0.,\n",
       "       0., 0., 0., 0., 0., 0., 0., 0., 0., 0., 0., 1., 0., 0., 0., 0., 0.,\n",
       "       1., 0., 0., 0., 1., 0., 0., 0., 0., 0., 0., 1., 0., 1., 0., 0., 0.,\n",
       "       1., 0., 0., 0., 0., 0., 0., 0., 1., 0., 0., 0., 0., 0., 0., 0., 0.,\n",
       "       0., 0., 0., 0., 1., 0., 0.])"
      ]
     },
     "execution_count": 160,
     "metadata": {},
     "output_type": "execute_result"
    }
   ],
   "source": [
    "y_rw"
   ]
  },
  {
   "cell_type": "code",
   "execution_count": null,
   "metadata": {},
   "outputs": [],
   "source": []
  },
  {
   "cell_type": "code",
   "execution_count": null,
   "metadata": {},
   "outputs": [],
   "source": []
  },
  {
   "cell_type": "code",
   "execution_count": 98,
   "metadata": {},
   "outputs": [],
   "source": [
    "import datetime as dt"
   ]
  },
  {
   "cell_type": "code",
   "execution_count": 103,
   "metadata": {},
   "outputs": [
    {
     "data": {
      "text/plain": [
       "Timestamp('2021-08-01 00:00:00')"
      ]
     },
     "execution_count": 103,
     "metadata": {},
     "output_type": "execute_result"
    }
   ],
   "source": [
    "pd.to_datetime('8/01/2021')"
   ]
  },
  {
   "cell_type": "code",
   "execution_count": 39,
   "metadata": {},
   "outputs": [],
   "source": [
    "pd.DataFrame(X_train).to_csv('./training_data_v1.0/X_train.csv')"
   ]
  },
  {
   "cell_type": "code",
   "execution_count": 40,
   "metadata": {},
   "outputs": [],
   "source": [
    "pd.DataFrame(X_test).to_csv('./training_data_v1.0/X_test.csv')\n",
    "pd.DataFrame(y_train).to_csv('./training_data_v1.0/y_train.csv')\n",
    "pd.DataFrame(y_test).to_csv('./training_data_v1.0/y_test.csv')"
   ]
  },
  {
   "cell_type": "markdown",
   "metadata": {},
   "source": [
    "### Cross Validation\n",
    "\n",
    "[return](#tableofcontents)"
   ]
  },
  {
   "cell_type": "code",
   "execution_count": 166,
   "metadata": {},
   "outputs": [],
   "source": [
    "X = cleaned_data[:,:-1]\n",
    "y = cleaned_data[:,-1]"
   ]
  },
  {
   "cell_type": "code",
   "execution_count": 254,
   "metadata": {},
   "outputs": [
    {
     "data": {
      "text/plain": [
       "93.0"
      ]
     },
     "execution_count": 254,
     "metadata": {},
     "output_type": "execute_result"
    }
   ],
   "source": [
    "sum(y)"
   ]
  },
  {
   "cell_type": "code",
   "execution_count": null,
   "metadata": {},
   "outputs": [],
   "source": []
  },
  {
   "cell_type": "code",
   "execution_count": 257,
   "metadata": {},
   "outputs": [],
   "source": [
    "from sklearn.model_selection import RepeatedKFold\n",
    "from sklearn.model_selection import cross_val_score\n",
    "from sklearn.linear_model import LogisticRegression\n",
    "from sklearn.linear_model import LinearRegression\n",
    "from sklearn.ensemble import AdaBoostClassifier"
   ]
  },
  {
   "cell_type": "code",
   "execution_count": 50,
   "metadata": {},
   "outputs": [],
   "source": [
    "cv = RepeatedKFold(n_splits=3, n_repeats=3, random_state=1)"
   ]
  },
  {
   "cell_type": "code",
   "execution_count": 262,
   "metadata": {},
   "outputs": [],
   "source": [
    "model = AdaBoostRegressor(DecisionTreeRegressor(max_depth=20),\n",
    "                          n_estimators=300, random_state=rng)\n",
    "model = LogisticRegression()\n",
    "model = AdaBoostClassifier()"
   ]
  },
  {
   "cell_type": "code",
   "execution_count": 263,
   "metadata": {},
   "outputs": [
    {
     "name": "stdout",
     "output_type": "stream",
     "text": [
      "Accuracy: 0.911 (0.011)\n"
     ]
    }
   ],
   "source": [
    "scores = cross_val_score(model, X, y, scoring='accuracy', cv=cv, n_jobs=-1)\n",
    "print('Accuracy: %.3f (%.3f)' % (np.mean(scores), np.std(scores)))"
   ]
  },
  {
   "cell_type": "code",
   "execution_count": 175,
   "metadata": {},
   "outputs": [
    {
     "data": {
      "text/plain": [
       "LinearRegression()"
      ]
     },
     "execution_count": 175,
     "metadata": {},
     "output_type": "execute_result"
    }
   ],
   "source": [
    "model.fit(X_train,y_train)"
   ]
  },
  {
   "cell_type": "code",
   "execution_count": null,
   "metadata": {},
   "outputs": [],
   "source": [
    "y_results = model.predict(X_test)"
   ]
  },
  {
   "cell_type": "code",
   "execution_count": null,
   "metadata": {},
   "outputs": [],
   "source": [
    "precision, recall, thresholds = precision_recall_curve(y_test,y_results)"
   ]
  },
  {
   "cell_type": "code",
   "execution_count": null,
   "metadata": {},
   "outputs": [],
   "source": [
    "plt.plot(thresholds,precision[:-1],label = 'Precision')\n",
    "plt.plot(thresholds,recall[:-1],label = 'Recall')\n",
    "plt.title('AdaBoost: Precision Recall Curve')\n",
    "plt.xlabel('Threshold')\n",
    "plt.legend()\n",
    "plt.show()"
   ]
  },
  {
   "cell_type": "code",
   "execution_count": null,
   "metadata": {},
   "outputs": [],
   "source": [
    "thresholds"
   ]
  },
  {
   "cell_type": "code",
   "execution_count": null,
   "metadata": {},
   "outputs": [],
   "source": [
    "#thresholds\n",
    "print(5*'-'+' Balanced Precision and Recall Model '+5*'-')\n",
    "test_threshold = np.round(0.3125,4)\n",
    "print(f'percent of lots indicted = {round(100*len(y_2[y_2>=test_threshold])/len(y_2),2)}%')\n",
    "print(f'recall (NC reduction) = {round(100*recall[np.where(np.round(thresholds,4) == test_threshold)][0],2)}%')\n",
    "print(f'total number of predicted NCs = {len(y_2[y_2>=test_threshold])}')\n",
    "print(f'True Positives = {sum(y_test[np.where(y_2>=test_threshold)])}')\n",
    "print(f'precision = {round(100*precision[np.where(np.round(thresholds,4) == test_threshold)][0],2)}%')"
   ]
  },
  {
   "cell_type": "code",
   "execution_count": null,
   "metadata": {},
   "outputs": [],
   "source": [
    "y_results"
   ]
  },
  {
   "cell_type": "code",
   "execution_count": null,
   "metadata": {},
   "outputs": [],
   "source": [
    "y_test"
   ]
  },
  {
   "cell_type": "code",
   "execution_count": null,
   "metadata": {},
   "outputs": [],
   "source": []
  },
  {
   "cell_type": "code",
   "execution_count": null,
   "metadata": {},
   "outputs": [],
   "source": []
  },
  {
   "cell_type": "code",
   "execution_count": null,
   "metadata": {},
   "outputs": [],
   "source": []
  },
  {
   "cell_type": "code",
   "execution_count": null,
   "metadata": {},
   "outputs": [],
   "source": []
  },
  {
   "cell_type": "code",
   "execution_count": null,
   "metadata": {},
   "outputs": [],
   "source": [
    "pd.DataFrame(thresholds).to_csv('./training_data_v1.0/example_thresholds.csv')"
   ]
  },
  {
   "cell_type": "code",
   "execution_count": null,
   "metadata": {},
   "outputs": [],
   "source": [
    "import pickle"
   ]
  },
  {
   "cell_type": "code",
   "execution_count": null,
   "metadata": {},
   "outputs": [],
   "source": [
    "filename = 'ada_boost_v1.sav'\n",
    "ada_boost_v1 = pickle.dump(regr_2,open(filename,'wb'))"
   ]
  },
  {
   "cell_type": "code",
   "execution_count": null,
   "metadata": {},
   "outputs": [],
   "source": [
    "from joblib import dump, load\n",
    "dump(regr_2, 'ada_boost_v1.joblib') "
   ]
  },
  {
   "cell_type": "code",
   "execution_count": null,
   "metadata": {},
   "outputs": [],
   "source": [
    "pd.DataFrame(recall[1:]).to_csv('./training_data_v1.0/example_recall.csv')"
   ]
  },
  {
   "cell_type": "code",
   "execution_count": null,
   "metadata": {},
   "outputs": [],
   "source": [
    "pd.DataFrame(precision[:-1]).to_csv('./training_data_v1.0/example_precision.csv')"
   ]
  },
  {
   "cell_type": "code",
   "execution_count": null,
   "metadata": {},
   "outputs": [],
   "source": [
    "print(f'Number of SOs = {len(y_2)}')\n",
    "print(f'Number of NCs = {sum(y_test)}')\n",
    "print(f'Percent of SO with NCs in Test data = {round(100*sum(y_test)/len(y_2))}%')"
   ]
  },
  {
   "cell_type": "markdown",
   "metadata": {},
   "source": [
    "### Decision Tree Regressor results <a name = dtrresults></a>\n",
    "[return](#tableofcontents)"
   ]
  },
  {
   "cell_type": "code",
   "execution_count": null,
   "metadata": {},
   "outputs": [],
   "source": [
    "precision, recall, thresholds = precision_recall_curve(y_test,y_1)"
   ]
  },
  {
   "cell_type": "code",
   "execution_count": null,
   "metadata": {},
   "outputs": [],
   "source": [
    "plt.plot(thresholds,precision[:-1],label = 'Precision')\n",
    "plt.plot(thresholds,recall[:-1],label = 'Recall')\n",
    "plt.title('Precision Recall Curve')\n",
    "plt.legend()\n",
    "plt.show()"
   ]
  },
  {
   "cell_type": "code",
   "execution_count": null,
   "metadata": {},
   "outputs": [],
   "source": [
    "thresholds"
   ]
  },
  {
   "cell_type": "code",
   "execution_count": null,
   "metadata": {},
   "outputs": [],
   "source": [
    "precision[:-1]"
   ]
  },
  {
   "cell_type": "code",
   "execution_count": null,
   "metadata": {},
   "outputs": [],
   "source": [
    "recall[:-1]"
   ]
  },
  {
   "cell_type": "code",
   "execution_count": null,
   "metadata": {},
   "outputs": [],
   "source": [
    "y_1[y_1>=1]"
   ]
  },
  {
   "cell_type": "markdown",
   "metadata": {},
   "source": [
    "### Nearest Neighbors <a name = nn></a>\n",
    "[return](#tableofcontents)"
   ]
  },
  {
   "cell_type": "code",
   "execution_count": null,
   "metadata": {},
   "outputs": [],
   "source": [
    "from sklearn import neighbors"
   ]
  },
  {
   "cell_type": "code",
   "execution_count": null,
   "metadata": {},
   "outputs": [],
   "source": [
    "n_neighbors = 15\n",
    "clf = neighbors.KNeighborsClassifier(n_neighbors, weights='distance')\n",
    "clf.fit(X_train,y_train)"
   ]
  },
  {
   "cell_type": "code",
   "execution_count": null,
   "metadata": {},
   "outputs": [],
   "source": [
    "nn_results = clf.predict(X_test)"
   ]
  },
  {
   "cell_type": "code",
   "execution_count": null,
   "metadata": {},
   "outputs": [],
   "source": [
    "nn_precision, nn_recall, nn_thresholds = precision_recall_curve(y_test,nn_results)"
   ]
  },
  {
   "cell_type": "code",
   "execution_count": null,
   "metadata": {},
   "outputs": [],
   "source": [
    "plt.plot(nn_thresholds,nn_precision[:-1],label = 'Precision')\n",
    "plt.plot(nn_thresholds,nn_recall[:-1],label = 'Recall')\n",
    "plt.title('NN: Precision Recall Curve')\n",
    "plt.xlabel('Threshold')\n",
    "plt.legend()\n",
    "plt.show()"
   ]
  },
  {
   "cell_type": "code",
   "execution_count": null,
   "metadata": {},
   "outputs": [],
   "source": [
    "nn_precision"
   ]
  },
  {
   "cell_type": "markdown",
   "metadata": {},
   "source": [
    "## Dimensional Reduction <a name = \"dimensionalreduction\"></a>\n",
    "[return](#tableofcontents)"
   ]
  },
  {
   "cell_type": "markdown",
   "metadata": {},
   "source": [
    "### PCA <a name = pca></a>\n",
    "[return](#tableofcontents)"
   ]
  },
  {
   "cell_type": "code",
   "execution_count": null,
   "metadata": {},
   "outputs": [],
   "source": [
    "from sklearn import decomposition"
   ]
  },
  {
   "cell_type": "code",
   "execution_count": null,
   "metadata": {},
   "outputs": [],
   "source": [
    "pca = decomposition.PCA(n_components=3)\n",
    "pca.fit(X_test)"
   ]
  },
  {
   "cell_type": "code",
   "execution_count": null,
   "metadata": {},
   "outputs": [],
   "source": [
    "X_pca = pca.transform(X_test)"
   ]
  },
  {
   "cell_type": "code",
   "execution_count": null,
   "metadata": {},
   "outputs": [],
   "source": [
    "PCA_ADA_model = AdaBoostRegressor(DecisionTreeRegressor(max_depth=8),\n",
    "                          n_estimators=300, random_state=rng)"
   ]
  },
  {
   "cell_type": "code",
   "execution_count": null,
   "metadata": {},
   "outputs": [],
   "source": [
    "PCA_ADA_model.fit(X_train,y_train)"
   ]
  },
  {
   "cell_type": "code",
   "execution_count": null,
   "metadata": {},
   "outputs": [],
   "source": [
    "y_pca_ada = PCA_ADA_model.predict(X_test)"
   ]
  },
  {
   "cell_type": "code",
   "execution_count": null,
   "metadata": {},
   "outputs": [],
   "source": [
    "precision_pca, recall_pca, thresholds_pca = precision_recall_curve(y_test,y_pca_ada)"
   ]
  },
  {
   "cell_type": "code",
   "execution_count": null,
   "metadata": {},
   "outputs": [],
   "source": [
    "plt.plot(thresholds_pca,precision_pca[:-1],label = 'Precision')\n",
    "plt.plot(thresholds_pca,recall_pca[:-1],label = 'Recall')\n",
    "plt.title('AdaBoost: Precision Recall Curve')\n",
    "plt.xlabel('Threshold')\n",
    "plt.legend()\n",
    "plt.show()"
   ]
  },
  {
   "cell_type": "code",
   "execution_count": null,
   "metadata": {},
   "outputs": [],
   "source": [
    "precision_pca[:-1]"
   ]
  },
  {
   "cell_type": "code",
   "execution_count": null,
   "metadata": {},
   "outputs": [],
   "source": [
    "thresholds_pca"
   ]
  },
  {
   "cell_type": "code",
   "execution_count": null,
   "metadata": {},
   "outputs": [],
   "source": [
    "test_threshold = np.round(0.47771836,4)\n",
    "print(f'recall = {round(recall_pca[np.where(np.round(thresholds_pca,4) == test_threshold)][0],4)}')\n",
    "print(f'precision = {round(precision_pca[np.where(np.round(thresholds_pca,4) == test_threshold)][0],4)}')\n",
    "print(f'number of predicted NCs = {len(y_2[y_2>=test_threshold])}')\n",
    "print(f'True Positives = {sum(y_test[np.where(y_2>=test_threshold)])}')"
   ]
  },
  {
   "cell_type": "code",
   "execution_count": null,
   "metadata": {},
   "outputs": [],
   "source": []
  }
 ],
 "metadata": {
  "kernelspec": {
   "display_name": "Python 3.8.3 32-bit",
   "language": "python",
   "name": "python38332bit2b8480b44fa447f4ab201d5dd8281470"
  },
  "language_info": {
   "codemirror_mode": {
    "name": "ipython",
    "version": 3
   },
   "file_extension": ".py",
   "mimetype": "text/x-python",
   "name": "python",
   "nbconvert_exporter": "python",
   "pygments_lexer": "ipython3",
   "version": "3.8.3"
  }
 },
 "nbformat": 4,
 "nbformat_minor": 4
}
