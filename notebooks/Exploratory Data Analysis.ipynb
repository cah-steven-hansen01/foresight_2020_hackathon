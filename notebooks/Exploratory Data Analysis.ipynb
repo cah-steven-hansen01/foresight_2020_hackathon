{
 "cells": [
  {
   "cell_type": "code",
   "execution_count": 1,
   "id": "f4d88356",
   "metadata": {},
   "outputs": [],
   "source": [
    "### only run once! sets up working directory to be /quality_issue_predictor\n",
    "import os\n",
    "os.chdir(os.getcwd()[:-34] + r'\\quality_issue_predictor') "
   ]
  },
  {
   "cell_type": "code",
   "execution_count": 2,
   "id": "c60309c8",
   "metadata": {},
   "outputs": [],
   "source": [
    "import pandas as pd\n",
    "\n",
    "import data_cleaner as dc"
   ]
  },
  {
   "cell_type": "code",
   "execution_count": null,
   "id": "c9b9f544",
   "metadata": {},
   "outputs": [],
   "source": [
    "data_cleaner = dc.Data_Cleaner()\n",
    "data_cleaner.open_pipe()"
   ]
  },
  {
   "cell_type": "code",
   "execution_count": null,
   "id": "bc0217db",
   "metadata": {},
   "outputs": [],
   "source": [
    "arch_so_df = data_cleaner.pull_arch_so()\n",
    "curr_so_df = data_cleaner.pull_current_so()\n",
    "plantstar_df = data_cleaner.pull_plantstar()"
   ]
  },
  {
   "cell_type": "code",
   "execution_count": null,
   "id": "4eea9d40",
   "metadata": {},
   "outputs": [],
   "source": []
  }
 ],
 "metadata": {
  "kernelspec": {
   "display_name": "Python 3 (ipykernel)",
   "language": "python",
   "name": "python3"
  },
  "language_info": {
   "codemirror_mode": {
    "name": "ipython",
    "version": 3
   },
   "file_extension": ".py",
   "mimetype": "text/x-python",
   "name": "python",
   "nbconvert_exporter": "python",
   "pygments_lexer": "ipython3",
   "version": "3.9.5"
  }
 },
 "nbformat": 4,
 "nbformat_minor": 5
}
