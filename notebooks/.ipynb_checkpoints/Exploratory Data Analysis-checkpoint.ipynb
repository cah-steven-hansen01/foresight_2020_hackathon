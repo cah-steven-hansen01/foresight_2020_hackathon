{
 "cells": [
  {
   "cell_type": "code",
   "execution_count": 1,
   "id": "c3e142e8",
   "metadata": {},
   "outputs": [],
   "source": [
    "### only run once! sets up working directory to be /quality_issue_predictor\n",
    "import os\n",
    "os.chdir(os.getcwd()[:-34] + r'\\quality_issue_predictor') "
   ]
  },
  {
   "cell_type": "code",
   "execution_count": 2,
   "id": "e2f5b43c",
   "metadata": {},
   "outputs": [],
   "source": [
    "import pandas as pd\n",
    "\n",
    "import data_cleaner as dc"
   ]
  },
  {
   "cell_type": "code",
   "execution_count": 3,
   "id": "954bd4f2",
   "metadata": {},
   "outputs": [
    {
     "name": "stdout",
     "output_type": "stream",
     "text": [
      "Succesfully loaded the following sheets: \n",
      "archived SO, shape = (91114, 24)\n",
      "Current SO, shape = (4337, 24)\n",
      "Plantstar, shape = (142817, 23)\n"
     ]
    }
   ],
   "source": [
    "data_cleaner = dc.Data_Cleaner()\n",
    "data_cleaner.open_pipe()"
   ]
  },
  {
   "cell_type": "code",
   "execution_count": 4,
   "id": "8f19368f",
   "metadata": {},
   "outputs": [
    {
     "name": "stdout",
     "output_type": "stream",
     "text": [
      "cleaning archived SO data\n",
      "Checking lot format on archived SOs\n",
      "archived shop order data shape = (73239, 12)\n",
      "cleaning Current SO\n",
      "Current SO clean shape = (4337, 14)\n",
      "cleaning Plantstar\n",
      "Plantstar clean shape = (142160, 10)\n"
     ]
    }
   ],
   "source": [
    "arch_so_df = data_cleaner.pull_arch_so()\n",
    "curr_so_df = data_cleaner.pull_current_so()\n",
    "plantstar_df = data_cleaner.pull_plantstar()"
   ]
  },
  {
   "cell_type": "code",
   "execution_count": 5,
   "id": "99fdf71c",
   "metadata": {},
   "outputs": [
    {
     "data": {
      "text/html": [
       "<div>\n",
       "<style scoped>\n",
       "    .dataframe tbody tr th:only-of-type {\n",
       "        vertical-align: middle;\n",
       "    }\n",
       "\n",
       "    .dataframe tbody tr th {\n",
       "        vertical-align: top;\n",
       "    }\n",
       "\n",
       "    .dataframe thead th {\n",
       "        text-align: right;\n",
       "    }\n",
       "</style>\n",
       "<table border=\"1\" class=\"dataframe\">\n",
       "  <thead>\n",
       "    <tr style=\"text-align: right;\">\n",
       "      <th></th>\n",
       "      <th>Shop Order</th>\n",
       "      <th>Component</th>\n",
       "      <th>MRdate</th>\n",
       "      <th>MQISS</th>\n",
       "      <th>Product</th>\n",
       "      <th>BOM qty</th>\n",
       "      <th>MOPNO</th>\n",
       "      <th>Finished qty</th>\n",
       "      <th>MQREQ</th>\n",
       "      <th>Requested qty</th>\n",
       "      <th>Lot Number</th>\n",
       "      <th>Date</th>\n",
       "    </tr>\n",
       "  </thead>\n",
       "  <tbody>\n",
       "    <tr>\n",
       "      <th>3</th>\n",
       "      <td>186151</td>\n",
       "      <td>RM129</td>\n",
       "      <td>20190422</td>\n",
       "      <td>57534.048</td>\n",
       "      <td>V8536</td>\n",
       "      <td>20.592</td>\n",
       "      <td>20</td>\n",
       "      <td>2794.0</td>\n",
       "      <td>57451.68</td>\n",
       "      <td>2790.0</td>\n",
       "      <td>18M09063</td>\n",
       "      <td>2019-04-22</td>\n",
       "    </tr>\n",
       "    <tr>\n",
       "      <th>4</th>\n",
       "      <td>186151</td>\n",
       "      <td>RM093</td>\n",
       "      <td>20190422</td>\n",
       "      <td>0.000</td>\n",
       "      <td>V8536</td>\n",
       "      <td>0.000</td>\n",
       "      <td>20</td>\n",
       "      <td>2794.0</td>\n",
       "      <td>0.00</td>\n",
       "      <td>2790.0</td>\n",
       "      <td>18M09063</td>\n",
       "      <td>2019-04-22</td>\n",
       "    </tr>\n",
       "    <tr>\n",
       "      <th>5</th>\n",
       "      <td>186151</td>\n",
       "      <td>RM160</td>\n",
       "      <td>20190422</td>\n",
       "      <td>0.000</td>\n",
       "      <td>V8536</td>\n",
       "      <td>0.000</td>\n",
       "      <td>20</td>\n",
       "      <td>2794.0</td>\n",
       "      <td>0.00</td>\n",
       "      <td>2790.0</td>\n",
       "      <td>18M09063</td>\n",
       "      <td>2019-04-22</td>\n",
       "    </tr>\n",
       "    <tr>\n",
       "      <th>9</th>\n",
       "      <td>182831</td>\n",
       "      <td>FS10017466</td>\n",
       "      <td>20190901</td>\n",
       "      <td>0.000</td>\n",
       "      <td>8881907102</td>\n",
       "      <td>0.000</td>\n",
       "      <td>0</td>\n",
       "      <td>120.0</td>\n",
       "      <td>0.00</td>\n",
       "      <td>120.0</td>\n",
       "      <td>18C16263X</td>\n",
       "      <td>2019-09-01</td>\n",
       "    </tr>\n",
       "    <tr>\n",
       "      <th>10</th>\n",
       "      <td>182831</td>\n",
       "      <td>EXP6021</td>\n",
       "      <td>20190901</td>\n",
       "      <td>0.000</td>\n",
       "      <td>8881907102</td>\n",
       "      <td>0.000</td>\n",
       "      <td>0</td>\n",
       "      <td>120.0</td>\n",
       "      <td>0.00</td>\n",
       "      <td>120.0</td>\n",
       "      <td>18C16263X</td>\n",
       "      <td>2019-09-01</td>\n",
       "    </tr>\n",
       "  </tbody>\n",
       "</table>\n",
       "</div>"
      ],
      "text/plain": [
       "    Shop Order   Component    MRdate      MQISS     Product  BOM qty  MOPNO  \\\n",
       "3       186151       RM129  20190422  57534.048       V8536   20.592     20   \n",
       "4       186151       RM093  20190422      0.000       V8536    0.000     20   \n",
       "5       186151       RM160  20190422      0.000       V8536    0.000     20   \n",
       "9       182831  FS10017466  20190901      0.000  8881907102    0.000      0   \n",
       "10      182831     EXP6021  20190901      0.000  8881907102    0.000      0   \n",
       "\n",
       "    Finished qty     MQREQ  Requested qty Lot Number       Date  \n",
       "3         2794.0  57451.68         2790.0   18M09063 2019-04-22  \n",
       "4         2794.0      0.00         2790.0   18M09063 2019-04-22  \n",
       "5         2794.0      0.00         2790.0   18M09063 2019-04-22  \n",
       "9          120.0      0.00          120.0  18C16263X 2019-09-01  \n",
       "10         120.0      0.00          120.0  18C16263X 2019-09-01  "
      ]
     },
     "execution_count": 5,
     "metadata": {},
     "output_type": "execute_result"
    }
   ],
   "source": [
    "arch_so_df.head()"
   ]
  },
  {
   "cell_type": "code",
   "execution_count": null,
   "id": "b8ddcc6b",
   "metadata": {},
   "outputs": [],
   "source": []
  }
 ],
 "metadata": {
  "kernelspec": {
   "display_name": "Python 3 (ipykernel)",
   "language": "python",
   "name": "python3"
  },
  "language_info": {
   "codemirror_mode": {
    "name": "ipython",
    "version": 3
   },
   "file_extension": ".py",
   "mimetype": "text/x-python",
   "name": "python",
   "nbconvert_exporter": "python",
   "pygments_lexer": "ipython3",
   "version": "3.9.5"
  }
 },
 "nbformat": 4,
 "nbformat_minor": 5
}
