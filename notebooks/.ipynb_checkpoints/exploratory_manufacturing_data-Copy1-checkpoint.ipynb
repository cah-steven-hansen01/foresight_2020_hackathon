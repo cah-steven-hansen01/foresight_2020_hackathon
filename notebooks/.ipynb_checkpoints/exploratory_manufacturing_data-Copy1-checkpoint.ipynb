{
 "cells": [
  {
   "cell_type": "code",
   "execution_count": 1,
   "metadata": {},
   "outputs": [],
   "source": [
    "### only run once! sets up working directory to be /quality_issue_predictor\n",
    "import os\n",
    "os.chdir(os.getcwd()[:-34] + r'\\quality_issue_predictor') "
   ]
  },
  {
   "cell_type": "code",
   "execution_count": 2,
   "metadata": {},
   "outputs": [],
   "source": [
    "import pandas as pd\n",
    "import numpy as np\n",
    "import os\n",
    "import re\n",
    "#import tensorflow as tf\n",
    "import matplotlib.pyplot as plt\n",
    "\n",
    "#import qa_productivity_tool.complaints as cmplnts\n",
    "import qa_productivity_tool.nc_full as nc_full"
   ]
  },
  {
   "cell_type": "markdown",
   "metadata": {},
   "source": [
    "Table of Contents <a name = \"tableofcontents\"></a>\n",
    "1. [Data Cleaning/preparing](#datacleaning)\n",
    "    1. [Archived Shop Order Cleanup](#socleanup)\n",
    "    2. [Plant Star Cleanup](#plantstarcleanup)\n",
    "    3. [Combine SO and Plantstar Date](#combinesoplantstar)\n",
    "    4. [Quality Data injestion](#qualitydata)\n",
    "2. [Models](#models)\n",
    "    1. [K-means No NC data](#kmeansnonc)\n",
    "    2. [K-means combinded with NC Data](#kmeanswithnc)\n",
    "    3. [Decision Tree Models](#decisiontrees)\n",
    "        1. [Adaboost](#adaboostresults)\n",
    "        2. [Decision Tree Regressor](#dtrresults)\n",
    "    4. [Dimensional Reduction Attempts](#dimensionalreduction)\n",
    "        1. [PCA](#pca)"
   ]
  },
  {
   "cell_type": "markdown",
   "metadata": {},
   "source": [
    "## Data Cleaning/Preparing"
   ]
  },
  {
   "cell_type": "markdown",
   "metadata": {},
   "source": [
    "### Archived Shop Order Clean up"
   ]
  },
  {
   "cell_type": "code",
   "execution_count": 3,
   "metadata": {},
   "outputs": [],
   "source": [
    "df = pd.read_excel(open('./raw_data/archived SO.xlsx','rb'))"
   ]
  },
  {
   "cell_type": "code",
   "execution_count": 4,
   "metadata": {},
   "outputs": [],
   "source": [
    "cols = {'MORD':\"Shop Order\",'MPROD':\"Component\",'MAPRD':\"Product\",'MBOM':'BOM qty','SOLOT':'Lot Number'}\n",
    "drop_cols = ['MQISS', 'MASTS','MOPNO']"
   ]
  },
  {
   "cell_type": "code",
   "execution_count": 5,
   "metadata": {},
   "outputs": [
    {
     "data": {
      "text/plain": [
       "(51587, 10)"
      ]
     },
     "execution_count": 5,
     "metadata": {},
     "output_type": "execute_result"
    }
   ],
   "source": [
    "df = df.rename(columns = cols)\\\n",
    "        .drop(columns = drop_cols)\n",
    "df.shape"
   ]
  },
  {
   "cell_type": "code",
   "execution_count": 6,
   "metadata": {},
   "outputs": [],
   "source": [
    "def lot_checker(lot_number):\n",
    "    'checks if lot number matches YYMXXX63 format'\n",
    "    if str(lot_number) == 'nan':\n",
    "        return False\n",
    "    return (re.compile('(:?[0-9]{2}[A-Ma-m]{1}[Oo0-9]{3}63[Xx]|[0-9]{2}[A-Ma-m]{1}[Oo0-9]{3}63)').match(lot_number) != None) *1\n",
    "df['Lot Format Match'] = list(map(lot_checker,df['Lot Number']))\n",
    "df = df[df['Lot Format Match'] == 1].drop(columns = 'Lot Format Match')"
   ]
  },
  {
   "cell_type": "code",
   "execution_count": 7,
   "metadata": {},
   "outputs": [],
   "source": [
    "def cleanup(frame):\n",
    "    frame = frame.reset_index(drop=True)\n",
    "    lot_number = frame.loc[0,'Lot Number']\n",
    "    product = frame.loc[0,'Product']\n",
    "    date = frame.loc[0,'Date']\n",
    "    shop_order = str(frame.loc[0,'Shop Order'])\n",
    "    df = pd.DataFrame()\n",
    "    df.loc[lot_number,'Product'] = product\n",
    "    df.loc[lot_number,\"Date\"] = date\n",
    "    df.loc[lot_number,'Shop Order'] = shop_order\n",
    "    for i,component in enumerate(frame.Component):\n",
    "        df.loc[lot_number,component] = frame.loc[i,'BOM qty']\n",
    "    return df.reset_index()\\\n",
    "            .rename(columns = {'index':'Lot Number'})\n"
   ]
  },
  {
   "cell_type": "code",
   "execution_count": 8,
   "metadata": {},
   "outputs": [],
   "source": [
    "list_of_frames = [cleanup(frame) for lot, frame in df.groupby(by = 'Lot Number')]\n",
    "X = pd.concat(list_of_frames)\\\n",
    "            .fillna(0)\\\n",
    "            .reset_index(drop = True)"
   ]
  },
  {
   "cell_type": "code",
   "execution_count": 9,
   "metadata": {},
   "outputs": [
    {
     "data": {
      "text/plain": [
       "(2886, 646)"
      ]
     },
     "execution_count": 9,
     "metadata": {},
     "output_type": "execute_result"
    }
   ],
   "source": [
    "X.shape"
   ]
  },
  {
   "cell_type": "code",
   "execution_count": 10,
   "metadata": {},
   "outputs": [
    {
     "data": {
      "text/html": [
       "<div>\n",
       "<style scoped>\n",
       "    .dataframe tbody tr th:only-of-type {\n",
       "        vertical-align: middle;\n",
       "    }\n",
       "\n",
       "    .dataframe tbody tr th {\n",
       "        vertical-align: top;\n",
       "    }\n",
       "\n",
       "    .dataframe thead th {\n",
       "        text-align: right;\n",
       "    }\n",
       "</style>\n",
       "<table border=\"1\" class=\"dataframe\">\n",
       "  <thead>\n",
       "    <tr style=\"text-align: right;\">\n",
       "      <th></th>\n",
       "      <th>Lot Number</th>\n",
       "      <th>Product</th>\n",
       "      <th>Date</th>\n",
       "      <th>Shop Order</th>\n",
       "      <th>DC00056758</th>\n",
       "      <th>EXP5013</th>\n",
       "      <th>EXP5050</th>\n",
       "      <th>PT00009994</th>\n",
       "      <th>0301001</th>\n",
       "      <th>4001204</th>\n",
       "      <th>...</th>\n",
       "      <th>PT00103021</th>\n",
       "      <th>FS10002802</th>\n",
       "      <th>FS10002990</th>\n",
       "      <th>FS10026587</th>\n",
       "      <th>R7616</th>\n",
       "      <th>FS10026576</th>\n",
       "      <th>DC00078714</th>\n",
       "      <th>PT00096237</th>\n",
       "      <th>DC00072178</th>\n",
       "      <th>FS10002820</th>\n",
       "    </tr>\n",
       "  </thead>\n",
       "  <tbody>\n",
       "    <tr>\n",
       "      <th>0</th>\n",
       "      <td>19D27563X</td>\n",
       "      <td>4502570</td>\n",
       "      <td>2020-12-01</td>\n",
       "      <td>188358</td>\n",
       "      <td>0.0</td>\n",
       "      <td>0.0</td>\n",
       "      <td>0.0</td>\n",
       "      <td>0.0</td>\n",
       "      <td>0.000000</td>\n",
       "      <td>0.00</td>\n",
       "      <td>...</td>\n",
       "      <td>0.0</td>\n",
       "      <td>0.0</td>\n",
       "      <td>0.0</td>\n",
       "      <td>0.0</td>\n",
       "      <td>0.0</td>\n",
       "      <td>0.0</td>\n",
       "      <td>0.0</td>\n",
       "      <td>0.0</td>\n",
       "      <td>0.0</td>\n",
       "      <td>0.0</td>\n",
       "    </tr>\n",
       "    <tr>\n",
       "      <th>1</th>\n",
       "      <td>19E02463X</td>\n",
       "      <td>4502570</td>\n",
       "      <td>2020-12-01</td>\n",
       "      <td>188400</td>\n",
       "      <td>0.0</td>\n",
       "      <td>0.0</td>\n",
       "      <td>0.0</td>\n",
       "      <td>0.0</td>\n",
       "      <td>0.000000</td>\n",
       "      <td>0.00</td>\n",
       "      <td>...</td>\n",
       "      <td>0.0</td>\n",
       "      <td>0.0</td>\n",
       "      <td>0.0</td>\n",
       "      <td>0.0</td>\n",
       "      <td>0.0</td>\n",
       "      <td>0.0</td>\n",
       "      <td>0.0</td>\n",
       "      <td>0.0</td>\n",
       "      <td>0.0</td>\n",
       "      <td>0.0</td>\n",
       "    </tr>\n",
       "    <tr>\n",
       "      <th>2</th>\n",
       "      <td>19E02563X</td>\n",
       "      <td>4502570</td>\n",
       "      <td>2020-12-01</td>\n",
       "      <td>188401</td>\n",
       "      <td>0.0</td>\n",
       "      <td>0.0</td>\n",
       "      <td>0.0</td>\n",
       "      <td>0.0</td>\n",
       "      <td>0.006728</td>\n",
       "      <td>1.02</td>\n",
       "      <td>...</td>\n",
       "      <td>0.0</td>\n",
       "      <td>0.0</td>\n",
       "      <td>0.0</td>\n",
       "      <td>0.0</td>\n",
       "      <td>0.0</td>\n",
       "      <td>0.0</td>\n",
       "      <td>0.0</td>\n",
       "      <td>0.0</td>\n",
       "      <td>0.0</td>\n",
       "      <td>0.0</td>\n",
       "    </tr>\n",
       "    <tr>\n",
       "      <th>3</th>\n",
       "      <td>19G00463X</td>\n",
       "      <td>4502570</td>\n",
       "      <td>2020-12-01</td>\n",
       "      <td>189166</td>\n",
       "      <td>0.0</td>\n",
       "      <td>0.0</td>\n",
       "      <td>0.0</td>\n",
       "      <td>0.0</td>\n",
       "      <td>0.000000</td>\n",
       "      <td>0.00</td>\n",
       "      <td>...</td>\n",
       "      <td>0.0</td>\n",
       "      <td>0.0</td>\n",
       "      <td>0.0</td>\n",
       "      <td>0.0</td>\n",
       "      <td>0.0</td>\n",
       "      <td>0.0</td>\n",
       "      <td>0.0</td>\n",
       "      <td>0.0</td>\n",
       "      <td>0.0</td>\n",
       "      <td>0.0</td>\n",
       "    </tr>\n",
       "    <tr>\n",
       "      <th>4</th>\n",
       "      <td>19G10763X</td>\n",
       "      <td>8881112083</td>\n",
       "      <td>2020-12-01</td>\n",
       "      <td>189332</td>\n",
       "      <td>0.0</td>\n",
       "      <td>0.0</td>\n",
       "      <td>0.0</td>\n",
       "      <td>0.0</td>\n",
       "      <td>0.000000</td>\n",
       "      <td>0.00</td>\n",
       "      <td>...</td>\n",
       "      <td>0.0</td>\n",
       "      <td>0.0</td>\n",
       "      <td>0.0</td>\n",
       "      <td>0.0</td>\n",
       "      <td>0.0</td>\n",
       "      <td>0.0</td>\n",
       "      <td>0.0</td>\n",
       "      <td>0.0</td>\n",
       "      <td>0.0</td>\n",
       "      <td>0.0</td>\n",
       "    </tr>\n",
       "  </tbody>\n",
       "</table>\n",
       "<p>5 rows × 646 columns</p>\n",
       "</div>"
      ],
      "text/plain": [
       "  Lot Number     Product       Date Shop Order  DC00056758  EXP5013  EXP5050  \\\n",
       "0  19D27563X     4502570 2020-12-01     188358         0.0      0.0      0.0   \n",
       "1  19E02463X     4502570 2020-12-01     188400         0.0      0.0      0.0   \n",
       "2  19E02563X     4502570 2020-12-01     188401         0.0      0.0      0.0   \n",
       "3  19G00463X     4502570 2020-12-01     189166         0.0      0.0      0.0   \n",
       "4  19G10763X  8881112083 2020-12-01     189332         0.0      0.0      0.0   \n",
       "\n",
       "   PT00009994   0301001  4001204  ...  PT00103021  FS10002802  FS10002990  \\\n",
       "0         0.0  0.000000     0.00  ...         0.0         0.0         0.0   \n",
       "1         0.0  0.000000     0.00  ...         0.0         0.0         0.0   \n",
       "2         0.0  0.006728     1.02  ...         0.0         0.0         0.0   \n",
       "3         0.0  0.000000     0.00  ...         0.0         0.0         0.0   \n",
       "4         0.0  0.000000     0.00  ...         0.0         0.0         0.0   \n",
       "\n",
       "   FS10026587  R7616  FS10026576  DC00078714  PT00096237  DC00072178  \\\n",
       "0         0.0    0.0         0.0         0.0         0.0         0.0   \n",
       "1         0.0    0.0         0.0         0.0         0.0         0.0   \n",
       "2         0.0    0.0         0.0         0.0         0.0         0.0   \n",
       "3         0.0    0.0         0.0         0.0         0.0         0.0   \n",
       "4         0.0    0.0         0.0         0.0         0.0         0.0   \n",
       "\n",
       "   FS10002820  \n",
       "0         0.0  \n",
       "1         0.0  \n",
       "2         0.0  \n",
       "3         0.0  \n",
       "4         0.0  \n",
       "\n",
       "[5 rows x 646 columns]"
      ]
     },
     "execution_count": 10,
     "metadata": {},
     "output_type": "execute_result"
    }
   ],
   "source": [
    "X.head()"
   ]
  },
  {
   "cell_type": "code",
   "execution_count": 11,
   "metadata": {
    "tags": []
   },
   "outputs": [
    {
     "name": "stdout",
     "output_type": "stream",
     "text": [
      "2020-Jan-01\n",
      "2021-Dec-30\n"
     ]
    }
   ],
   "source": [
    "print(min(X.Date).strftime(\"%Y-%b-%d\"))\n",
    "print(max(X.Date).strftime(\"%Y-%b-%d\"))"
   ]
  },
  {
   "cell_type": "markdown",
   "metadata": {},
   "source": [
    "Why are there lots through Dec 2021?"
   ]
  },
  {
   "cell_type": "code",
   "execution_count": 12,
   "metadata": {},
   "outputs": [
    {
     "data": {
      "text/html": [
       "<div>\n",
       "<style scoped>\n",
       "    .dataframe tbody tr th:only-of-type {\n",
       "        vertical-align: middle;\n",
       "    }\n",
       "\n",
       "    .dataframe tbody tr th {\n",
       "        vertical-align: top;\n",
       "    }\n",
       "\n",
       "    .dataframe thead th {\n",
       "        text-align: right;\n",
       "    }\n",
       "</style>\n",
       "<table border=\"1\" class=\"dataframe\">\n",
       "  <thead>\n",
       "    <tr style=\"text-align: right;\">\n",
       "      <th></th>\n",
       "      <th>Lot Number</th>\n",
       "      <th>Product</th>\n",
       "      <th>Date</th>\n",
       "      <th>Shop Order</th>\n",
       "      <th>DC00056758</th>\n",
       "      <th>EXP5013</th>\n",
       "      <th>EXP5050</th>\n",
       "      <th>PT00009994</th>\n",
       "      <th>0301001</th>\n",
       "      <th>4001204</th>\n",
       "      <th>...</th>\n",
       "      <th>PT00103021</th>\n",
       "      <th>FS10002802</th>\n",
       "      <th>FS10002990</th>\n",
       "      <th>FS10026587</th>\n",
       "      <th>R7616</th>\n",
       "      <th>FS10026576</th>\n",
       "      <th>DC00078714</th>\n",
       "      <th>PT00096237</th>\n",
       "      <th>DC00072178</th>\n",
       "      <th>FS10002820</th>\n",
       "    </tr>\n",
       "  </thead>\n",
       "  <tbody>\n",
       "    <tr>\n",
       "      <th>0</th>\n",
       "      <td>19D27563X</td>\n",
       "      <td>4502570</td>\n",
       "      <td>2020-12-01</td>\n",
       "      <td>188358</td>\n",
       "      <td>0.0</td>\n",
       "      <td>0.0</td>\n",
       "      <td>0.0</td>\n",
       "      <td>0.0</td>\n",
       "      <td>0.000000</td>\n",
       "      <td>0.00</td>\n",
       "      <td>...</td>\n",
       "      <td>0.0</td>\n",
       "      <td>0.0</td>\n",
       "      <td>0.0</td>\n",
       "      <td>0.0</td>\n",
       "      <td>0.0</td>\n",
       "      <td>0.0</td>\n",
       "      <td>0.0</td>\n",
       "      <td>0.0</td>\n",
       "      <td>0.0</td>\n",
       "      <td>0.0</td>\n",
       "    </tr>\n",
       "    <tr>\n",
       "      <th>1</th>\n",
       "      <td>19E02463X</td>\n",
       "      <td>4502570</td>\n",
       "      <td>2020-12-01</td>\n",
       "      <td>188400</td>\n",
       "      <td>0.0</td>\n",
       "      <td>0.0</td>\n",
       "      <td>0.0</td>\n",
       "      <td>0.0</td>\n",
       "      <td>0.000000</td>\n",
       "      <td>0.00</td>\n",
       "      <td>...</td>\n",
       "      <td>0.0</td>\n",
       "      <td>0.0</td>\n",
       "      <td>0.0</td>\n",
       "      <td>0.0</td>\n",
       "      <td>0.0</td>\n",
       "      <td>0.0</td>\n",
       "      <td>0.0</td>\n",
       "      <td>0.0</td>\n",
       "      <td>0.0</td>\n",
       "      <td>0.0</td>\n",
       "    </tr>\n",
       "    <tr>\n",
       "      <th>2</th>\n",
       "      <td>19E02563X</td>\n",
       "      <td>4502570</td>\n",
       "      <td>2020-12-01</td>\n",
       "      <td>188401</td>\n",
       "      <td>0.0</td>\n",
       "      <td>0.0</td>\n",
       "      <td>0.0</td>\n",
       "      <td>0.0</td>\n",
       "      <td>0.006728</td>\n",
       "      <td>1.02</td>\n",
       "      <td>...</td>\n",
       "      <td>0.0</td>\n",
       "      <td>0.0</td>\n",
       "      <td>0.0</td>\n",
       "      <td>0.0</td>\n",
       "      <td>0.0</td>\n",
       "      <td>0.0</td>\n",
       "      <td>0.0</td>\n",
       "      <td>0.0</td>\n",
       "      <td>0.0</td>\n",
       "      <td>0.0</td>\n",
       "    </tr>\n",
       "    <tr>\n",
       "      <th>3</th>\n",
       "      <td>19G00463X</td>\n",
       "      <td>4502570</td>\n",
       "      <td>2020-12-01</td>\n",
       "      <td>189166</td>\n",
       "      <td>0.0</td>\n",
       "      <td>0.0</td>\n",
       "      <td>0.0</td>\n",
       "      <td>0.0</td>\n",
       "      <td>0.000000</td>\n",
       "      <td>0.00</td>\n",
       "      <td>...</td>\n",
       "      <td>0.0</td>\n",
       "      <td>0.0</td>\n",
       "      <td>0.0</td>\n",
       "      <td>0.0</td>\n",
       "      <td>0.0</td>\n",
       "      <td>0.0</td>\n",
       "      <td>0.0</td>\n",
       "      <td>0.0</td>\n",
       "      <td>0.0</td>\n",
       "      <td>0.0</td>\n",
       "    </tr>\n",
       "    <tr>\n",
       "      <th>4</th>\n",
       "      <td>19G10763X</td>\n",
       "      <td>8881112083</td>\n",
       "      <td>2020-12-01</td>\n",
       "      <td>189332</td>\n",
       "      <td>0.0</td>\n",
       "      <td>0.0</td>\n",
       "      <td>0.0</td>\n",
       "      <td>0.0</td>\n",
       "      <td>0.000000</td>\n",
       "      <td>0.00</td>\n",
       "      <td>...</td>\n",
       "      <td>0.0</td>\n",
       "      <td>0.0</td>\n",
       "      <td>0.0</td>\n",
       "      <td>0.0</td>\n",
       "      <td>0.0</td>\n",
       "      <td>0.0</td>\n",
       "      <td>0.0</td>\n",
       "      <td>0.0</td>\n",
       "      <td>0.0</td>\n",
       "      <td>0.0</td>\n",
       "    </tr>\n",
       "  </tbody>\n",
       "</table>\n",
       "<p>5 rows × 646 columns</p>\n",
       "</div>"
      ],
      "text/plain": [
       "  Lot Number     Product       Date Shop Order  DC00056758  EXP5013  EXP5050  \\\n",
       "0  19D27563X     4502570 2020-12-01     188358         0.0      0.0      0.0   \n",
       "1  19E02463X     4502570 2020-12-01     188400         0.0      0.0      0.0   \n",
       "2  19E02563X     4502570 2020-12-01     188401         0.0      0.0      0.0   \n",
       "3  19G00463X     4502570 2020-12-01     189166         0.0      0.0      0.0   \n",
       "4  19G10763X  8881112083 2020-12-01     189332         0.0      0.0      0.0   \n",
       "\n",
       "   PT00009994   0301001  4001204  ...  PT00103021  FS10002802  FS10002990  \\\n",
       "0         0.0  0.000000     0.00  ...         0.0         0.0         0.0   \n",
       "1         0.0  0.000000     0.00  ...         0.0         0.0         0.0   \n",
       "2         0.0  0.006728     1.02  ...         0.0         0.0         0.0   \n",
       "3         0.0  0.000000     0.00  ...         0.0         0.0         0.0   \n",
       "4         0.0  0.000000     0.00  ...         0.0         0.0         0.0   \n",
       "\n",
       "   FS10026587  R7616  FS10026576  DC00078714  PT00096237  DC00072178  \\\n",
       "0         0.0    0.0         0.0         0.0         0.0         0.0   \n",
       "1         0.0    0.0         0.0         0.0         0.0         0.0   \n",
       "2         0.0    0.0         0.0         0.0         0.0         0.0   \n",
       "3         0.0    0.0         0.0         0.0         0.0         0.0   \n",
       "4         0.0    0.0         0.0         0.0         0.0         0.0   \n",
       "\n",
       "   FS10002820  \n",
       "0         0.0  \n",
       "1         0.0  \n",
       "2         0.0  \n",
       "3         0.0  \n",
       "4         0.0  \n",
       "\n",
       "[5 rows x 646 columns]"
      ]
     },
     "execution_count": 12,
     "metadata": {},
     "output_type": "execute_result"
    }
   ],
   "source": [
    "X.head()"
   ]
  },
  {
   "cell_type": "code",
   "execution_count": 13,
   "metadata": {},
   "outputs": [
    {
     "data": {
      "text/html": [
       "<div>\n",
       "<style scoped>\n",
       "    .dataframe tbody tr th:only-of-type {\n",
       "        vertical-align: middle;\n",
       "    }\n",
       "\n",
       "    .dataframe tbody tr th {\n",
       "        vertical-align: top;\n",
       "    }\n",
       "\n",
       "    .dataframe thead th {\n",
       "        text-align: right;\n",
       "    }\n",
       "</style>\n",
       "<table border=\"1\" class=\"dataframe\">\n",
       "  <thead>\n",
       "    <tr style=\"text-align: right;\">\n",
       "      <th></th>\n",
       "      <th>Shop Order</th>\n",
       "      <th>Component</th>\n",
       "      <th>MRDTE</th>\n",
       "      <th>Product</th>\n",
       "      <th>BOM qty</th>\n",
       "      <th>SQFIN</th>\n",
       "      <th>MQREQ</th>\n",
       "      <th>SQREQ</th>\n",
       "      <th>Lot Number</th>\n",
       "      <th>Date</th>\n",
       "    </tr>\n",
       "  </thead>\n",
       "  <tbody>\n",
       "    <tr>\n",
       "      <th>0</th>\n",
       "      <td>190586</td>\n",
       "      <td>PT00062563</td>\n",
       "      <td>20200114</td>\n",
       "      <td>8934</td>\n",
       "      <td>1.91154</td>\n",
       "      <td>695.0</td>\n",
       "      <td>1330.433</td>\n",
       "      <td>696.0</td>\n",
       "      <td>19K17363</td>\n",
       "      <td>2020-01-14</td>\n",
       "    </tr>\n",
       "    <tr>\n",
       "      <th>1</th>\n",
       "      <td>190586</td>\n",
       "      <td>RM129</td>\n",
       "      <td>20200114</td>\n",
       "      <td>8934</td>\n",
       "      <td>389.95384</td>\n",
       "      <td>695.0</td>\n",
       "      <td>271407.872</td>\n",
       "      <td>696.0</td>\n",
       "      <td>19K17363</td>\n",
       "      <td>2020-01-14</td>\n",
       "    </tr>\n",
       "    <tr>\n",
       "      <th>2</th>\n",
       "      <td>190586</td>\n",
       "      <td>R5097</td>\n",
       "      <td>20200114</td>\n",
       "      <td>8934</td>\n",
       "      <td>2.00000</td>\n",
       "      <td>695.0</td>\n",
       "      <td>1392.000</td>\n",
       "      <td>696.0</td>\n",
       "      <td>19K17363</td>\n",
       "      <td>2020-01-14</td>\n",
       "    </tr>\n",
       "    <tr>\n",
       "      <th>3</th>\n",
       "      <td>190586</td>\n",
       "      <td>R1292D</td>\n",
       "      <td>20200114</td>\n",
       "      <td>8934</td>\n",
       "      <td>1.00000</td>\n",
       "      <td>695.0</td>\n",
       "      <td>696.000</td>\n",
       "      <td>696.0</td>\n",
       "      <td>19K17363</td>\n",
       "      <td>2020-01-14</td>\n",
       "    </tr>\n",
       "    <tr>\n",
       "      <th>4</th>\n",
       "      <td>190586</td>\n",
       "      <td>R4415</td>\n",
       "      <td>20200114</td>\n",
       "      <td>8934</td>\n",
       "      <td>1.00000</td>\n",
       "      <td>695.0</td>\n",
       "      <td>696.000</td>\n",
       "      <td>696.0</td>\n",
       "      <td>19K17363</td>\n",
       "      <td>2020-01-14</td>\n",
       "    </tr>\n",
       "  </tbody>\n",
       "</table>\n",
       "</div>"
      ],
      "text/plain": [
       "   Shop Order   Component     MRDTE Product    BOM qty  SQFIN       MQREQ  \\\n",
       "0      190586  PT00062563  20200114    8934    1.91154  695.0    1330.433   \n",
       "1      190586       RM129  20200114    8934  389.95384  695.0  271407.872   \n",
       "2      190586       R5097  20200114    8934    2.00000  695.0    1392.000   \n",
       "3      190586      R1292D  20200114    8934    1.00000  695.0     696.000   \n",
       "4      190586       R4415  20200114    8934    1.00000  695.0     696.000   \n",
       "\n",
       "   SQREQ Lot Number       Date  \n",
       "0  696.0   19K17363 2020-01-14  \n",
       "1  696.0   19K17363 2020-01-14  \n",
       "2  696.0   19K17363 2020-01-14  \n",
       "3  696.0   19K17363 2020-01-14  \n",
       "4  696.0   19K17363 2020-01-14  "
      ]
     },
     "execution_count": 13,
     "metadata": {},
     "output_type": "execute_result"
    }
   ],
   "source": [
    "df.head()"
   ]
  },
  {
   "cell_type": "markdown",
   "metadata": {},
   "source": [
    "### Plantstar Clean-up <a name = \"plantstarcleanup\"></a>\n",
    "[return](#tableofcontents)"
   ]
  },
  {
   "cell_type": "code",
   "execution_count": 14,
   "metadata": {},
   "outputs": [],
   "source": [
    "plant_df = pd.read_excel(open(\"./raw_data/Plantstar.xlsx\",'rb'))"
   ]
  },
  {
   "cell_type": "code",
   "execution_count": 15,
   "metadata": {},
   "outputs": [
    {
     "data": {
      "text/html": [
       "<div>\n",
       "<style scoped>\n",
       "    .dataframe tbody tr th:only-of-type {\n",
       "        vertical-align: middle;\n",
       "    }\n",
       "\n",
       "    .dataframe tbody tr th {\n",
       "        vertical-align: top;\n",
       "    }\n",
       "\n",
       "    .dataframe thead th {\n",
       "        text-align: right;\n",
       "    }\n",
       "</style>\n",
       "<table border=\"1\" class=\"dataframe\">\n",
       "  <thead>\n",
       "    <tr style=\"text-align: right;\">\n",
       "      <th></th>\n",
       "      <th>start_time</th>\n",
       "      <th>mach_name</th>\n",
       "      <th>gross_pieces</th>\n",
       "      <th>user_text_1</th>\n",
       "      <th>user_text_4</th>\n",
       "      <th>mat_formula</th>\n",
       "      <th>tool</th>\n",
       "      <th>std_shot_weight</th>\n",
       "      <th>act_shot_weight</th>\n",
       "      <th>start_time2</th>\n",
       "    </tr>\n",
       "  </thead>\n",
       "  <tbody>\n",
       "    <tr>\n",
       "      <th>0</th>\n",
       "      <td>2019-03-01 18:00:00</td>\n",
       "      <td>14-N400</td>\n",
       "      <td>2758</td>\n",
       "      <td>R7500</td>\n",
       "      <td>186439</td>\n",
       "      <td>RM129</td>\n",
       "      <td>R7500D</td>\n",
       "      <td>1.7975</td>\n",
       "      <td>0.0</td>\n",
       "      <td>2019-03-01 18:00:00</td>\n",
       "    </tr>\n",
       "    <tr>\n",
       "      <th>1</th>\n",
       "      <td>2019-03-02 06:00:00</td>\n",
       "      <td>14-N400</td>\n",
       "      <td>5092</td>\n",
       "      <td>R7500</td>\n",
       "      <td>186439</td>\n",
       "      <td>RM129</td>\n",
       "      <td>R7500D</td>\n",
       "      <td>1.7975</td>\n",
       "      <td>0.0</td>\n",
       "      <td>2019-03-02 06:00:00</td>\n",
       "    </tr>\n",
       "    <tr>\n",
       "      <th>2</th>\n",
       "      <td>2019-03-02 18:00:00</td>\n",
       "      <td>14-N400</td>\n",
       "      <td>4920</td>\n",
       "      <td>R7500</td>\n",
       "      <td>186439</td>\n",
       "      <td>RM129</td>\n",
       "      <td>R7500D</td>\n",
       "      <td>1.7975</td>\n",
       "      <td>0.0</td>\n",
       "      <td>2019-03-02 18:00:00</td>\n",
       "    </tr>\n",
       "    <tr>\n",
       "      <th>3</th>\n",
       "      <td>2019-03-03 06:00:00</td>\n",
       "      <td>14-N400</td>\n",
       "      <td>5156</td>\n",
       "      <td>R7500</td>\n",
       "      <td>186439</td>\n",
       "      <td>RM129</td>\n",
       "      <td>R7500D</td>\n",
       "      <td>1.7975</td>\n",
       "      <td>0.0</td>\n",
       "      <td>2019-03-03 06:00:00</td>\n",
       "    </tr>\n",
       "    <tr>\n",
       "      <th>4</th>\n",
       "      <td>2019-03-03 18:00:00</td>\n",
       "      <td>14-N400</td>\n",
       "      <td>4748</td>\n",
       "      <td>R7500</td>\n",
       "      <td>186439</td>\n",
       "      <td>RM129</td>\n",
       "      <td>R7500D</td>\n",
       "      <td>1.7975</td>\n",
       "      <td>0.0</td>\n",
       "      <td>2019-03-03 18:00:00</td>\n",
       "    </tr>\n",
       "  </tbody>\n",
       "</table>\n",
       "</div>"
      ],
      "text/plain": [
       "           start_time mach_name  gross_pieces user_text_1 user_text_4  \\\n",
       "0 2019-03-01 18:00:00   14-N400          2758       R7500      186439   \n",
       "1 2019-03-02 06:00:00   14-N400          5092       R7500      186439   \n",
       "2 2019-03-02 18:00:00   14-N400          4920       R7500      186439   \n",
       "3 2019-03-03 06:00:00   14-N400          5156       R7500      186439   \n",
       "4 2019-03-03 18:00:00   14-N400          4748       R7500      186439   \n",
       "\n",
       "  mat_formula    tool  std_shot_weight  act_shot_weight         start_time2  \n",
       "0       RM129  R7500D           1.7975              0.0 2019-03-01 18:00:00  \n",
       "1       RM129  R7500D           1.7975              0.0 2019-03-02 06:00:00  \n",
       "2       RM129  R7500D           1.7975              0.0 2019-03-02 18:00:00  \n",
       "3       RM129  R7500D           1.7975              0.0 2019-03-03 06:00:00  \n",
       "4       RM129  R7500D           1.7975              0.0 2019-03-03 18:00:00  "
      ]
     },
     "execution_count": 15,
     "metadata": {},
     "output_type": "execute_result"
    }
   ],
   "source": [
    "plant_df.head()"
   ]
  },
  {
   "cell_type": "code",
   "execution_count": 16,
   "metadata": {},
   "outputs": [
    {
     "data": {
      "text/html": [
       "<div>\n",
       "<style scoped>\n",
       "    .dataframe tbody tr th:only-of-type {\n",
       "        vertical-align: middle;\n",
       "    }\n",
       "\n",
       "    .dataframe tbody tr th {\n",
       "        vertical-align: top;\n",
       "    }\n",
       "\n",
       "    .dataframe thead th {\n",
       "        text-align: right;\n",
       "    }\n",
       "</style>\n",
       "<table border=\"1\" class=\"dataframe\">\n",
       "  <thead>\n",
       "    <tr style=\"text-align: right;\">\n",
       "      <th></th>\n",
       "      <th>start_time</th>\n",
       "      <th>mach_name</th>\n",
       "      <th>gross_pieces</th>\n",
       "      <th>user_text_1</th>\n",
       "      <th>Shop Order</th>\n",
       "      <th>mat_formula</th>\n",
       "      <th>tool</th>\n",
       "      <th>std_shot_weight</th>\n",
       "      <th>act_shot_weight</th>\n",
       "      <th>start_time2</th>\n",
       "    </tr>\n",
       "  </thead>\n",
       "  <tbody>\n",
       "    <tr>\n",
       "      <th>0</th>\n",
       "      <td>2019-03-01 18:00:00</td>\n",
       "      <td>14-N400</td>\n",
       "      <td>2758</td>\n",
       "      <td>R7500</td>\n",
       "      <td>186439</td>\n",
       "      <td>RM129</td>\n",
       "      <td>R7500D</td>\n",
       "      <td>1.7975</td>\n",
       "      <td>0.0</td>\n",
       "      <td>2019-03-01 18:00:00</td>\n",
       "    </tr>\n",
       "    <tr>\n",
       "      <th>1</th>\n",
       "      <td>2019-03-02 06:00:00</td>\n",
       "      <td>14-N400</td>\n",
       "      <td>5092</td>\n",
       "      <td>R7500</td>\n",
       "      <td>186439</td>\n",
       "      <td>RM129</td>\n",
       "      <td>R7500D</td>\n",
       "      <td>1.7975</td>\n",
       "      <td>0.0</td>\n",
       "      <td>2019-03-02 06:00:00</td>\n",
       "    </tr>\n",
       "    <tr>\n",
       "      <th>2</th>\n",
       "      <td>2019-03-02 18:00:00</td>\n",
       "      <td>14-N400</td>\n",
       "      <td>4920</td>\n",
       "      <td>R7500</td>\n",
       "      <td>186439</td>\n",
       "      <td>RM129</td>\n",
       "      <td>R7500D</td>\n",
       "      <td>1.7975</td>\n",
       "      <td>0.0</td>\n",
       "      <td>2019-03-02 18:00:00</td>\n",
       "    </tr>\n",
       "    <tr>\n",
       "      <th>3</th>\n",
       "      <td>2019-03-03 06:00:00</td>\n",
       "      <td>14-N400</td>\n",
       "      <td>5156</td>\n",
       "      <td>R7500</td>\n",
       "      <td>186439</td>\n",
       "      <td>RM129</td>\n",
       "      <td>R7500D</td>\n",
       "      <td>1.7975</td>\n",
       "      <td>0.0</td>\n",
       "      <td>2019-03-03 06:00:00</td>\n",
       "    </tr>\n",
       "    <tr>\n",
       "      <th>4</th>\n",
       "      <td>2019-03-03 18:00:00</td>\n",
       "      <td>14-N400</td>\n",
       "      <td>4748</td>\n",
       "      <td>R7500</td>\n",
       "      <td>186439</td>\n",
       "      <td>RM129</td>\n",
       "      <td>R7500D</td>\n",
       "      <td>1.7975</td>\n",
       "      <td>0.0</td>\n",
       "      <td>2019-03-03 18:00:00</td>\n",
       "    </tr>\n",
       "  </tbody>\n",
       "</table>\n",
       "</div>"
      ],
      "text/plain": [
       "           start_time mach_name  gross_pieces user_text_1 Shop Order  \\\n",
       "0 2019-03-01 18:00:00   14-N400          2758       R7500     186439   \n",
       "1 2019-03-02 06:00:00   14-N400          5092       R7500     186439   \n",
       "2 2019-03-02 18:00:00   14-N400          4920       R7500     186439   \n",
       "3 2019-03-03 06:00:00   14-N400          5156       R7500     186439   \n",
       "4 2019-03-03 18:00:00   14-N400          4748       R7500     186439   \n",
       "\n",
       "  mat_formula    tool  std_shot_weight  act_shot_weight         start_time2  \n",
       "0       RM129  R7500D           1.7975              0.0 2019-03-01 18:00:00  \n",
       "1       RM129  R7500D           1.7975              0.0 2019-03-02 06:00:00  \n",
       "2       RM129  R7500D           1.7975              0.0 2019-03-02 18:00:00  \n",
       "3       RM129  R7500D           1.7975              0.0 2019-03-03 06:00:00  \n",
       "4       RM129  R7500D           1.7975              0.0 2019-03-03 18:00:00  "
      ]
     },
     "execution_count": 16,
     "metadata": {},
     "output_type": "execute_result"
    }
   ],
   "source": [
    "cols = {'user_text_4':'Shop Order'}\n",
    "plant_df = plant_df.rename(columns = cols)\n",
    "plant_df.head()"
   ]
  },
  {
   "cell_type": "code",
   "execution_count": 17,
   "metadata": {},
   "outputs": [],
   "source": [
    "def plantstar_extract(shop_order):\n",
    "    tools = list(plant_df['tool'][plant_df['Shop Order'] == shop_order].unique())\n",
    "    machines = list(plant_df['mach_name'][plant_df['Shop Order'] == shop_order].unique())\n",
    "    num_entries = len(plant_df['start_time'][plant_df['Shop Order'] == shop_order]) #related to how long SO ran?\n",
    "    return tools, machines, num_entries"
   ]
  },
  {
   "cell_type": "markdown",
   "metadata": {},
   "source": [
    "### Combine SO data and Plantstar Data <a name = \"combinesoplantstar\"></a>\n",
    "[return](#tableofcontents)"
   ]
  },
  {
   "cell_type": "code",
   "execution_count": 18,
   "metadata": {},
   "outputs": [
    {
     "data": {
      "text/html": [
       "<div>\n",
       "<style scoped>\n",
       "    .dataframe tbody tr th:only-of-type {\n",
       "        vertical-align: middle;\n",
       "    }\n",
       "\n",
       "    .dataframe tbody tr th {\n",
       "        vertical-align: top;\n",
       "    }\n",
       "\n",
       "    .dataframe thead th {\n",
       "        text-align: right;\n",
       "    }\n",
       "</style>\n",
       "<table border=\"1\" class=\"dataframe\">\n",
       "  <thead>\n",
       "    <tr style=\"text-align: right;\">\n",
       "      <th></th>\n",
       "      <th>Lot Number</th>\n",
       "      <th>Product</th>\n",
       "      <th>Date</th>\n",
       "      <th>Shop Order</th>\n",
       "      <th>DC00056758</th>\n",
       "      <th>EXP5013</th>\n",
       "      <th>EXP5050</th>\n",
       "      <th>PT00009994</th>\n",
       "      <th>0301001</th>\n",
       "      <th>4001204</th>\n",
       "      <th>...</th>\n",
       "      <th>R7046K</th>\n",
       "      <th>R7451A</th>\n",
       "      <th>90-N120</th>\n",
       "      <th>R7067C</th>\n",
       "      <th>R7569B-Thin-Wall</th>\n",
       "      <th>R7024L</th>\n",
       "      <th>R7102B</th>\n",
       "      <th>76-V400</th>\n",
       "      <th>R7515B</th>\n",
       "      <th>63-N500</th>\n",
       "    </tr>\n",
       "  </thead>\n",
       "  <tbody>\n",
       "    <tr>\n",
       "      <th>0</th>\n",
       "      <td>19G28063</td>\n",
       "      <td>8985CRS</td>\n",
       "      <td>2020-02-25</td>\n",
       "      <td>189592</td>\n",
       "      <td>0.0</td>\n",
       "      <td>0.0</td>\n",
       "      <td>0.0</td>\n",
       "      <td>0.0</td>\n",
       "      <td>0.0</td>\n",
       "      <td>0.0</td>\n",
       "      <td>...</td>\n",
       "      <td>0.0</td>\n",
       "      <td>0.0</td>\n",
       "      <td>0.0</td>\n",
       "      <td>0.0</td>\n",
       "      <td>0.0</td>\n",
       "      <td>0.0</td>\n",
       "      <td>0.0</td>\n",
       "      <td>0.0</td>\n",
       "      <td>0.0</td>\n",
       "      <td>0.0</td>\n",
       "    </tr>\n",
       "    <tr>\n",
       "      <th>1</th>\n",
       "      <td>19H06863</td>\n",
       "      <td>8608U</td>\n",
       "      <td>2020-02-19</td>\n",
       "      <td>189686</td>\n",
       "      <td>0.0</td>\n",
       "      <td>0.0</td>\n",
       "      <td>0.0</td>\n",
       "      <td>0.0</td>\n",
       "      <td>0.0</td>\n",
       "      <td>0.0</td>\n",
       "      <td>...</td>\n",
       "      <td>0.0</td>\n",
       "      <td>0.0</td>\n",
       "      <td>0.0</td>\n",
       "      <td>0.0</td>\n",
       "      <td>0.0</td>\n",
       "      <td>0.0</td>\n",
       "      <td>0.0</td>\n",
       "      <td>0.0</td>\n",
       "      <td>0.0</td>\n",
       "      <td>0.0</td>\n",
       "    </tr>\n",
       "    <tr>\n",
       "      <th>2</th>\n",
       "      <td>19H12063</td>\n",
       "      <td>8851</td>\n",
       "      <td>2020-03-04</td>\n",
       "      <td>189772</td>\n",
       "      <td>0.0</td>\n",
       "      <td>0.0</td>\n",
       "      <td>0.0</td>\n",
       "      <td>0.0</td>\n",
       "      <td>0.0</td>\n",
       "      <td>0.0</td>\n",
       "      <td>...</td>\n",
       "      <td>0.0</td>\n",
       "      <td>0.0</td>\n",
       "      <td>0.0</td>\n",
       "      <td>0.0</td>\n",
       "      <td>0.0</td>\n",
       "      <td>0.0</td>\n",
       "      <td>0.0</td>\n",
       "      <td>0.0</td>\n",
       "      <td>0.0</td>\n",
       "      <td>0.0</td>\n",
       "    </tr>\n",
       "    <tr>\n",
       "      <th>3</th>\n",
       "      <td>19H17163</td>\n",
       "      <td>8851NB</td>\n",
       "      <td>2020-03-04</td>\n",
       "      <td>189853</td>\n",
       "      <td>0.0</td>\n",
       "      <td>0.0</td>\n",
       "      <td>0.0</td>\n",
       "      <td>0.0</td>\n",
       "      <td>0.0</td>\n",
       "      <td>0.0</td>\n",
       "      <td>...</td>\n",
       "      <td>0.0</td>\n",
       "      <td>0.0</td>\n",
       "      <td>0.0</td>\n",
       "      <td>0.0</td>\n",
       "      <td>0.0</td>\n",
       "      <td>0.0</td>\n",
       "      <td>0.0</td>\n",
       "      <td>0.0</td>\n",
       "      <td>0.0</td>\n",
       "      <td>0.0</td>\n",
       "    </tr>\n",
       "    <tr>\n",
       "      <th>4</th>\n",
       "      <td>19H25863</td>\n",
       "      <td>31144010</td>\n",
       "      <td>2020-01-15</td>\n",
       "      <td>189982</td>\n",
       "      <td>0.0</td>\n",
       "      <td>0.0</td>\n",
       "      <td>0.0</td>\n",
       "      <td>0.0</td>\n",
       "      <td>0.0</td>\n",
       "      <td>0.0</td>\n",
       "      <td>...</td>\n",
       "      <td>0.0</td>\n",
       "      <td>0.0</td>\n",
       "      <td>0.0</td>\n",
       "      <td>0.0</td>\n",
       "      <td>0.0</td>\n",
       "      <td>0.0</td>\n",
       "      <td>0.0</td>\n",
       "      <td>0.0</td>\n",
       "      <td>0.0</td>\n",
       "      <td>0.0</td>\n",
       "    </tr>\n",
       "  </tbody>\n",
       "</table>\n",
       "<p>5 rows × 776 columns</p>\n",
       "</div>"
      ],
      "text/plain": [
       "  Lot Number   Product       Date Shop Order  DC00056758  EXP5013  EXP5050  \\\n",
       "0   19G28063   8985CRS 2020-02-25     189592         0.0      0.0      0.0   \n",
       "1   19H06863     8608U 2020-02-19     189686         0.0      0.0      0.0   \n",
       "2   19H12063      8851 2020-03-04     189772         0.0      0.0      0.0   \n",
       "3   19H17163    8851NB 2020-03-04     189853         0.0      0.0      0.0   \n",
       "4   19H25863  31144010 2020-01-15     189982         0.0      0.0      0.0   \n",
       "\n",
       "   PT00009994  0301001  4001204  ...  R7046K  R7451A  90-N120  R7067C  \\\n",
       "0         0.0      0.0      0.0  ...     0.0     0.0      0.0     0.0   \n",
       "1         0.0      0.0      0.0  ...     0.0     0.0      0.0     0.0   \n",
       "2         0.0      0.0      0.0  ...     0.0     0.0      0.0     0.0   \n",
       "3         0.0      0.0      0.0  ...     0.0     0.0      0.0     0.0   \n",
       "4         0.0      0.0      0.0  ...     0.0     0.0      0.0     0.0   \n",
       "\n",
       "   R7569B-Thin-Wall  R7024L  R7102B  76-V400  R7515B  63-N500  \n",
       "0               0.0     0.0     0.0      0.0     0.0      0.0  \n",
       "1               0.0     0.0     0.0      0.0     0.0      0.0  \n",
       "2               0.0     0.0     0.0      0.0     0.0      0.0  \n",
       "3               0.0     0.0     0.0      0.0     0.0      0.0  \n",
       "4               0.0     0.0     0.0      0.0     0.0      0.0  \n",
       "\n",
       "[5 rows x 776 columns]"
      ]
     },
     "execution_count": 18,
     "metadata": {},
     "output_type": "execute_result"
    }
   ],
   "source": [
    "for i, shop_order in enumerate(X['Shop Order']):\n",
    "    tools,machines,num_entries = plantstar_extract(shop_order)\n",
    "    if num_entries == 0:\n",
    "        X = X.drop(i)\n",
    "        continue\n",
    "    for t in tools:\n",
    "        X.loc[i,t] = 1\n",
    "    for m in machines:\n",
    "        X.loc[i,m] = 1\n",
    "    X.loc[i,'num_plantstar_entries'] = num_entries\n",
    "X = X.fillna(0)\\\n",
    "    .reset_index(drop= True)\n",
    "X.head()"
   ]
  },
  {
   "cell_type": "markdown",
   "metadata": {},
   "source": [
    "### Quality Records Data <a name = \"qualitydata\"></a>\n",
    "[return](#tableofcontents)"
   ]
  },
  {
   "cell_type": "code",
   "execution_count": 19,
   "metadata": {
    "tags": []
   },
   "outputs": [
    {
     "name": "stdout",
     "output_type": "stream",
     "text": [
      "Searching for most recent NC Full Report file \n",
      "C:\\Users\\steven.hansen01\\OneDrive - Cardinal Health\\General\\quality_issue_predictor\\raw_data\n"
     ]
    },
    {
     "data": {
      "text/plain": [
       "('NC Full Report with AQL (3).xlsx',\n",
       " 'C:\\\\Users\\\\steven.hansen01\\\\OneDrive - Cardinal Health\\\\General\\\\quality_issue_predictor\\\\raw_data\\\\NC Full Report with AQL (3).xlsx',\n",
       " '9/23/2021')"
      ]
     },
     "execution_count": 19,
     "metadata": {},
     "output_type": "execute_result"
    }
   ],
   "source": [
    "\n",
    "nc_data = nc_full.NC_Full()\n",
    "nc_data.mostrecentreport(og_data_path = os.getcwd()+r'\\raw_data')"
   ]
  },
  {
   "cell_type": "code",
   "execution_count": 20,
   "metadata": {
    "tags": []
   },
   "outputs": [
    {
     "name": "stdout",
     "output_type": "stream",
     "text": [
      "Running NC Full Report...\n",
      "Compiling index, sit tight...\n"
     ]
    }
   ],
   "source": [
    "nc_data = nc_data.run_report()"
   ]
  },
  {
   "cell_type": "code",
   "execution_count": 21,
   "metadata": {},
   "outputs": [
    {
     "data": {
      "text/plain": [
       "0      123456789\n",
       "1      123456789\n",
       "2      19A22163X\n",
       "3       18G03863\n",
       "4       18L18563\n",
       "         ...    \n",
       "716     21J02963\n",
       "717             \n",
       "718             \n",
       "719             \n",
       "720     21J04063\n",
       "Name: Lot Number, Length: 721, dtype: object"
      ]
     },
     "execution_count": 21,
     "metadata": {},
     "output_type": "execute_result"
    }
   ],
   "source": [
    "nc_data['Lot Number']"
   ]
  },
  {
   "cell_type": "code",
   "execution_count": 22,
   "metadata": {},
   "outputs": [],
   "source": [
    "for i, lot_number in enumerate(X['Lot Number']):\n",
    "    for j, nc_lot_nums in enumerate(nc_data['Lot Number']):\n",
    "        if lot_number in nc_lot_nums:\n",
    "            X.loc[i,'NC'] = 1\n",
    "            break\n"
   ]
  },
  {
   "cell_type": "code",
   "execution_count": 23,
   "metadata": {},
   "outputs": [],
   "source": [
    "X = X.fillna(0)"
   ]
  },
  {
   "cell_type": "code",
   "execution_count": 24,
   "metadata": {},
   "outputs": [
    {
     "data": {
      "text/plain": [
       "93.0"
      ]
     },
     "execution_count": 24,
     "metadata": {},
     "output_type": "execute_result"
    }
   ],
   "source": [
    "sum(X.NC)"
   ]
  },
  {
   "cell_type": "code",
   "execution_count": 25,
   "metadata": {},
   "outputs": [
    {
     "data": {
      "text/html": [
       "<div>\n",
       "<style scoped>\n",
       "    .dataframe tbody tr th:only-of-type {\n",
       "        vertical-align: middle;\n",
       "    }\n",
       "\n",
       "    .dataframe tbody tr th {\n",
       "        vertical-align: top;\n",
       "    }\n",
       "\n",
       "    .dataframe thead th {\n",
       "        text-align: right;\n",
       "    }\n",
       "</style>\n",
       "<table border=\"1\" class=\"dataframe\">\n",
       "  <thead>\n",
       "    <tr style=\"text-align: right;\">\n",
       "      <th></th>\n",
       "      <th>Lot Number</th>\n",
       "      <th>Product</th>\n",
       "      <th>Date</th>\n",
       "      <th>Shop Order</th>\n",
       "      <th>DC00056758</th>\n",
       "      <th>EXP5013</th>\n",
       "      <th>EXP5050</th>\n",
       "      <th>PT00009994</th>\n",
       "      <th>0301001</th>\n",
       "      <th>4001204</th>\n",
       "      <th>...</th>\n",
       "      <th>R7451A</th>\n",
       "      <th>90-N120</th>\n",
       "      <th>R7067C</th>\n",
       "      <th>R7569B-Thin-Wall</th>\n",
       "      <th>R7024L</th>\n",
       "      <th>R7102B</th>\n",
       "      <th>76-V400</th>\n",
       "      <th>R7515B</th>\n",
       "      <th>63-N500</th>\n",
       "      <th>NC</th>\n",
       "    </tr>\n",
       "  </thead>\n",
       "  <tbody>\n",
       "    <tr>\n",
       "      <th>0</th>\n",
       "      <td>19G28063</td>\n",
       "      <td>8985CRS</td>\n",
       "      <td>2020-02-25</td>\n",
       "      <td>189592</td>\n",
       "      <td>0.0</td>\n",
       "      <td>0.0</td>\n",
       "      <td>0.0</td>\n",
       "      <td>0.0</td>\n",
       "      <td>0.0</td>\n",
       "      <td>0.0</td>\n",
       "      <td>...</td>\n",
       "      <td>0.0</td>\n",
       "      <td>0.0</td>\n",
       "      <td>0.0</td>\n",
       "      <td>0.0</td>\n",
       "      <td>0.0</td>\n",
       "      <td>0.0</td>\n",
       "      <td>0.0</td>\n",
       "      <td>0.0</td>\n",
       "      <td>0.0</td>\n",
       "      <td>0.0</td>\n",
       "    </tr>\n",
       "    <tr>\n",
       "      <th>1</th>\n",
       "      <td>19H06863</td>\n",
       "      <td>8608U</td>\n",
       "      <td>2020-02-19</td>\n",
       "      <td>189686</td>\n",
       "      <td>0.0</td>\n",
       "      <td>0.0</td>\n",
       "      <td>0.0</td>\n",
       "      <td>0.0</td>\n",
       "      <td>0.0</td>\n",
       "      <td>0.0</td>\n",
       "      <td>...</td>\n",
       "      <td>0.0</td>\n",
       "      <td>0.0</td>\n",
       "      <td>0.0</td>\n",
       "      <td>0.0</td>\n",
       "      <td>0.0</td>\n",
       "      <td>0.0</td>\n",
       "      <td>0.0</td>\n",
       "      <td>0.0</td>\n",
       "      <td>0.0</td>\n",
       "      <td>0.0</td>\n",
       "    </tr>\n",
       "    <tr>\n",
       "      <th>2</th>\n",
       "      <td>19H12063</td>\n",
       "      <td>8851</td>\n",
       "      <td>2020-03-04</td>\n",
       "      <td>189772</td>\n",
       "      <td>0.0</td>\n",
       "      <td>0.0</td>\n",
       "      <td>0.0</td>\n",
       "      <td>0.0</td>\n",
       "      <td>0.0</td>\n",
       "      <td>0.0</td>\n",
       "      <td>...</td>\n",
       "      <td>0.0</td>\n",
       "      <td>0.0</td>\n",
       "      <td>0.0</td>\n",
       "      <td>0.0</td>\n",
       "      <td>0.0</td>\n",
       "      <td>0.0</td>\n",
       "      <td>0.0</td>\n",
       "      <td>0.0</td>\n",
       "      <td>0.0</td>\n",
       "      <td>1.0</td>\n",
       "    </tr>\n",
       "    <tr>\n",
       "      <th>3</th>\n",
       "      <td>19H17163</td>\n",
       "      <td>8851NB</td>\n",
       "      <td>2020-03-04</td>\n",
       "      <td>189853</td>\n",
       "      <td>0.0</td>\n",
       "      <td>0.0</td>\n",
       "      <td>0.0</td>\n",
       "      <td>0.0</td>\n",
       "      <td>0.0</td>\n",
       "      <td>0.0</td>\n",
       "      <td>...</td>\n",
       "      <td>0.0</td>\n",
       "      <td>0.0</td>\n",
       "      <td>0.0</td>\n",
       "      <td>0.0</td>\n",
       "      <td>0.0</td>\n",
       "      <td>0.0</td>\n",
       "      <td>0.0</td>\n",
       "      <td>0.0</td>\n",
       "      <td>0.0</td>\n",
       "      <td>0.0</td>\n",
       "    </tr>\n",
       "    <tr>\n",
       "      <th>4</th>\n",
       "      <td>19H25863</td>\n",
       "      <td>31144010</td>\n",
       "      <td>2020-01-15</td>\n",
       "      <td>189982</td>\n",
       "      <td>0.0</td>\n",
       "      <td>0.0</td>\n",
       "      <td>0.0</td>\n",
       "      <td>0.0</td>\n",
       "      <td>0.0</td>\n",
       "      <td>0.0</td>\n",
       "      <td>...</td>\n",
       "      <td>0.0</td>\n",
       "      <td>0.0</td>\n",
       "      <td>0.0</td>\n",
       "      <td>0.0</td>\n",
       "      <td>0.0</td>\n",
       "      <td>0.0</td>\n",
       "      <td>0.0</td>\n",
       "      <td>0.0</td>\n",
       "      <td>0.0</td>\n",
       "      <td>0.0</td>\n",
       "    </tr>\n",
       "  </tbody>\n",
       "</table>\n",
       "<p>5 rows × 777 columns</p>\n",
       "</div>"
      ],
      "text/plain": [
       "  Lot Number   Product       Date Shop Order  DC00056758  EXP5013  EXP5050  \\\n",
       "0   19G28063   8985CRS 2020-02-25     189592         0.0      0.0      0.0   \n",
       "1   19H06863     8608U 2020-02-19     189686         0.0      0.0      0.0   \n",
       "2   19H12063      8851 2020-03-04     189772         0.0      0.0      0.0   \n",
       "3   19H17163    8851NB 2020-03-04     189853         0.0      0.0      0.0   \n",
       "4   19H25863  31144010 2020-01-15     189982         0.0      0.0      0.0   \n",
       "\n",
       "   PT00009994  0301001  4001204  ...  R7451A  90-N120  R7067C  \\\n",
       "0         0.0      0.0      0.0  ...     0.0      0.0     0.0   \n",
       "1         0.0      0.0      0.0  ...     0.0      0.0     0.0   \n",
       "2         0.0      0.0      0.0  ...     0.0      0.0     0.0   \n",
       "3         0.0      0.0      0.0  ...     0.0      0.0     0.0   \n",
       "4         0.0      0.0      0.0  ...     0.0      0.0     0.0   \n",
       "\n",
       "   R7569B-Thin-Wall  R7024L  R7102B  76-V400  R7515B  63-N500   NC  \n",
       "0               0.0     0.0     0.0      0.0     0.0      0.0  0.0  \n",
       "1               0.0     0.0     0.0      0.0     0.0      0.0  0.0  \n",
       "2               0.0     0.0     0.0      0.0     0.0      0.0  1.0  \n",
       "3               0.0     0.0     0.0      0.0     0.0      0.0  0.0  \n",
       "4               0.0     0.0     0.0      0.0     0.0      0.0  0.0  \n",
       "\n",
       "[5 rows x 777 columns]"
      ]
     },
     "execution_count": 25,
     "metadata": {},
     "output_type": "execute_result"
    }
   ],
   "source": [
    "X.head()"
   ]
  },
  {
   "cell_type": "markdown",
   "metadata": {},
   "source": [
    "## Models <a name = 'models'></a>\n",
    "[return](#tableofcontents)"
   ]
  },
  {
   "cell_type": "markdown",
   "metadata": {},
   "source": [
    "### Kmeans clustering no NC data <a name = 'kmeansnonc'></a>\n",
    "[return](#tableofcontents)"
   ]
  },
  {
   "cell_type": "code",
   "execution_count": 26,
   "metadata": {},
   "outputs": [],
   "source": [
    "from sklearn.cluster import KMeans"
   ]
  },
  {
   "cell_type": "code",
   "execution_count": 27,
   "metadata": {
    "tags": []
   },
   "outputs": [],
   "source": [
    "for col in X.columns[4:]:\n",
    "    if str(col) == 'nan':\n",
    "       X =  X.drop(columns =col)"
   ]
  },
  {
   "cell_type": "code",
   "execution_count": 28,
   "metadata": {
    "scrolled": true
   },
   "outputs": [],
   "source": [
    "X_cluster = X[X.columns[4:]].to_numpy()"
   ]
  },
  {
   "cell_type": "code",
   "execution_count": 29,
   "metadata": {},
   "outputs": [],
   "source": [
    "kmeans = KMeans(n_clusters=8, random_state=0).fit(X_cluster)"
   ]
  },
  {
   "cell_type": "code",
   "execution_count": 30,
   "metadata": {},
   "outputs": [
    {
     "data": {
      "text/plain": [
       "1171"
      ]
     },
     "execution_count": 30,
     "metadata": {},
     "output_type": "execute_result"
    }
   ],
   "source": [
    "len(kmeans.labels_)"
   ]
  },
  {
   "cell_type": "code",
   "execution_count": 31,
   "metadata": {},
   "outputs": [
    {
     "data": {
      "text/plain": [
       "1171"
      ]
     },
     "execution_count": 31,
     "metadata": {},
     "output_type": "execute_result"
    }
   ],
   "source": [
    "len(X_cluster)"
   ]
  },
  {
   "cell_type": "code",
   "execution_count": 32,
   "metadata": {},
   "outputs": [],
   "source": [
    "X[\"labels\"] = list(kmeans.labels_)"
   ]
  },
  {
   "cell_type": "code",
   "execution_count": 33,
   "metadata": {},
   "outputs": [
    {
     "data": {
      "text/html": [
       "<div>\n",
       "<style scoped>\n",
       "    .dataframe tbody tr th:only-of-type {\n",
       "        vertical-align: middle;\n",
       "    }\n",
       "\n",
       "    .dataframe tbody tr th {\n",
       "        vertical-align: top;\n",
       "    }\n",
       "\n",
       "    .dataframe thead th {\n",
       "        text-align: right;\n",
       "    }\n",
       "</style>\n",
       "<table border=\"1\" class=\"dataframe\">\n",
       "  <thead>\n",
       "    <tr style=\"text-align: right;\">\n",
       "      <th></th>\n",
       "      <th>Lot Number</th>\n",
       "      <th>Product</th>\n",
       "      <th>Date</th>\n",
       "      <th>Shop Order</th>\n",
       "      <th>DC00056758</th>\n",
       "      <th>EXP5013</th>\n",
       "      <th>EXP5050</th>\n",
       "      <th>PT00009994</th>\n",
       "      <th>0301001</th>\n",
       "      <th>4001204</th>\n",
       "      <th>...</th>\n",
       "      <th>90-N120</th>\n",
       "      <th>R7067C</th>\n",
       "      <th>R7569B-Thin-Wall</th>\n",
       "      <th>R7024L</th>\n",
       "      <th>R7102B</th>\n",
       "      <th>76-V400</th>\n",
       "      <th>R7515B</th>\n",
       "      <th>63-N500</th>\n",
       "      <th>NC</th>\n",
       "      <th>labels</th>\n",
       "    </tr>\n",
       "  </thead>\n",
       "  <tbody>\n",
       "    <tr>\n",
       "      <th>900</th>\n",
       "      <td>20M14563</td>\n",
       "      <td>8985</td>\n",
       "      <td>2021-03-10</td>\n",
       "      <td>195308</td>\n",
       "      <td>0.0</td>\n",
       "      <td>0.0</td>\n",
       "      <td>0.0</td>\n",
       "      <td>0.0</td>\n",
       "      <td>0.0</td>\n",
       "      <td>0.0</td>\n",
       "      <td>...</td>\n",
       "      <td>0.0</td>\n",
       "      <td>0.0</td>\n",
       "      <td>0.0</td>\n",
       "      <td>0.0</td>\n",
       "      <td>0.0</td>\n",
       "      <td>0.0</td>\n",
       "      <td>0.0</td>\n",
       "      <td>0.0</td>\n",
       "      <td>0.0</td>\n",
       "      <td>7</td>\n",
       "    </tr>\n",
       "    <tr>\n",
       "      <th>910</th>\n",
       "      <td>20M21763</td>\n",
       "      <td>8985</td>\n",
       "      <td>2021-03-10</td>\n",
       "      <td>195388</td>\n",
       "      <td>0.0</td>\n",
       "      <td>0.0</td>\n",
       "      <td>0.0</td>\n",
       "      <td>0.0</td>\n",
       "      <td>0.0</td>\n",
       "      <td>0.0</td>\n",
       "      <td>...</td>\n",
       "      <td>0.0</td>\n",
       "      <td>0.0</td>\n",
       "      <td>0.0</td>\n",
       "      <td>0.0</td>\n",
       "      <td>0.0</td>\n",
       "      <td>0.0</td>\n",
       "      <td>0.0</td>\n",
       "      <td>0.0</td>\n",
       "      <td>0.0</td>\n",
       "      <td>7</td>\n",
       "    </tr>\n",
       "    <tr>\n",
       "      <th>970</th>\n",
       "      <td>21A21063</td>\n",
       "      <td>8985CRH</td>\n",
       "      <td>2021-04-29</td>\n",
       "      <td>195723</td>\n",
       "      <td>0.0</td>\n",
       "      <td>0.0</td>\n",
       "      <td>0.0</td>\n",
       "      <td>0.0</td>\n",
       "      <td>0.0</td>\n",
       "      <td>0.0</td>\n",
       "      <td>...</td>\n",
       "      <td>0.0</td>\n",
       "      <td>0.0</td>\n",
       "      <td>0.0</td>\n",
       "      <td>0.0</td>\n",
       "      <td>0.0</td>\n",
       "      <td>0.0</td>\n",
       "      <td>0.0</td>\n",
       "      <td>0.0</td>\n",
       "      <td>0.0</td>\n",
       "      <td>7</td>\n",
       "    </tr>\n",
       "    <tr>\n",
       "      <th>976</th>\n",
       "      <td>21A24263</td>\n",
       "      <td>8985</td>\n",
       "      <td>2021-02-18</td>\n",
       "      <td>195780</td>\n",
       "      <td>0.0</td>\n",
       "      <td>0.0</td>\n",
       "      <td>0.0</td>\n",
       "      <td>0.0</td>\n",
       "      <td>0.0</td>\n",
       "      <td>0.0</td>\n",
       "      <td>...</td>\n",
       "      <td>0.0</td>\n",
       "      <td>0.0</td>\n",
       "      <td>0.0</td>\n",
       "      <td>0.0</td>\n",
       "      <td>0.0</td>\n",
       "      <td>0.0</td>\n",
       "      <td>0.0</td>\n",
       "      <td>0.0</td>\n",
       "      <td>0.0</td>\n",
       "      <td>7</td>\n",
       "    </tr>\n",
       "    <tr>\n",
       "      <th>977</th>\n",
       "      <td>21A24363</td>\n",
       "      <td>8985</td>\n",
       "      <td>2021-02-17</td>\n",
       "      <td>195781</td>\n",
       "      <td>0.0</td>\n",
       "      <td>0.0</td>\n",
       "      <td>0.0</td>\n",
       "      <td>0.0</td>\n",
       "      <td>0.0</td>\n",
       "      <td>0.0</td>\n",
       "      <td>...</td>\n",
       "      <td>0.0</td>\n",
       "      <td>0.0</td>\n",
       "      <td>0.0</td>\n",
       "      <td>0.0</td>\n",
       "      <td>0.0</td>\n",
       "      <td>0.0</td>\n",
       "      <td>0.0</td>\n",
       "      <td>0.0</td>\n",
       "      <td>0.0</td>\n",
       "      <td>7</td>\n",
       "    </tr>\n",
       "    <tr>\n",
       "      <th>978</th>\n",
       "      <td>21A24463</td>\n",
       "      <td>8985</td>\n",
       "      <td>2021-02-17</td>\n",
       "      <td>195782</td>\n",
       "      <td>0.0</td>\n",
       "      <td>0.0</td>\n",
       "      <td>0.0</td>\n",
       "      <td>0.0</td>\n",
       "      <td>0.0</td>\n",
       "      <td>0.0</td>\n",
       "      <td>...</td>\n",
       "      <td>0.0</td>\n",
       "      <td>0.0</td>\n",
       "      <td>0.0</td>\n",
       "      <td>0.0</td>\n",
       "      <td>0.0</td>\n",
       "      <td>0.0</td>\n",
       "      <td>0.0</td>\n",
       "      <td>0.0</td>\n",
       "      <td>0.0</td>\n",
       "      <td>7</td>\n",
       "    </tr>\n",
       "    <tr>\n",
       "      <th>1010</th>\n",
       "      <td>21B23963</td>\n",
       "      <td>8781</td>\n",
       "      <td>2021-04-28</td>\n",
       "      <td>196108</td>\n",
       "      <td>0.0</td>\n",
       "      <td>0.0</td>\n",
       "      <td>0.0</td>\n",
       "      <td>0.0</td>\n",
       "      <td>0.0</td>\n",
       "      <td>0.0</td>\n",
       "      <td>...</td>\n",
       "      <td>0.0</td>\n",
       "      <td>0.0</td>\n",
       "      <td>0.0</td>\n",
       "      <td>0.0</td>\n",
       "      <td>0.0</td>\n",
       "      <td>0.0</td>\n",
       "      <td>0.0</td>\n",
       "      <td>0.0</td>\n",
       "      <td>0.0</td>\n",
       "      <td>7</td>\n",
       "    </tr>\n",
       "    <tr>\n",
       "      <th>1024</th>\n",
       "      <td>21C01263</td>\n",
       "      <td>8980S</td>\n",
       "      <td>2021-05-24</td>\n",
       "      <td>196321</td>\n",
       "      <td>0.0</td>\n",
       "      <td>0.0</td>\n",
       "      <td>0.0</td>\n",
       "      <td>0.0</td>\n",
       "      <td>0.0</td>\n",
       "      <td>0.0</td>\n",
       "      <td>...</td>\n",
       "      <td>0.0</td>\n",
       "      <td>0.0</td>\n",
       "      <td>0.0</td>\n",
       "      <td>0.0</td>\n",
       "      <td>0.0</td>\n",
       "      <td>0.0</td>\n",
       "      <td>0.0</td>\n",
       "      <td>0.0</td>\n",
       "      <td>0.0</td>\n",
       "      <td>7</td>\n",
       "    </tr>\n",
       "    <tr>\n",
       "      <th>1025</th>\n",
       "      <td>21C01363</td>\n",
       "      <td>8980Y</td>\n",
       "      <td>2021-03-24</td>\n",
       "      <td>196322</td>\n",
       "      <td>0.0</td>\n",
       "      <td>0.0</td>\n",
       "      <td>0.0</td>\n",
       "      <td>0.0</td>\n",
       "      <td>0.0</td>\n",
       "      <td>0.0</td>\n",
       "      <td>...</td>\n",
       "      <td>0.0</td>\n",
       "      <td>0.0</td>\n",
       "      <td>0.0</td>\n",
       "      <td>0.0</td>\n",
       "      <td>0.0</td>\n",
       "      <td>0.0</td>\n",
       "      <td>0.0</td>\n",
       "      <td>0.0</td>\n",
       "      <td>0.0</td>\n",
       "      <td>7</td>\n",
       "    </tr>\n",
       "    <tr>\n",
       "      <th>1026</th>\n",
       "      <td>21C02163</td>\n",
       "      <td>8985</td>\n",
       "      <td>2021-03-31</td>\n",
       "      <td>196333</td>\n",
       "      <td>0.0</td>\n",
       "      <td>0.0</td>\n",
       "      <td>0.0</td>\n",
       "      <td>0.0</td>\n",
       "      <td>0.0</td>\n",
       "      <td>0.0</td>\n",
       "      <td>...</td>\n",
       "      <td>0.0</td>\n",
       "      <td>0.0</td>\n",
       "      <td>0.0</td>\n",
       "      <td>0.0</td>\n",
       "      <td>0.0</td>\n",
       "      <td>0.0</td>\n",
       "      <td>0.0</td>\n",
       "      <td>0.0</td>\n",
       "      <td>0.0</td>\n",
       "      <td>7</td>\n",
       "    </tr>\n",
       "    <tr>\n",
       "      <th>1027</th>\n",
       "      <td>21C02263</td>\n",
       "      <td>8985</td>\n",
       "      <td>2021-03-31</td>\n",
       "      <td>196334</td>\n",
       "      <td>0.0</td>\n",
       "      <td>0.0</td>\n",
       "      <td>0.0</td>\n",
       "      <td>0.0</td>\n",
       "      <td>0.0</td>\n",
       "      <td>0.0</td>\n",
       "      <td>...</td>\n",
       "      <td>0.0</td>\n",
       "      <td>0.0</td>\n",
       "      <td>0.0</td>\n",
       "      <td>0.0</td>\n",
       "      <td>0.0</td>\n",
       "      <td>0.0</td>\n",
       "      <td>0.0</td>\n",
       "      <td>0.0</td>\n",
       "      <td>0.0</td>\n",
       "      <td>7</td>\n",
       "    </tr>\n",
       "    <tr>\n",
       "      <th>1028</th>\n",
       "      <td>21C02363</td>\n",
       "      <td>8985</td>\n",
       "      <td>2021-03-31</td>\n",
       "      <td>196335</td>\n",
       "      <td>0.0</td>\n",
       "      <td>0.0</td>\n",
       "      <td>0.0</td>\n",
       "      <td>0.0</td>\n",
       "      <td>0.0</td>\n",
       "      <td>0.0</td>\n",
       "      <td>...</td>\n",
       "      <td>0.0</td>\n",
       "      <td>0.0</td>\n",
       "      <td>0.0</td>\n",
       "      <td>0.0</td>\n",
       "      <td>0.0</td>\n",
       "      <td>0.0</td>\n",
       "      <td>0.0</td>\n",
       "      <td>0.0</td>\n",
       "      <td>0.0</td>\n",
       "      <td>7</td>\n",
       "    </tr>\n",
       "    <tr>\n",
       "      <th>1035</th>\n",
       "      <td>21C11663</td>\n",
       "      <td>8850</td>\n",
       "      <td>2021-03-17</td>\n",
       "      <td>196477</td>\n",
       "      <td>0.0</td>\n",
       "      <td>0.0</td>\n",
       "      <td>0.0</td>\n",
       "      <td>0.0</td>\n",
       "      <td>0.0</td>\n",
       "      <td>0.0</td>\n",
       "      <td>...</td>\n",
       "      <td>0.0</td>\n",
       "      <td>0.0</td>\n",
       "      <td>0.0</td>\n",
       "      <td>0.0</td>\n",
       "      <td>0.0</td>\n",
       "      <td>0.0</td>\n",
       "      <td>0.0</td>\n",
       "      <td>0.0</td>\n",
       "      <td>0.0</td>\n",
       "      <td>7</td>\n",
       "    </tr>\n",
       "    <tr>\n",
       "      <th>1046</th>\n",
       "      <td>21C16563</td>\n",
       "      <td>8980</td>\n",
       "      <td>2021-05-03</td>\n",
       "      <td>196527</td>\n",
       "      <td>0.0</td>\n",
       "      <td>0.0</td>\n",
       "      <td>0.0</td>\n",
       "      <td>0.0</td>\n",
       "      <td>0.0</td>\n",
       "      <td>0.0</td>\n",
       "      <td>...</td>\n",
       "      <td>0.0</td>\n",
       "      <td>0.0</td>\n",
       "      <td>0.0</td>\n",
       "      <td>0.0</td>\n",
       "      <td>0.0</td>\n",
       "      <td>0.0</td>\n",
       "      <td>0.0</td>\n",
       "      <td>0.0</td>\n",
       "      <td>0.0</td>\n",
       "      <td>7</td>\n",
       "    </tr>\n",
       "    <tr>\n",
       "      <th>1095</th>\n",
       "      <td>21C41063</td>\n",
       "      <td>8985</td>\n",
       "      <td>2021-04-21</td>\n",
       "      <td>196840</td>\n",
       "      <td>0.0</td>\n",
       "      <td>0.0</td>\n",
       "      <td>0.0</td>\n",
       "      <td>0.0</td>\n",
       "      <td>0.0</td>\n",
       "      <td>0.0</td>\n",
       "      <td>...</td>\n",
       "      <td>0.0</td>\n",
       "      <td>0.0</td>\n",
       "      <td>0.0</td>\n",
       "      <td>0.0</td>\n",
       "      <td>0.0</td>\n",
       "      <td>0.0</td>\n",
       "      <td>0.0</td>\n",
       "      <td>0.0</td>\n",
       "      <td>0.0</td>\n",
       "      <td>7</td>\n",
       "    </tr>\n",
       "    <tr>\n",
       "      <th>1096</th>\n",
       "      <td>21C41163</td>\n",
       "      <td>8985</td>\n",
       "      <td>2021-07-14</td>\n",
       "      <td>196841</td>\n",
       "      <td>0.0</td>\n",
       "      <td>0.0</td>\n",
       "      <td>0.0</td>\n",
       "      <td>0.0</td>\n",
       "      <td>0.0</td>\n",
       "      <td>0.0</td>\n",
       "      <td>...</td>\n",
       "      <td>0.0</td>\n",
       "      <td>0.0</td>\n",
       "      <td>0.0</td>\n",
       "      <td>0.0</td>\n",
       "      <td>0.0</td>\n",
       "      <td>0.0</td>\n",
       "      <td>0.0</td>\n",
       "      <td>0.0</td>\n",
       "      <td>0.0</td>\n",
       "      <td>7</td>\n",
       "    </tr>\n",
       "    <tr>\n",
       "      <th>1099</th>\n",
       "      <td>21C42963</td>\n",
       "      <td>8980</td>\n",
       "      <td>2021-06-01</td>\n",
       "      <td>196859</td>\n",
       "      <td>0.0</td>\n",
       "      <td>0.0</td>\n",
       "      <td>0.0</td>\n",
       "      <td>0.0</td>\n",
       "      <td>0.0</td>\n",
       "      <td>0.0</td>\n",
       "      <td>...</td>\n",
       "      <td>0.0</td>\n",
       "      <td>0.0</td>\n",
       "      <td>0.0</td>\n",
       "      <td>0.0</td>\n",
       "      <td>0.0</td>\n",
       "      <td>0.0</td>\n",
       "      <td>0.0</td>\n",
       "      <td>0.0</td>\n",
       "      <td>0.0</td>\n",
       "      <td>7</td>\n",
       "    </tr>\n",
       "    <tr>\n",
       "      <th>1130</th>\n",
       "      <td>21D11063</td>\n",
       "      <td>8980Y</td>\n",
       "      <td>2021-06-16</td>\n",
       "      <td>197116</td>\n",
       "      <td>0.0</td>\n",
       "      <td>0.0</td>\n",
       "      <td>0.0</td>\n",
       "      <td>0.0</td>\n",
       "      <td>0.0</td>\n",
       "      <td>0.0</td>\n",
       "      <td>...</td>\n",
       "      <td>0.0</td>\n",
       "      <td>0.0</td>\n",
       "      <td>0.0</td>\n",
       "      <td>0.0</td>\n",
       "      <td>0.0</td>\n",
       "      <td>0.0</td>\n",
       "      <td>0.0</td>\n",
       "      <td>0.0</td>\n",
       "      <td>0.0</td>\n",
       "      <td>7</td>\n",
       "    </tr>\n",
       "    <tr>\n",
       "      <th>1143</th>\n",
       "      <td>21E00663</td>\n",
       "      <td>8985S</td>\n",
       "      <td>2021-05-19</td>\n",
       "      <td>197347</td>\n",
       "      <td>0.0</td>\n",
       "      <td>0.0</td>\n",
       "      <td>0.0</td>\n",
       "      <td>0.0</td>\n",
       "      <td>0.0</td>\n",
       "      <td>0.0</td>\n",
       "      <td>...</td>\n",
       "      <td>0.0</td>\n",
       "      <td>0.0</td>\n",
       "      <td>0.0</td>\n",
       "      <td>0.0</td>\n",
       "      <td>0.0</td>\n",
       "      <td>0.0</td>\n",
       "      <td>0.0</td>\n",
       "      <td>0.0</td>\n",
       "      <td>0.0</td>\n",
       "      <td>7</td>\n",
       "    </tr>\n",
       "  </tbody>\n",
       "</table>\n",
       "<p>19 rows × 777 columns</p>\n",
       "</div>"
      ],
      "text/plain": [
       "     Lot Number  Product       Date Shop Order  DC00056758  EXP5013  EXP5050  \\\n",
       "900    20M14563     8985 2021-03-10     195308         0.0      0.0      0.0   \n",
       "910    20M21763     8985 2021-03-10     195388         0.0      0.0      0.0   \n",
       "970    21A21063  8985CRH 2021-04-29     195723         0.0      0.0      0.0   \n",
       "976    21A24263     8985 2021-02-18     195780         0.0      0.0      0.0   \n",
       "977    21A24363     8985 2021-02-17     195781         0.0      0.0      0.0   \n",
       "978    21A24463     8985 2021-02-17     195782         0.0      0.0      0.0   \n",
       "1010   21B23963     8781 2021-04-28     196108         0.0      0.0      0.0   \n",
       "1024   21C01263    8980S 2021-05-24     196321         0.0      0.0      0.0   \n",
       "1025   21C01363    8980Y 2021-03-24     196322         0.0      0.0      0.0   \n",
       "1026   21C02163     8985 2021-03-31     196333         0.0      0.0      0.0   \n",
       "1027   21C02263     8985 2021-03-31     196334         0.0      0.0      0.0   \n",
       "1028   21C02363     8985 2021-03-31     196335         0.0      0.0      0.0   \n",
       "1035   21C11663     8850 2021-03-17     196477         0.0      0.0      0.0   \n",
       "1046   21C16563     8980 2021-05-03     196527         0.0      0.0      0.0   \n",
       "1095   21C41063     8985 2021-04-21     196840         0.0      0.0      0.0   \n",
       "1096   21C41163     8985 2021-07-14     196841         0.0      0.0      0.0   \n",
       "1099   21C42963     8980 2021-06-01     196859         0.0      0.0      0.0   \n",
       "1130   21D11063    8980Y 2021-06-16     197116         0.0      0.0      0.0   \n",
       "1143   21E00663    8985S 2021-05-19     197347         0.0      0.0      0.0   \n",
       "\n",
       "      PT00009994  0301001  4001204  ...  90-N120  R7067C  R7569B-Thin-Wall  \\\n",
       "900          0.0      0.0      0.0  ...      0.0     0.0               0.0   \n",
       "910          0.0      0.0      0.0  ...      0.0     0.0               0.0   \n",
       "970          0.0      0.0      0.0  ...      0.0     0.0               0.0   \n",
       "976          0.0      0.0      0.0  ...      0.0     0.0               0.0   \n",
       "977          0.0      0.0      0.0  ...      0.0     0.0               0.0   \n",
       "978          0.0      0.0      0.0  ...      0.0     0.0               0.0   \n",
       "1010         0.0      0.0      0.0  ...      0.0     0.0               0.0   \n",
       "1024         0.0      0.0      0.0  ...      0.0     0.0               0.0   \n",
       "1025         0.0      0.0      0.0  ...      0.0     0.0               0.0   \n",
       "1026         0.0      0.0      0.0  ...      0.0     0.0               0.0   \n",
       "1027         0.0      0.0      0.0  ...      0.0     0.0               0.0   \n",
       "1028         0.0      0.0      0.0  ...      0.0     0.0               0.0   \n",
       "1035         0.0      0.0      0.0  ...      0.0     0.0               0.0   \n",
       "1046         0.0      0.0      0.0  ...      0.0     0.0               0.0   \n",
       "1095         0.0      0.0      0.0  ...      0.0     0.0               0.0   \n",
       "1096         0.0      0.0      0.0  ...      0.0     0.0               0.0   \n",
       "1099         0.0      0.0      0.0  ...      0.0     0.0               0.0   \n",
       "1130         0.0      0.0      0.0  ...      0.0     0.0               0.0   \n",
       "1143         0.0      0.0      0.0  ...      0.0     0.0               0.0   \n",
       "\n",
       "      R7024L  R7102B  76-V400  R7515B  63-N500   NC  labels  \n",
       "900      0.0     0.0      0.0     0.0      0.0  0.0       7  \n",
       "910      0.0     0.0      0.0     0.0      0.0  0.0       7  \n",
       "970      0.0     0.0      0.0     0.0      0.0  0.0       7  \n",
       "976      0.0     0.0      0.0     0.0      0.0  0.0       7  \n",
       "977      0.0     0.0      0.0     0.0      0.0  0.0       7  \n",
       "978      0.0     0.0      0.0     0.0      0.0  0.0       7  \n",
       "1010     0.0     0.0      0.0     0.0      0.0  0.0       7  \n",
       "1024     0.0     0.0      0.0     0.0      0.0  0.0       7  \n",
       "1025     0.0     0.0      0.0     0.0      0.0  0.0       7  \n",
       "1026     0.0     0.0      0.0     0.0      0.0  0.0       7  \n",
       "1027     0.0     0.0      0.0     0.0      0.0  0.0       7  \n",
       "1028     0.0     0.0      0.0     0.0      0.0  0.0       7  \n",
       "1035     0.0     0.0      0.0     0.0      0.0  0.0       7  \n",
       "1046     0.0     0.0      0.0     0.0      0.0  0.0       7  \n",
       "1095     0.0     0.0      0.0     0.0      0.0  0.0       7  \n",
       "1096     0.0     0.0      0.0     0.0      0.0  0.0       7  \n",
       "1099     0.0     0.0      0.0     0.0      0.0  0.0       7  \n",
       "1130     0.0     0.0      0.0     0.0      0.0  0.0       7  \n",
       "1143     0.0     0.0      0.0     0.0      0.0  0.0       7  \n",
       "\n",
       "[19 rows x 777 columns]"
      ]
     },
     "execution_count": 33,
     "metadata": {},
     "output_type": "execute_result"
    }
   ],
   "source": [
    "X[X.labels == 7]"
   ]
  },
  {
   "cell_type": "code",
   "execution_count": 34,
   "metadata": {
    "tags": []
   },
   "outputs": [
    {
     "name": "stdout",
     "output_type": "stream",
     "text": [
      "0 395\n",
      "1 453\n",
      "2 137\n",
      "3 94\n",
      "4 21\n",
      "5 30\n",
      "6 22\n",
      "7 19\n"
     ]
    }
   ],
   "source": [
    "for group, frame  in X.groupby(by = 'labels'):\n",
    "    print(group, str(len(frame)))"
   ]
  },
  {
   "cell_type": "markdown",
   "metadata": {},
   "source": [
    "### Combine k-Means results with NCs <a name = 'kmeanswithnc'></a>\n",
    "[return](#tableofcontents)"
   ]
  },
  {
   "cell_type": "code",
   "execution_count": 35,
   "metadata": {
    "tags": []
   },
   "outputs": [
    {
     "name": "stdout",
     "output_type": "stream",
     "text": [
      "0 7.59493670886076\n",
      "1 9.713024282560706\n",
      "2 8.02919708029197\n",
      "3 4.25531914893617\n",
      "4 4.761904761904762\n",
      "5 3.3333333333333335\n",
      "6 9.090909090909092\n",
      "7 0.0\n"
     ]
    }
   ],
   "source": [
    "for group, frame  in X.groupby(by = 'labels'):\n",
    "    print(group, sum(frame.NC)/len(frame)*100)\n"
   ]
  },
  {
   "cell_type": "code",
   "execution_count": 36,
   "metadata": {},
   "outputs": [
    {
     "data": {
      "text/html": [
       "<div>\n",
       "<style scoped>\n",
       "    .dataframe tbody tr th:only-of-type {\n",
       "        vertical-align: middle;\n",
       "    }\n",
       "\n",
       "    .dataframe tbody tr th {\n",
       "        vertical-align: top;\n",
       "    }\n",
       "\n",
       "    .dataframe thead th {\n",
       "        text-align: right;\n",
       "    }\n",
       "</style>\n",
       "<table border=\"1\" class=\"dataframe\">\n",
       "  <thead>\n",
       "    <tr style=\"text-align: right;\">\n",
       "      <th></th>\n",
       "      <th>Lot Number</th>\n",
       "      <th>Product</th>\n",
       "      <th>Date</th>\n",
       "      <th>Shop Order</th>\n",
       "      <th>DC00056758</th>\n",
       "      <th>EXP5013</th>\n",
       "      <th>EXP5050</th>\n",
       "      <th>PT00009994</th>\n",
       "      <th>0301001</th>\n",
       "      <th>4001204</th>\n",
       "      <th>...</th>\n",
       "      <th>90-N120</th>\n",
       "      <th>R7067C</th>\n",
       "      <th>R7569B-Thin-Wall</th>\n",
       "      <th>R7024L</th>\n",
       "      <th>R7102B</th>\n",
       "      <th>76-V400</th>\n",
       "      <th>R7515B</th>\n",
       "      <th>63-N500</th>\n",
       "      <th>NC</th>\n",
       "      <th>labels</th>\n",
       "    </tr>\n",
       "  </thead>\n",
       "  <tbody>\n",
       "    <tr>\n",
       "      <th>900</th>\n",
       "      <td>20M14563</td>\n",
       "      <td>8985</td>\n",
       "      <td>2021-03-10</td>\n",
       "      <td>195308</td>\n",
       "      <td>0.0</td>\n",
       "      <td>0.0</td>\n",
       "      <td>0.0</td>\n",
       "      <td>0.0</td>\n",
       "      <td>0.0</td>\n",
       "      <td>0.0</td>\n",
       "      <td>...</td>\n",
       "      <td>0.0</td>\n",
       "      <td>0.0</td>\n",
       "      <td>0.0</td>\n",
       "      <td>0.0</td>\n",
       "      <td>0.0</td>\n",
       "      <td>0.0</td>\n",
       "      <td>0.0</td>\n",
       "      <td>0.0</td>\n",
       "      <td>0.0</td>\n",
       "      <td>7</td>\n",
       "    </tr>\n",
       "    <tr>\n",
       "      <th>910</th>\n",
       "      <td>20M21763</td>\n",
       "      <td>8985</td>\n",
       "      <td>2021-03-10</td>\n",
       "      <td>195388</td>\n",
       "      <td>0.0</td>\n",
       "      <td>0.0</td>\n",
       "      <td>0.0</td>\n",
       "      <td>0.0</td>\n",
       "      <td>0.0</td>\n",
       "      <td>0.0</td>\n",
       "      <td>...</td>\n",
       "      <td>0.0</td>\n",
       "      <td>0.0</td>\n",
       "      <td>0.0</td>\n",
       "      <td>0.0</td>\n",
       "      <td>0.0</td>\n",
       "      <td>0.0</td>\n",
       "      <td>0.0</td>\n",
       "      <td>0.0</td>\n",
       "      <td>0.0</td>\n",
       "      <td>7</td>\n",
       "    </tr>\n",
       "    <tr>\n",
       "      <th>970</th>\n",
       "      <td>21A21063</td>\n",
       "      <td>8985CRH</td>\n",
       "      <td>2021-04-29</td>\n",
       "      <td>195723</td>\n",
       "      <td>0.0</td>\n",
       "      <td>0.0</td>\n",
       "      <td>0.0</td>\n",
       "      <td>0.0</td>\n",
       "      <td>0.0</td>\n",
       "      <td>0.0</td>\n",
       "      <td>...</td>\n",
       "      <td>0.0</td>\n",
       "      <td>0.0</td>\n",
       "      <td>0.0</td>\n",
       "      <td>0.0</td>\n",
       "      <td>0.0</td>\n",
       "      <td>0.0</td>\n",
       "      <td>0.0</td>\n",
       "      <td>0.0</td>\n",
       "      <td>0.0</td>\n",
       "      <td>7</td>\n",
       "    </tr>\n",
       "    <tr>\n",
       "      <th>976</th>\n",
       "      <td>21A24263</td>\n",
       "      <td>8985</td>\n",
       "      <td>2021-02-18</td>\n",
       "      <td>195780</td>\n",
       "      <td>0.0</td>\n",
       "      <td>0.0</td>\n",
       "      <td>0.0</td>\n",
       "      <td>0.0</td>\n",
       "      <td>0.0</td>\n",
       "      <td>0.0</td>\n",
       "      <td>...</td>\n",
       "      <td>0.0</td>\n",
       "      <td>0.0</td>\n",
       "      <td>0.0</td>\n",
       "      <td>0.0</td>\n",
       "      <td>0.0</td>\n",
       "      <td>0.0</td>\n",
       "      <td>0.0</td>\n",
       "      <td>0.0</td>\n",
       "      <td>0.0</td>\n",
       "      <td>7</td>\n",
       "    </tr>\n",
       "    <tr>\n",
       "      <th>977</th>\n",
       "      <td>21A24363</td>\n",
       "      <td>8985</td>\n",
       "      <td>2021-02-17</td>\n",
       "      <td>195781</td>\n",
       "      <td>0.0</td>\n",
       "      <td>0.0</td>\n",
       "      <td>0.0</td>\n",
       "      <td>0.0</td>\n",
       "      <td>0.0</td>\n",
       "      <td>0.0</td>\n",
       "      <td>...</td>\n",
       "      <td>0.0</td>\n",
       "      <td>0.0</td>\n",
       "      <td>0.0</td>\n",
       "      <td>0.0</td>\n",
       "      <td>0.0</td>\n",
       "      <td>0.0</td>\n",
       "      <td>0.0</td>\n",
       "      <td>0.0</td>\n",
       "      <td>0.0</td>\n",
       "      <td>7</td>\n",
       "    </tr>\n",
       "    <tr>\n",
       "      <th>978</th>\n",
       "      <td>21A24463</td>\n",
       "      <td>8985</td>\n",
       "      <td>2021-02-17</td>\n",
       "      <td>195782</td>\n",
       "      <td>0.0</td>\n",
       "      <td>0.0</td>\n",
       "      <td>0.0</td>\n",
       "      <td>0.0</td>\n",
       "      <td>0.0</td>\n",
       "      <td>0.0</td>\n",
       "      <td>...</td>\n",
       "      <td>0.0</td>\n",
       "      <td>0.0</td>\n",
       "      <td>0.0</td>\n",
       "      <td>0.0</td>\n",
       "      <td>0.0</td>\n",
       "      <td>0.0</td>\n",
       "      <td>0.0</td>\n",
       "      <td>0.0</td>\n",
       "      <td>0.0</td>\n",
       "      <td>7</td>\n",
       "    </tr>\n",
       "    <tr>\n",
       "      <th>1010</th>\n",
       "      <td>21B23963</td>\n",
       "      <td>8781</td>\n",
       "      <td>2021-04-28</td>\n",
       "      <td>196108</td>\n",
       "      <td>0.0</td>\n",
       "      <td>0.0</td>\n",
       "      <td>0.0</td>\n",
       "      <td>0.0</td>\n",
       "      <td>0.0</td>\n",
       "      <td>0.0</td>\n",
       "      <td>...</td>\n",
       "      <td>0.0</td>\n",
       "      <td>0.0</td>\n",
       "      <td>0.0</td>\n",
       "      <td>0.0</td>\n",
       "      <td>0.0</td>\n",
       "      <td>0.0</td>\n",
       "      <td>0.0</td>\n",
       "      <td>0.0</td>\n",
       "      <td>0.0</td>\n",
       "      <td>7</td>\n",
       "    </tr>\n",
       "    <tr>\n",
       "      <th>1024</th>\n",
       "      <td>21C01263</td>\n",
       "      <td>8980S</td>\n",
       "      <td>2021-05-24</td>\n",
       "      <td>196321</td>\n",
       "      <td>0.0</td>\n",
       "      <td>0.0</td>\n",
       "      <td>0.0</td>\n",
       "      <td>0.0</td>\n",
       "      <td>0.0</td>\n",
       "      <td>0.0</td>\n",
       "      <td>...</td>\n",
       "      <td>0.0</td>\n",
       "      <td>0.0</td>\n",
       "      <td>0.0</td>\n",
       "      <td>0.0</td>\n",
       "      <td>0.0</td>\n",
       "      <td>0.0</td>\n",
       "      <td>0.0</td>\n",
       "      <td>0.0</td>\n",
       "      <td>0.0</td>\n",
       "      <td>7</td>\n",
       "    </tr>\n",
       "    <tr>\n",
       "      <th>1025</th>\n",
       "      <td>21C01363</td>\n",
       "      <td>8980Y</td>\n",
       "      <td>2021-03-24</td>\n",
       "      <td>196322</td>\n",
       "      <td>0.0</td>\n",
       "      <td>0.0</td>\n",
       "      <td>0.0</td>\n",
       "      <td>0.0</td>\n",
       "      <td>0.0</td>\n",
       "      <td>0.0</td>\n",
       "      <td>...</td>\n",
       "      <td>0.0</td>\n",
       "      <td>0.0</td>\n",
       "      <td>0.0</td>\n",
       "      <td>0.0</td>\n",
       "      <td>0.0</td>\n",
       "      <td>0.0</td>\n",
       "      <td>0.0</td>\n",
       "      <td>0.0</td>\n",
       "      <td>0.0</td>\n",
       "      <td>7</td>\n",
       "    </tr>\n",
       "    <tr>\n",
       "      <th>1026</th>\n",
       "      <td>21C02163</td>\n",
       "      <td>8985</td>\n",
       "      <td>2021-03-31</td>\n",
       "      <td>196333</td>\n",
       "      <td>0.0</td>\n",
       "      <td>0.0</td>\n",
       "      <td>0.0</td>\n",
       "      <td>0.0</td>\n",
       "      <td>0.0</td>\n",
       "      <td>0.0</td>\n",
       "      <td>...</td>\n",
       "      <td>0.0</td>\n",
       "      <td>0.0</td>\n",
       "      <td>0.0</td>\n",
       "      <td>0.0</td>\n",
       "      <td>0.0</td>\n",
       "      <td>0.0</td>\n",
       "      <td>0.0</td>\n",
       "      <td>0.0</td>\n",
       "      <td>0.0</td>\n",
       "      <td>7</td>\n",
       "    </tr>\n",
       "    <tr>\n",
       "      <th>1027</th>\n",
       "      <td>21C02263</td>\n",
       "      <td>8985</td>\n",
       "      <td>2021-03-31</td>\n",
       "      <td>196334</td>\n",
       "      <td>0.0</td>\n",
       "      <td>0.0</td>\n",
       "      <td>0.0</td>\n",
       "      <td>0.0</td>\n",
       "      <td>0.0</td>\n",
       "      <td>0.0</td>\n",
       "      <td>...</td>\n",
       "      <td>0.0</td>\n",
       "      <td>0.0</td>\n",
       "      <td>0.0</td>\n",
       "      <td>0.0</td>\n",
       "      <td>0.0</td>\n",
       "      <td>0.0</td>\n",
       "      <td>0.0</td>\n",
       "      <td>0.0</td>\n",
       "      <td>0.0</td>\n",
       "      <td>7</td>\n",
       "    </tr>\n",
       "    <tr>\n",
       "      <th>1028</th>\n",
       "      <td>21C02363</td>\n",
       "      <td>8985</td>\n",
       "      <td>2021-03-31</td>\n",
       "      <td>196335</td>\n",
       "      <td>0.0</td>\n",
       "      <td>0.0</td>\n",
       "      <td>0.0</td>\n",
       "      <td>0.0</td>\n",
       "      <td>0.0</td>\n",
       "      <td>0.0</td>\n",
       "      <td>...</td>\n",
       "      <td>0.0</td>\n",
       "      <td>0.0</td>\n",
       "      <td>0.0</td>\n",
       "      <td>0.0</td>\n",
       "      <td>0.0</td>\n",
       "      <td>0.0</td>\n",
       "      <td>0.0</td>\n",
       "      <td>0.0</td>\n",
       "      <td>0.0</td>\n",
       "      <td>7</td>\n",
       "    </tr>\n",
       "    <tr>\n",
       "      <th>1035</th>\n",
       "      <td>21C11663</td>\n",
       "      <td>8850</td>\n",
       "      <td>2021-03-17</td>\n",
       "      <td>196477</td>\n",
       "      <td>0.0</td>\n",
       "      <td>0.0</td>\n",
       "      <td>0.0</td>\n",
       "      <td>0.0</td>\n",
       "      <td>0.0</td>\n",
       "      <td>0.0</td>\n",
       "      <td>...</td>\n",
       "      <td>0.0</td>\n",
       "      <td>0.0</td>\n",
       "      <td>0.0</td>\n",
       "      <td>0.0</td>\n",
       "      <td>0.0</td>\n",
       "      <td>0.0</td>\n",
       "      <td>0.0</td>\n",
       "      <td>0.0</td>\n",
       "      <td>0.0</td>\n",
       "      <td>7</td>\n",
       "    </tr>\n",
       "    <tr>\n",
       "      <th>1046</th>\n",
       "      <td>21C16563</td>\n",
       "      <td>8980</td>\n",
       "      <td>2021-05-03</td>\n",
       "      <td>196527</td>\n",
       "      <td>0.0</td>\n",
       "      <td>0.0</td>\n",
       "      <td>0.0</td>\n",
       "      <td>0.0</td>\n",
       "      <td>0.0</td>\n",
       "      <td>0.0</td>\n",
       "      <td>...</td>\n",
       "      <td>0.0</td>\n",
       "      <td>0.0</td>\n",
       "      <td>0.0</td>\n",
       "      <td>0.0</td>\n",
       "      <td>0.0</td>\n",
       "      <td>0.0</td>\n",
       "      <td>0.0</td>\n",
       "      <td>0.0</td>\n",
       "      <td>0.0</td>\n",
       "      <td>7</td>\n",
       "    </tr>\n",
       "    <tr>\n",
       "      <th>1095</th>\n",
       "      <td>21C41063</td>\n",
       "      <td>8985</td>\n",
       "      <td>2021-04-21</td>\n",
       "      <td>196840</td>\n",
       "      <td>0.0</td>\n",
       "      <td>0.0</td>\n",
       "      <td>0.0</td>\n",
       "      <td>0.0</td>\n",
       "      <td>0.0</td>\n",
       "      <td>0.0</td>\n",
       "      <td>...</td>\n",
       "      <td>0.0</td>\n",
       "      <td>0.0</td>\n",
       "      <td>0.0</td>\n",
       "      <td>0.0</td>\n",
       "      <td>0.0</td>\n",
       "      <td>0.0</td>\n",
       "      <td>0.0</td>\n",
       "      <td>0.0</td>\n",
       "      <td>0.0</td>\n",
       "      <td>7</td>\n",
       "    </tr>\n",
       "    <tr>\n",
       "      <th>1096</th>\n",
       "      <td>21C41163</td>\n",
       "      <td>8985</td>\n",
       "      <td>2021-07-14</td>\n",
       "      <td>196841</td>\n",
       "      <td>0.0</td>\n",
       "      <td>0.0</td>\n",
       "      <td>0.0</td>\n",
       "      <td>0.0</td>\n",
       "      <td>0.0</td>\n",
       "      <td>0.0</td>\n",
       "      <td>...</td>\n",
       "      <td>0.0</td>\n",
       "      <td>0.0</td>\n",
       "      <td>0.0</td>\n",
       "      <td>0.0</td>\n",
       "      <td>0.0</td>\n",
       "      <td>0.0</td>\n",
       "      <td>0.0</td>\n",
       "      <td>0.0</td>\n",
       "      <td>0.0</td>\n",
       "      <td>7</td>\n",
       "    </tr>\n",
       "    <tr>\n",
       "      <th>1099</th>\n",
       "      <td>21C42963</td>\n",
       "      <td>8980</td>\n",
       "      <td>2021-06-01</td>\n",
       "      <td>196859</td>\n",
       "      <td>0.0</td>\n",
       "      <td>0.0</td>\n",
       "      <td>0.0</td>\n",
       "      <td>0.0</td>\n",
       "      <td>0.0</td>\n",
       "      <td>0.0</td>\n",
       "      <td>...</td>\n",
       "      <td>0.0</td>\n",
       "      <td>0.0</td>\n",
       "      <td>0.0</td>\n",
       "      <td>0.0</td>\n",
       "      <td>0.0</td>\n",
       "      <td>0.0</td>\n",
       "      <td>0.0</td>\n",
       "      <td>0.0</td>\n",
       "      <td>0.0</td>\n",
       "      <td>7</td>\n",
       "    </tr>\n",
       "    <tr>\n",
       "      <th>1130</th>\n",
       "      <td>21D11063</td>\n",
       "      <td>8980Y</td>\n",
       "      <td>2021-06-16</td>\n",
       "      <td>197116</td>\n",
       "      <td>0.0</td>\n",
       "      <td>0.0</td>\n",
       "      <td>0.0</td>\n",
       "      <td>0.0</td>\n",
       "      <td>0.0</td>\n",
       "      <td>0.0</td>\n",
       "      <td>...</td>\n",
       "      <td>0.0</td>\n",
       "      <td>0.0</td>\n",
       "      <td>0.0</td>\n",
       "      <td>0.0</td>\n",
       "      <td>0.0</td>\n",
       "      <td>0.0</td>\n",
       "      <td>0.0</td>\n",
       "      <td>0.0</td>\n",
       "      <td>0.0</td>\n",
       "      <td>7</td>\n",
       "    </tr>\n",
       "    <tr>\n",
       "      <th>1143</th>\n",
       "      <td>21E00663</td>\n",
       "      <td>8985S</td>\n",
       "      <td>2021-05-19</td>\n",
       "      <td>197347</td>\n",
       "      <td>0.0</td>\n",
       "      <td>0.0</td>\n",
       "      <td>0.0</td>\n",
       "      <td>0.0</td>\n",
       "      <td>0.0</td>\n",
       "      <td>0.0</td>\n",
       "      <td>...</td>\n",
       "      <td>0.0</td>\n",
       "      <td>0.0</td>\n",
       "      <td>0.0</td>\n",
       "      <td>0.0</td>\n",
       "      <td>0.0</td>\n",
       "      <td>0.0</td>\n",
       "      <td>0.0</td>\n",
       "      <td>0.0</td>\n",
       "      <td>0.0</td>\n",
       "      <td>7</td>\n",
       "    </tr>\n",
       "  </tbody>\n",
       "</table>\n",
       "<p>19 rows × 777 columns</p>\n",
       "</div>"
      ],
      "text/plain": [
       "     Lot Number  Product       Date Shop Order  DC00056758  EXP5013  EXP5050  \\\n",
       "900    20M14563     8985 2021-03-10     195308         0.0      0.0      0.0   \n",
       "910    20M21763     8985 2021-03-10     195388         0.0      0.0      0.0   \n",
       "970    21A21063  8985CRH 2021-04-29     195723         0.0      0.0      0.0   \n",
       "976    21A24263     8985 2021-02-18     195780         0.0      0.0      0.0   \n",
       "977    21A24363     8985 2021-02-17     195781         0.0      0.0      0.0   \n",
       "978    21A24463     8985 2021-02-17     195782         0.0      0.0      0.0   \n",
       "1010   21B23963     8781 2021-04-28     196108         0.0      0.0      0.0   \n",
       "1024   21C01263    8980S 2021-05-24     196321         0.0      0.0      0.0   \n",
       "1025   21C01363    8980Y 2021-03-24     196322         0.0      0.0      0.0   \n",
       "1026   21C02163     8985 2021-03-31     196333         0.0      0.0      0.0   \n",
       "1027   21C02263     8985 2021-03-31     196334         0.0      0.0      0.0   \n",
       "1028   21C02363     8985 2021-03-31     196335         0.0      0.0      0.0   \n",
       "1035   21C11663     8850 2021-03-17     196477         0.0      0.0      0.0   \n",
       "1046   21C16563     8980 2021-05-03     196527         0.0      0.0      0.0   \n",
       "1095   21C41063     8985 2021-04-21     196840         0.0      0.0      0.0   \n",
       "1096   21C41163     8985 2021-07-14     196841         0.0      0.0      0.0   \n",
       "1099   21C42963     8980 2021-06-01     196859         0.0      0.0      0.0   \n",
       "1130   21D11063    8980Y 2021-06-16     197116         0.0      0.0      0.0   \n",
       "1143   21E00663    8985S 2021-05-19     197347         0.0      0.0      0.0   \n",
       "\n",
       "      PT00009994  0301001  4001204  ...  90-N120  R7067C  R7569B-Thin-Wall  \\\n",
       "900          0.0      0.0      0.0  ...      0.0     0.0               0.0   \n",
       "910          0.0      0.0      0.0  ...      0.0     0.0               0.0   \n",
       "970          0.0      0.0      0.0  ...      0.0     0.0               0.0   \n",
       "976          0.0      0.0      0.0  ...      0.0     0.0               0.0   \n",
       "977          0.0      0.0      0.0  ...      0.0     0.0               0.0   \n",
       "978          0.0      0.0      0.0  ...      0.0     0.0               0.0   \n",
       "1010         0.0      0.0      0.0  ...      0.0     0.0               0.0   \n",
       "1024         0.0      0.0      0.0  ...      0.0     0.0               0.0   \n",
       "1025         0.0      0.0      0.0  ...      0.0     0.0               0.0   \n",
       "1026         0.0      0.0      0.0  ...      0.0     0.0               0.0   \n",
       "1027         0.0      0.0      0.0  ...      0.0     0.0               0.0   \n",
       "1028         0.0      0.0      0.0  ...      0.0     0.0               0.0   \n",
       "1035         0.0      0.0      0.0  ...      0.0     0.0               0.0   \n",
       "1046         0.0      0.0      0.0  ...      0.0     0.0               0.0   \n",
       "1095         0.0      0.0      0.0  ...      0.0     0.0               0.0   \n",
       "1096         0.0      0.0      0.0  ...      0.0     0.0               0.0   \n",
       "1099         0.0      0.0      0.0  ...      0.0     0.0               0.0   \n",
       "1130         0.0      0.0      0.0  ...      0.0     0.0               0.0   \n",
       "1143         0.0      0.0      0.0  ...      0.0     0.0               0.0   \n",
       "\n",
       "      R7024L  R7102B  76-V400  R7515B  63-N500   NC  labels  \n",
       "900      0.0     0.0      0.0     0.0      0.0  0.0       7  \n",
       "910      0.0     0.0      0.0     0.0      0.0  0.0       7  \n",
       "970      0.0     0.0      0.0     0.0      0.0  0.0       7  \n",
       "976      0.0     0.0      0.0     0.0      0.0  0.0       7  \n",
       "977      0.0     0.0      0.0     0.0      0.0  0.0       7  \n",
       "978      0.0     0.0      0.0     0.0      0.0  0.0       7  \n",
       "1010     0.0     0.0      0.0     0.0      0.0  0.0       7  \n",
       "1024     0.0     0.0      0.0     0.0      0.0  0.0       7  \n",
       "1025     0.0     0.0      0.0     0.0      0.0  0.0       7  \n",
       "1026     0.0     0.0      0.0     0.0      0.0  0.0       7  \n",
       "1027     0.0     0.0      0.0     0.0      0.0  0.0       7  \n",
       "1028     0.0     0.0      0.0     0.0      0.0  0.0       7  \n",
       "1035     0.0     0.0      0.0     0.0      0.0  0.0       7  \n",
       "1046     0.0     0.0      0.0     0.0      0.0  0.0       7  \n",
       "1095     0.0     0.0      0.0     0.0      0.0  0.0       7  \n",
       "1096     0.0     0.0      0.0     0.0      0.0  0.0       7  \n",
       "1099     0.0     0.0      0.0     0.0      0.0  0.0       7  \n",
       "1130     0.0     0.0      0.0     0.0      0.0  0.0       7  \n",
       "1143     0.0     0.0      0.0     0.0      0.0  0.0       7  \n",
       "\n",
       "[19 rows x 777 columns]"
      ]
     },
     "execution_count": 36,
     "metadata": {},
     "output_type": "execute_result"
    }
   ],
   "source": [
    "X[X.labels == 7]"
   ]
  },
  {
   "cell_type": "markdown",
   "metadata": {},
   "source": [
    "## Run K-Means with NC data"
   ]
  },
  {
   "cell_type": "code",
   "execution_count": 37,
   "metadata": {},
   "outputs": [],
   "source": [
    "X = X.drop(columns = ['labels'])\n",
    "X_cluster = X[X.columns[4:]].to_numpy()"
   ]
  },
  {
   "cell_type": "code",
   "execution_count": 38,
   "metadata": {},
   "outputs": [],
   "source": [
    "kmeans = KMeans(n_clusters=9, random_state=0).fit(X_cluster)"
   ]
  },
  {
   "cell_type": "code",
   "execution_count": 39,
   "metadata": {},
   "outputs": [],
   "source": [
    "X[\"labels\"] = list(kmeans.labels_)"
   ]
  },
  {
   "cell_type": "code",
   "execution_count": 40,
   "metadata": {
    "tags": []
   },
   "outputs": [
    {
     "name": "stdout",
     "output_type": "stream",
     "text": [
      "0 435 42.0 9.66\n",
      "1 256 17.0 6.64\n",
      "2 137 11.0 8.03\n",
      "3 21 1.0 4.76\n",
      "4 94 4.0 4.26\n",
      "5 19 0.0 0.0\n",
      "6 30 1.0 3.33\n",
      "7 157 15.0 9.55\n",
      "8 22 2.0 9.09\n"
     ]
    }
   ],
   "source": [
    "for group, frame  in X.groupby(by = 'labels'):\n",
    "    \n",
    "    print(group, len(frame), sum(frame.NC),round(sum(frame.NC)/len(frame)*100,2))"
   ]
  },
  {
   "cell_type": "code",
   "execution_count": 41,
   "metadata": {},
   "outputs": [],
   "source": [
    "X.replace(0.0,np.nan,inplace = True)"
   ]
  },
  {
   "cell_type": "code",
   "execution_count": 42,
   "metadata": {},
   "outputs": [
    {
     "data": {
      "text/plain": [
       "Lot Number          157\n",
       "R4415               144\n",
       "PT00065936          123\n",
       "R1528A               82\n",
       "31-N500              57\n",
       "PT00006610           48\n",
       "R7028M-Thin-Wall     47\n",
       "PT00006643           39\n",
       "WP7102               38\n",
       "CL63R9876B           36\n",
       "dtype: int64"
      ]
     },
     "execution_count": 42,
     "metadata": {},
     "output_type": "execute_result"
    }
   ],
   "source": [
    "X[X.labels == 7].count().sort_values(ascending=False)[6:16]"
   ]
  },
  {
   "cell_type": "code",
   "execution_count": 43,
   "metadata": {},
   "outputs": [
    {
     "data": {
      "text/html": [
       "<div>\n",
       "<style scoped>\n",
       "    .dataframe tbody tr th:only-of-type {\n",
       "        vertical-align: middle;\n",
       "    }\n",
       "\n",
       "    .dataframe tbody tr th {\n",
       "        vertical-align: top;\n",
       "    }\n",
       "\n",
       "    .dataframe thead th {\n",
       "        text-align: right;\n",
       "    }\n",
       "</style>\n",
       "<table border=\"1\" class=\"dataframe\">\n",
       "  <thead>\n",
       "    <tr style=\"text-align: right;\">\n",
       "      <th></th>\n",
       "      <th>index</th>\n",
       "      <th>0</th>\n",
       "    </tr>\n",
       "  </thead>\n",
       "  <tbody>\n",
       "    <tr>\n",
       "      <th>0</th>\n",
       "      <td>RM157</td>\n",
       "      <td>21</td>\n",
       "    </tr>\n",
       "    <tr>\n",
       "      <th>1</th>\n",
       "      <td>Lot Number</td>\n",
       "      <td>21</td>\n",
       "    </tr>\n",
       "    <tr>\n",
       "      <th>2</th>\n",
       "      <td>67-H800</td>\n",
       "      <td>17</td>\n",
       "    </tr>\n",
       "    <tr>\n",
       "      <th>3</th>\n",
       "      <td>R1292D</td>\n",
       "      <td>15</td>\n",
       "    </tr>\n",
       "    <tr>\n",
       "      <th>4</th>\n",
       "      <td>R7413B</td>\n",
       "      <td>13</td>\n",
       "    </tr>\n",
       "    <tr>\n",
       "      <th>5</th>\n",
       "      <td>PT00062563</td>\n",
       "      <td>13</td>\n",
       "    </tr>\n",
       "    <tr>\n",
       "      <th>6</th>\n",
       "      <td>R5097</td>\n",
       "      <td>13</td>\n",
       "    </tr>\n",
       "    <tr>\n",
       "      <th>7</th>\n",
       "      <td>PT00006646</td>\n",
       "      <td>10</td>\n",
       "    </tr>\n",
       "    <tr>\n",
       "      <th>8</th>\n",
       "      <td>WP7417P</td>\n",
       "      <td>6</td>\n",
       "    </tr>\n",
       "    <tr>\n",
       "      <th>9</th>\n",
       "      <td>PT00006635</td>\n",
       "      <td>5</td>\n",
       "    </tr>\n",
       "  </tbody>\n",
       "</table>\n",
       "</div>"
      ],
      "text/plain": [
       "        index   0\n",
       "0       RM157  21\n",
       "1  Lot Number  21\n",
       "2     67-H800  17\n",
       "3      R1292D  15\n",
       "4      R7413B  13\n",
       "5  PT00062563  13\n",
       "6       R5097  13\n",
       "7  PT00006646  10\n",
       "8     WP7417P   6\n",
       "9  PT00006635   5"
      ]
     },
     "execution_count": 43,
     "metadata": {},
     "output_type": "execute_result"
    }
   ],
   "source": [
    "X[X.labels == 3].count()\\\n",
    "                .sort_values(ascending = False)[6:16]\\\n",
    "                .reset_index()"
   ]
  },
  {
   "cell_type": "code",
   "execution_count": 44,
   "metadata": {
    "tags": []
   },
   "outputs": [
    {
     "name": "stdout",
     "output_type": "stream",
     "text": [
      "1522SA 0.0967741935483871\n",
      "31156550 0.16666666666666666\n",
      "31180378 0.5\n",
      "31323168 0.25\n",
      "31378089 0.0\n",
      "8607RC 0.0\n",
      "8608RC 0.09090909090909091\n",
      "8608U 0.0\n",
      "8611RC 0.0\n",
      "8611U 0.0\n",
      "8612RC 0.0\n",
      "8781 0.0\n",
      "8791 0.0\n",
      "8850 0.0\n",
      "8850NB 0.0\n",
      "8851 0.5\n",
      "8851NB 0.0\n",
      "8860 0.0\n",
      "8860NB 0.0\n",
      "8870 0.1\n",
      "8870NB 0.0\n",
      "8900SA 0.058823529411764705\n",
      "8901SA 0.0\n",
      "8906 0.0\n",
      "8931 0.16666666666666666\n",
      "8934 0.0\n",
      "8935Y 0.0\n",
      "8938 0.0\n",
      "8938Y 0.0\n",
      "8939 0.07142857142857142\n",
      "8958 0.0\n",
      "8980 0.0\n",
      "8980S 0.0\n",
      "8980Y 0.0\n",
      "8985 0.1\n",
      "8985CRH 0.0\n",
      "8985CRS 0.0\n",
      "8985PG2 0.0\n",
      "8985PG2Y 0.0\n",
      "8985S 0.3333333333333333\n",
      "8985SPG2 0.0\n",
      "8989 0.043478260869565216\n",
      "8991 0.3333333333333333\n",
      "8991Y 0.0\n",
      "8997 0.0\n",
      "8997PG2 0.0\n",
      "8997S 0.0\n",
      "8997SPG2 0.0\n",
      "8998 0.0\n",
      "8998S 0.0\n",
      "V8870 0.2\n",
      "V8900 0.0\n",
      "V8938 0.0\n",
      "V8980 0.0\n",
      "V8985 0.0\n"
     ]
    }
   ],
   "source": [
    "for product,frame in X[X.labels == 1].groupby(by='Product'):\n",
    "    print(product, np.nansum(frame.NC)/len(frame))"
   ]
  },
  {
   "cell_type": "code",
   "execution_count": 45,
   "metadata": {},
   "outputs": [
    {
     "data": {
      "text/plain": [
       "Lot Number    256\n",
       "R4415         251\n",
       "R5097         115\n",
       "PT00065936    102\n",
       "PT00062563     93\n",
       "R1700          80\n",
       "R1690          71\n",
       "PT00006646     68\n",
       "74-H650        66\n",
       "52-H1100       66\n",
       "dtype: int64"
      ]
     },
     "execution_count": 45,
     "metadata": {},
     "output_type": "execute_result"
    }
   ],
   "source": [
    "X[X.labels == 1].count().sort_values(ascending = False)[6:16]"
   ]
  },
  {
   "cell_type": "code",
   "execution_count": 46,
   "metadata": {},
   "outputs": [],
   "source": [
    "X = X.replace(0.0,np.nan,inplace = True)"
   ]
  },
  {
   "cell_type": "code",
   "execution_count": 47,
   "metadata": {},
   "outputs": [],
   "source": [
    "import seaborn as sns"
   ]
  },
  {
   "cell_type": "markdown",
   "metadata": {},
   "source": [
    "## Decision Tree Models <a name = decisiontrees></a>\n",
    "[return](#tableofcontents)"
   ]
  },
  {
   "cell_type": "code",
   "execution_count": 48,
   "metadata": {},
   "outputs": [
    {
     "data": {
      "text/plain": [
       "(1171, 772)"
      ]
     },
     "execution_count": 48,
     "metadata": {},
     "output_type": "execute_result"
    }
   ],
   "source": [
    "X_cluster.shape"
   ]
  },
  {
   "cell_type": "code",
   "execution_count": 49,
   "metadata": {},
   "outputs": [],
   "source": [
    "X = X_cluster[:,:-1]\n",
    "y = X_cluster[:,-1]"
   ]
  },
  {
   "cell_type": "code",
   "execution_count": 50,
   "metadata": {},
   "outputs": [],
   "source": [
    "import numpy as np\n",
    "from sklearn.model_selection import train_test_split"
   ]
  },
  {
   "cell_type": "code",
   "execution_count": 51,
   "metadata": {},
   "outputs": [],
   "source": [
    "X_train, X_test, y_train, y_test = train_test_split(\n",
    "X, y, test_size=0.33, random_state=42)"
   ]
  },
  {
   "cell_type": "code",
   "execution_count": 52,
   "metadata": {},
   "outputs": [
    {
     "data": {
      "text/plain": [
       "(784, 771)"
      ]
     },
     "execution_count": 52,
     "metadata": {},
     "output_type": "execute_result"
    }
   ],
   "source": [
    "X_train.shape"
   ]
  },
  {
   "cell_type": "code",
   "execution_count": 53,
   "metadata": {},
   "outputs": [
    {
     "data": {
      "text/plain": [
       "(387, 771)"
      ]
     },
     "execution_count": 53,
     "metadata": {},
     "output_type": "execute_result"
    }
   ],
   "source": [
    "X_test.shape"
   ]
  },
  {
   "cell_type": "code",
   "execution_count": 54,
   "metadata": {},
   "outputs": [],
   "source": [
    "from sklearn.ensemble import AdaBoostRegressor\n",
    "from sklearn.tree import DecisionTreeRegressor"
   ]
  },
  {
   "cell_type": "code",
   "execution_count": 55,
   "metadata": {},
   "outputs": [],
   "source": [
    "rng = np.random.RandomState(1)\n",
    "regr_1 = DecisionTreeRegressor(max_depth=4)\n",
    "regr_2 = AdaBoostRegressor(DecisionTreeRegressor(max_depth=10),\n",
    "                          n_estimators=300, random_state=rng)"
   ]
  },
  {
   "cell_type": "code",
   "execution_count": 102,
   "metadata": {},
   "outputs": [],
   "source": [
    "import pickle"
   ]
  },
  {
   "cell_type": "code",
   "execution_count": 106,
   "metadata": {},
   "outputs": [],
   "source": [
    "filename = 'ada_boost_v1.sav'\n",
    "ada_boost_v1 = pickle.dump(regr_2,open(filename,'wb'))"
   ]
  },
  {
   "cell_type": "code",
   "execution_count": 104,
   "metadata": {},
   "outputs": [
    {
     "data": {
      "text/plain": [
       "['ada_boost_v1.joblib']"
      ]
     },
     "execution_count": 104,
     "metadata": {},
     "output_type": "execute_result"
    }
   ],
   "source": [
    "from joblib import dump, load\n",
    "dump(regr_2, 'ada_boost_v1.joblib') "
   ]
  },
  {
   "cell_type": "code",
   "execution_count": 56,
   "metadata": {},
   "outputs": [
    {
     "data": {
      "text/plain": [
       "AdaBoostRegressor(base_estimator=DecisionTreeRegressor(max_depth=10),\n",
       "                  n_estimators=300,\n",
       "                  random_state=RandomState(MT19937) at 0x11015B88)"
      ]
     },
     "execution_count": 56,
     "metadata": {},
     "output_type": "execute_result"
    }
   ],
   "source": [
    "regr_1.fit(X_train, y_train)\n",
    "regr_2.fit(X_train,y_train)"
   ]
  },
  {
   "cell_type": "code",
   "execution_count": 57,
   "metadata": {},
   "outputs": [],
   "source": [
    "y_1 = regr_1.predict(X_test)\n",
    "y_2 = regr_2.predict(X_test)"
   ]
  },
  {
   "cell_type": "code",
   "execution_count": 58,
   "metadata": {},
   "outputs": [
    {
     "data": {
      "text/plain": [
       "'C:\\\\Users\\\\steven.hansen01\\\\OneDrive - Cardinal Health\\\\General\\\\quality_issue_predictor'"
      ]
     },
     "execution_count": 58,
     "metadata": {},
     "output_type": "execute_result"
    }
   ],
   "source": [
    "os.getcwd()"
   ]
  },
  {
   "cell_type": "code",
   "execution_count": 59,
   "metadata": {},
   "outputs": [],
   "source": [
    "pd.DataFrame(X_train).to_csv('./training_data_v1.0/X_train.csv')"
   ]
  },
  {
   "cell_type": "code",
   "execution_count": 60,
   "metadata": {},
   "outputs": [],
   "source": [
    "pd.DataFrame(X_test).to_csv('./training_data_v1.0/X_test.csv')\n",
    "pd.DataFrame(y_train).to_csv('./training_data_v1.0/y_train.csv')\n",
    "pd.DataFrame(y_test).to_csv('./training_data_v1.0/y_test.csv')"
   ]
  },
  {
   "cell_type": "markdown",
   "metadata": {},
   "source": [
    "### AdaBoost Results <a name = \"adaboostresults\"></a>\n",
    "[return](#tableofcontents)"
   ]
  },
  {
   "cell_type": "code",
   "execution_count": 61,
   "metadata": {},
   "outputs": [],
   "source": [
    "from sklearn.metrics import precision_recall_curve\n"
   ]
  },
  {
   "cell_type": "code",
   "execution_count": 96,
   "metadata": {},
   "outputs": [],
   "source": [
    "precision, recall, thresholds = precision_recall_curve(y_test,y_2)"
   ]
  },
  {
   "cell_type": "code",
   "execution_count": 97,
   "metadata": {},
   "outputs": [
    {
     "data": {
      "image/png": "[encoded data removed]",
      "text/plain": [
       "<Figure size 432x288 with 1 Axes>"
      ]
     },
     "metadata": {},
     "output_type": "display_data"
    }
   ],
   "source": [
    "plt.plot(thresholds,precision[:-1],label = 'Precision')\n",
    "plt.plot(thresholds,recall[:-1],label = 'Recall')\n",
    "plt.title('AdaBoost: Precision Recall Curve')\n",
    "plt.xlabel('Threshold')\n",
    "plt.legend()\n",
    "plt.show()"
   ]
  },
  {
   "cell_type": "code",
   "execution_count": 98,
   "metadata": {
    "tags": []
   },
   "outputs": [
    {
     "name": "stdout",
     "output_type": "stream",
     "text": [
      "----- Balanced Precision and Recall Model -----\n",
      "percent of lots indicted = 4.13%\n",
      "recall (NC reduction) = 14.81%\n",
      "total number of predicted NCs = 16\n",
      "True Positives = 4.0\n",
      "precision = 25.0%\n"
     ]
    }
   ],
   "source": [
    "#thresholds\n",
    "print(5*'-'+' Balanced Precision and Recall Model '+5*'-')\n",
    "test_threshold = np.round(0.49714286,4)\n",
    "print(f'percent of lots indicted = {round(100*len(y_2[y_2>=test_threshold])/len(y_2),2)}%')\n",
    "print(f'recall (NC reduction) = {round(100*recall[np.where(np.round(thresholds,4) == test_threshold)][0],2)}%')\n",
    "print(f'total number of predicted NCs = {len(y_2[y_2>=test_threshold])}')\n",
    "print(f'True Positives = {sum(y_test[np.where(y_2>=test_threshold)])}')\n",
    "print(f'precision = {round(100*precision[np.where(np.round(thresholds,4) == test_threshold)][0],2)}%')"
   ]
  },
  {
   "cell_type": "code",
   "execution_count": 99,
   "metadata": {},
   "outputs": [],
   "source": [
    "pd.DataFrame(thresholds).to_csv('./training_data_v1.0/example_thresholds.csv')"
   ]
  },
  {
   "cell_type": "code",
   "execution_count": 100,
   "metadata": {},
   "outputs": [],
   "source": [
    "pd.DataFrame(recall[1:]).to_csv('./training_data_v1.0/example_recall.csv')"
   ]
  },
  {
   "cell_type": "code",
   "execution_count": 101,
   "metadata": {},
   "outputs": [],
   "source": [
    "pd.DataFrame(precision[:-1]).to_csv('./training_data_v1.0/example_precision.csv')"
   ]
  },
  {
   "cell_type": "code",
   "execution_count": 68,
   "metadata": {},
   "outputs": [
    {
     "name": "stdout",
     "output_type": "stream",
     "text": [
      "Number of SOs = 387\n",
      "Number of NCs = 27.0\n",
      "Percent of SO with NCs in Test data = 7%\n"
     ]
    }
   ],
   "source": [
    "print(f'Number of SOs = {len(y_2)}')\n",
    "print(f'Number of NCs = {sum(y_test)}')\n",
    "print(f'Percent of SO with NCs in Test data = {round(100*sum(y_test)/len(y_2))}%')"
   ]
  },
  {
   "cell_type": "markdown",
   "metadata": {},
   "source": [
    "### Decision Tree Regressor results <a name = dtrresults></a>\n",
    "[return](#tableofcontents)"
   ]
  },
  {
   "cell_type": "code",
   "execution_count": 69,
   "metadata": {},
   "outputs": [],
   "source": [
    "precision, recall, thresholds = precision_recall_curve(y_test,y_1)"
   ]
  },
  {
   "cell_type": "code",
   "execution_count": 70,
   "metadata": {},
   "outputs": [
    {
     "data": {
      "image/png": "[encoded data removed]",
      "text/plain": [
       "<Figure size 432x288 with 1 Axes>"
      ]
     },
     "metadata": {},
     "output_type": "display_data"
    }
   ],
   "source": [
    "plt.plot(thresholds,precision[:-1],label = 'Precision')\n",
    "plt.plot(thresholds,recall[:-1],label = 'Recall')\n",
    "plt.title('Precision Recall Curve')\n",
    "plt.legend()\n",
    "plt.show()"
   ]
  },
  {
   "cell_type": "code",
   "execution_count": 71,
   "metadata": {},
   "outputs": [
    {
     "data": {
      "text/plain": [
       "array([0.06786704, 0.21428571, 0.25      , 0.5       , 1.        ])"
      ]
     },
     "execution_count": 71,
     "metadata": {},
     "output_type": "execute_result"
    }
   ],
   "source": [
    "thresholds"
   ]
  },
  {
   "cell_type": "code",
   "execution_count": 72,
   "metadata": {},
   "outputs": [
    {
     "data": {
      "text/plain": [
       "array([0.07049608, 0.09090909, 0.09090909, 0.2       , 0.        ])"
      ]
     },
     "execution_count": 72,
     "metadata": {},
     "output_type": "execute_result"
    }
   ],
   "source": [
    "precision[:-1]"
   ]
  },
  {
   "cell_type": "code",
   "execution_count": 73,
   "metadata": {},
   "outputs": [
    {
     "data": {
      "text/plain": [
       "array([1.        , 0.11111111, 0.03703704, 0.03703704, 0.        ])"
      ]
     },
     "execution_count": 73,
     "metadata": {},
     "output_type": "execute_result"
    }
   ],
   "source": [
    "recall[:-1]"
   ]
  },
  {
   "cell_type": "code",
   "execution_count": 74,
   "metadata": {},
   "outputs": [
    {
     "data": {
      "text/plain": [
       "array([1., 1.])"
      ]
     },
     "execution_count": 74,
     "metadata": {},
     "output_type": "execute_result"
    }
   ],
   "source": [
    "y_1[y_1>=1]"
   ]
  },
  {
   "cell_type": "markdown",
   "metadata": {},
   "source": [
    "### Nearest Neighbors <a name = nn></a>\n",
    "[return](#tableofcontents)"
   ]
  },
  {
   "cell_type": "code",
   "execution_count": 75,
   "metadata": {},
   "outputs": [],
   "source": [
    "from sklearn import neighbors"
   ]
  },
  {
   "cell_type": "code",
   "execution_count": 76,
   "metadata": {},
   "outputs": [
    {
     "data": {
      "text/plain": [
       "KNeighborsClassifier(n_neighbors=15, weights='distance')"
      ]
     },
     "execution_count": 76,
     "metadata": {},
     "output_type": "execute_result"
    }
   ],
   "source": [
    "n_neighbors = 15\n",
    "clf = neighbors.KNeighborsClassifier(n_neighbors, weights='distance')\n",
    "clf.fit(X_train,y_train)"
   ]
  },
  {
   "cell_type": "code",
   "execution_count": 77,
   "metadata": {},
   "outputs": [],
   "source": [
    "nn_results = clf.predict(X_test)"
   ]
  },
  {
   "cell_type": "code",
   "execution_count": 78,
   "metadata": {},
   "outputs": [],
   "source": [
    "nn_precision, nn_recall, nn_thresholds = precision_recall_curve(y_test,nn_results)"
   ]
  },
  {
   "cell_type": "code",
   "execution_count": 79,
   "metadata": {},
   "outputs": [
    {
     "data": {
      "image/png": "[encoded data removed]",
      "text/plain": [
       "<Figure size 432x288 with 1 Axes>"
      ]
     },
     "metadata": {},
     "output_type": "display_data"
    }
   ],
   "source": [
    "plt.plot(nn_thresholds,nn_precision[:-1],label = 'Precision')\n",
    "plt.plot(nn_thresholds,nn_recall[:-1],label = 'Recall')\n",
    "plt.title('NN: Precision Recall Curve')\n",
    "plt.xlabel('Threshold')\n",
    "plt.legend()\n",
    "plt.show()"
   ]
  },
  {
   "cell_type": "code",
   "execution_count": 80,
   "metadata": {},
   "outputs": [
    {
     "data": {
      "text/plain": [
       "array([0.06976744, 0.125     , 1.        ])"
      ]
     },
     "execution_count": 80,
     "metadata": {},
     "output_type": "execute_result"
    }
   ],
   "source": [
    "nn_precision"
   ]
  },
  {
   "cell_type": "markdown",
   "metadata": {},
   "source": [
    "## Dimensional Reduction <a name = \"dimensionalreduction\"></a>\n",
    "[return](#tableofcontents)"
   ]
  },
  {
   "cell_type": "markdown",
   "metadata": {},
   "source": [
    "### PCA <a name = pca></a>\n",
    "[return](#tableofcontents)"
   ]
  },
  {
   "cell_type": "code",
   "execution_count": 81,
   "metadata": {},
   "outputs": [],
   "source": [
    "from sklearn import decomposition"
   ]
  },
  {
   "cell_type": "code",
   "execution_count": 82,
   "metadata": {},
   "outputs": [
    {
     "data": {
      "text/plain": [
       "PCA(n_components=3)"
      ]
     },
     "execution_count": 82,
     "metadata": {},
     "output_type": "execute_result"
    }
   ],
   "source": [
    "pca = decomposition.PCA(n_components=3)\n",
    "pca.fit(X_test)"
   ]
  },
  {
   "cell_type": "code",
   "execution_count": 83,
   "metadata": {},
   "outputs": [],
   "source": [
    "X_pca = pca.transform(X_test)"
   ]
  },
  {
   "cell_type": "code",
   "execution_count": 84,
   "metadata": {},
   "outputs": [],
   "source": [
    "PCA_ADA_model = AdaBoostRegressor(DecisionTreeRegressor(max_depth=8),\n",
    "                          n_estimators=300, random_state=rng)"
   ]
  },
  {
   "cell_type": "code",
   "execution_count": 85,
   "metadata": {},
   "outputs": [
    {
     "data": {
      "text/plain": [
       "AdaBoostRegressor(base_estimator=DecisionTreeRegressor(max_depth=8),\n",
       "                  n_estimators=300,\n",
       "                  random_state=RandomState(MT19937) at 0x11015B88)"
      ]
     },
     "execution_count": 85,
     "metadata": {},
     "output_type": "execute_result"
    }
   ],
   "source": [
    "PCA_ADA_model.fit(X_train,y_train)"
   ]
  },
  {
   "cell_type": "code",
   "execution_count": 86,
   "metadata": {},
   "outputs": [],
   "source": [
    "y_pca_ada = PCA_ADA_model.predict(X_test)"
   ]
  },
  {
   "cell_type": "code",
   "execution_count": 87,
   "metadata": {},
   "outputs": [],
   "source": [
    "precision_pca, recall_pca, thresholds_pca = precision_recall_curve(y_test,y_pca_ada)"
   ]
  },
  {
   "cell_type": "code",
   "execution_count": 88,
   "metadata": {},
   "outputs": [
    {
     "data": {
      "image/png": "[encoded data removed]",
      "text/plain": [
       "<Figure size 432x288 with 1 Axes>"
      ]
     },
     "metadata": {},
     "output_type": "display_data"
    }
   ],
   "source": [
    "plt.plot(thresholds_pca,precision_pca[:-1],label = 'Precision')\n",
    "plt.plot(thresholds_pca,recall_pca[:-1],label = 'Recall')\n",
    "plt.title('AdaBoost: Precision Recall Curve')\n",
    "plt.xlabel('Threshold')\n",
    "plt.legend()\n",
    "plt.show()"
   ]
  },
  {
   "cell_type": "code",
   "execution_count": 89,
   "metadata": {},
   "outputs": [
    {
     "data": {
      "text/plain": [
       "array([0.07438017, 0.07222222, 0.0726257 , 0.07323944, 0.07344633,\n",
       "       0.07365439, 0.07163324, 0.07183908, 0.07246377, 0.07267442,\n",
       "       0.06997085, 0.07017544, 0.07058824, 0.06865672, 0.06886228,\n",
       "       0.07012195, 0.06369427, 0.06493506, 0.06622517, 0.06666667,\n",
       "       0.06779661, 0.06849315, 0.06338028, 0.06360424, 0.06521739,\n",
       "       0.06716418, 0.06792453, 0.06818182, 0.06844106, 0.06870229,\n",
       "       0.06896552, 0.07142857, 0.06854839, 0.07024793, 0.07053942,\n",
       "       0.07083333, 0.07112971, 0.07172996, 0.07017544, 0.06666667,\n",
       "       0.06756757, 0.0678733 , 0.06818182, 0.06481481, 0.06280193,\n",
       "       0.06372549, 0.06091371, 0.06315789, 0.06417112, 0.06486486,\n",
       "       0.06703911, 0.0625    , 0.06358382, 0.06395349, 0.06547619,\n",
       "       0.06666667, 0.06707317, 0.06748466, 0.06918239, 0.06962025,\n",
       "       0.07096774, 0.07142857, 0.0738255 , 0.07913669, 0.07971014,\n",
       "       0.08270677, 0.08333333, 0.07751938, 0.08130081, 0.08264463,\n",
       "       0.08547009, 0.0877193 , 0.08849558, 0.08108108, 0.08256881,\n",
       "       0.08411215, 0.08490566, 0.08571429, 0.09183673, 0.09278351,\n",
       "       0.09375   , 0.09473684, 0.09677419, 0.08791209, 0.08045977,\n",
       "       0.08139535, 0.08433735, 0.0875    , 0.08974359, 0.09090909,\n",
       "       0.08      , 0.06944444, 0.05633803, 0.05714286, 0.05970149,\n",
       "       0.06060606, 0.06557377, 0.06779661, 0.07017544, 0.07142857,\n",
       "       0.07407407, 0.08695652, 0.09090909, 0.09302326, 0.0952381 ,\n",
       "       0.09756098, 0.1       , 0.10810811, 0.12121212, 0.12903226,\n",
       "       0.13793103, 0.14285714, 0.14814815, 0.16666667, 0.17391304,\n",
       "       0.18181818, 0.19047619, 0.15789474, 0.16666667, 0.17647059,\n",
       "       0.1875    , 0.2       , 0.21428571, 0.16666667, 0.18181818,\n",
       "       0.11111111, 0.125     , 0.14285714, 0.16666667, 0.        ,\n",
       "       0.        , 0.        ])"
      ]
     },
     "execution_count": 89,
     "metadata": {},
     "output_type": "execute_result"
    }
   ],
   "source": [
    "precision_pca[:-1]"
   ]
  },
  {
   "cell_type": "code",
   "execution_count": 90,
   "metadata": {},
   "outputs": [
    {
     "data": {
      "text/plain": [
       "array([0.23076923, 0.23317308, 0.23423423, 0.23809524, 0.25      ,\n",
       "       0.2519084 , 0.26666667, 0.28571429, 0.29104478, 0.31372549,\n",
       "       0.3255814 , 0.33093525, 0.34437086, 0.35714286, 0.37535014,\n",
       "       0.37692308, 0.38235294, 0.3853211 , 0.38655462, 0.38709677,\n",
       "       0.39306358, 0.39393939, 0.4       , 0.40555556, 0.40963855,\n",
       "       0.41064639, 0.41287879, 0.41499086, 0.41558442, 0.41666667,\n",
       "       0.41714286, 0.4214876 , 0.42182891, 0.42349727, 0.424821  ,\n",
       "       0.42553191, 0.42600897, 0.42613636, 0.42632613, 0.42748092,\n",
       "       0.43346008, 0.43410853, 0.43428571, 0.43478261, 0.43487395,\n",
       "       0.43656716, 0.4375    , 0.43859649, 0.43877551, 0.44192635,\n",
       "       0.44208494, 0.44210526, 0.44235294, 0.44285714, 0.44329897,\n",
       "       0.44339623, 0.44444444, 0.44508671, 0.44525547, 0.44576271,\n",
       "       0.44578313, 0.44822006, 0.4486755 , 0.44879518, 0.45098039,\n",
       "       0.45190563, 0.45364238, 0.4556701 , 0.45643154, 0.45669291,\n",
       "       0.45675676, 0.45701357, 0.45767575, 0.45780969, 0.46011396,\n",
       "       0.46043165, 0.46078431, 0.46153846, 0.46242775, 0.46254072,\n",
       "       0.46280992, 0.46296296, 0.46468401, 0.46572935, 0.46590909,\n",
       "       0.4673913 , 0.46830266, 0.46875   , 0.46887967, 0.46896552,\n",
       "       0.46950092, 0.47129909, 0.47218045, 0.47311828, 0.47317744,\n",
       "       0.47326733, 0.47368421, 0.47394541, 0.47582205, 0.47619048,\n",
       "       0.47692308, 0.47798742, 0.47838215, 0.47863248, 0.47879617,\n",
       "       0.47880299, 0.47991071, 0.48080439, 0.48167539, 0.48253968,\n",
       "       0.48263254, 0.48450245, 0.48484848, 0.48533333, 0.4862259 ,\n",
       "       0.48795181, 0.48832272, 0.49271845, 0.49305556, 0.49648383,\n",
       "       0.4972067 , 0.49861111, 0.49917355, 0.49931413, 0.5       ,\n",
       "       0.50143678, 0.50157729, 0.50381679, 0.50607287, 0.50684932,\n",
       "       0.51182432, 0.51184834])"
      ]
     },
     "execution_count": 90,
     "metadata": {},
     "output_type": "execute_result"
    }
   ],
   "source": [
    "thresholds_pca"
   ]
  },
  {
   "cell_type": "code",
   "execution_count": 91,
   "metadata": {},
   "outputs": [
    {
     "ename": "IndexError",
     "evalue": "index 0 is out of bounds for axis 0 with size 0",
     "output_type": "error",
     "traceback": [
      "\u001b[1;31m---------------------------------------------------------------------------\u001b[0m",
      "\u001b[1;31mIndexError\u001b[0m                                Traceback (most recent call last)",
      "\u001b[1;32m<ipython-input-91-c6cd8bd2f53e>\u001b[0m in \u001b[0;36m<module>\u001b[1;34m\u001b[0m\n\u001b[0;32m      1\u001b[0m \u001b[0mtest_threshold\u001b[0m \u001b[1;33m=\u001b[0m \u001b[0mnp\u001b[0m\u001b[1;33m.\u001b[0m\u001b[0mround\u001b[0m\u001b[1;33m(\u001b[0m\u001b[1;36m0.47771836\u001b[0m\u001b[1;33m,\u001b[0m\u001b[1;36m4\u001b[0m\u001b[1;33m)\u001b[0m\u001b[1;33m\u001b[0m\u001b[1;33m\u001b[0m\u001b[0m\n\u001b[1;32m----> 2\u001b[1;33m \u001b[0mprint\u001b[0m\u001b[1;33m(\u001b[0m\u001b[1;34mf'recall = {round(recall_pca[np.where(np.round(thresholds_pca,4) == test_threshold)][0],4)}'\u001b[0m\u001b[1;33m)\u001b[0m\u001b[1;33m\u001b[0m\u001b[1;33m\u001b[0m\u001b[0m\n\u001b[0m\u001b[0;32m      3\u001b[0m \u001b[0mprint\u001b[0m\u001b[1;33m(\u001b[0m\u001b[1;34mf'precision = {round(precision_pca[np.where(np.round(thresholds_pca,4) == test_threshold)][0],4)}'\u001b[0m\u001b[1;33m)\u001b[0m\u001b[1;33m\u001b[0m\u001b[1;33m\u001b[0m\u001b[0m\n\u001b[0;32m      4\u001b[0m \u001b[0mprint\u001b[0m\u001b[1;33m(\u001b[0m\u001b[1;34mf'number of predicted NCs = {len(y_2[y_2>=test_threshold])}'\u001b[0m\u001b[1;33m)\u001b[0m\u001b[1;33m\u001b[0m\u001b[1;33m\u001b[0m\u001b[0m\n\u001b[0;32m      5\u001b[0m \u001b[0mprint\u001b[0m\u001b[1;33m(\u001b[0m\u001b[1;34mf'True Positives = {sum(y_test[np.where(y_2>=test_threshold)])}'\u001b[0m\u001b[1;33m)\u001b[0m\u001b[1;33m\u001b[0m\u001b[1;33m\u001b[0m\u001b[0m\n",
      "\u001b[1;31mIndexError\u001b[0m: index 0 is out of bounds for axis 0 with size 0"
     ]
    }
   ],
   "source": [
    "test_threshold = np.round(0.47771836,4)\n",
    "print(f'recall = {round(recall_pca[np.where(np.round(thresholds_pca,4) == test_threshold)][0],4)}')\n",
    "print(f'precision = {round(precision_pca[np.where(np.round(thresholds_pca,4) == test_threshold)][0],4)}')\n",
    "print(f'number of predicted NCs = {len(y_2[y_2>=test_threshold])}')\n",
    "print(f'True Positives = {sum(y_test[np.where(y_2>=test_threshold)])}')"
   ]
  },
  {
   "cell_type": "code",
   "execution_count": null,
   "metadata": {},
   "outputs": [],
   "source": []
  }
 ],
 "metadata": {
  "kernelspec": {
   "display_name": "Python 3.8.3 32-bit",
   "language": "python",
   "name": "python38332bit2b8480b44fa447f4ab201d5dd8281470"
  },
  "language_info": {
   "codemirror_mode": {
    "name": "ipython",
    "version": 3
   },
   "file_extension": ".py",
   "mimetype": "text/x-python",
   "name": "python",
   "nbconvert_exporter": "python",
   "pygments_lexer": "ipython3",
   "version": "3.8.3"
  }
 },
 "nbformat": 4,
 "nbformat_minor": 4
}
