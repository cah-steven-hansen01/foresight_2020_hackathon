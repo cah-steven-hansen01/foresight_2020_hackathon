{
 "cells": [
  {
   "cell_type": "code",
   "execution_count": 1,
   "id": "0a503d51",
   "metadata": {},
   "outputs": [],
   "source": [
    "### only run once! sets up working directory to be /quality_issue_predictor\n",
    "import os\n",
    "os.chdir(os.getcwd()[:-34] + r'\\quality_issue_predictor') "
   ]
  },
  {
   "cell_type": "markdown",
   "id": "c71d5c40",
   "metadata": {},
   "source": []
  },
  {
   "cell_type": "code",
   "execution_count": 2,
   "id": "390ced54",
   "metadata": {},
   "outputs": [],
   "source": [
    "import pandas as pd\n",
    "import numpy as np\n",
    "import os\n",
    "import re\n",
    "#import tensorflow as tf\n",
    "import matplotlib.pyplot as plt\n",
    "\n",
    "#import qa_productivity_tool.complaints as cmplnts\n",
    "import qa_productivity_tool.nc_full as nc_full"
   ]
  },
  {
   "cell_type": "code",
   "execution_count": 3,
   "id": "3aeb0950",
   "metadata": {},
   "outputs": [],
   "source": [
    "part_categories = pd.read_csv('./reference_data/Product Category.csv')\n"
   ]
  },
  {
   "cell_type": "code",
   "execution_count": 4,
   "id": "5a5c7c47",
   "metadata": {},
   "outputs": [
    {
     "data": {
      "text/plain": [
       "(51587, 10)"
      ]
     },
     "execution_count": 4,
     "metadata": {},
     "output_type": "execute_result"
    }
   ],
   "source": [
    "df = pd.read_excel(open('./raw_data/archived SO.xlsx','rb'))\n",
    "cols = {'MORD':\"Shop Order\",'MPROD':\"Component\",'MAPRD':\"Product\",'MBOM':'BOM qty','SOLOT':'Lot Number'}\n",
    "drop_cols = ['MQISS', 'MASTS','MOPNO']\n",
    "df = df.rename(columns = cols)\\\n",
    "        .drop(columns = drop_cols)\n",
    "df.shape"
   ]
  },
  {
   "cell_type": "code",
   "execution_count": 5,
   "id": "813d328d",
   "metadata": {},
   "outputs": [
    {
     "data": {
      "text/html": [
       "<div>\n",
       "<style scoped>\n",
       "    .dataframe tbody tr th:only-of-type {\n",
       "        vertical-align: middle;\n",
       "    }\n",
       "\n",
       "    .dataframe tbody tr th {\n",
       "        vertical-align: top;\n",
       "    }\n",
       "\n",
       "    .dataframe thead th {\n",
       "        text-align: right;\n",
       "    }\n",
       "</style>\n",
       "<table border=\"1\" class=\"dataframe\">\n",
       "  <thead>\n",
       "    <tr style=\"text-align: right;\">\n",
       "      <th></th>\n",
       "      <th>Shop Order</th>\n",
       "      <th>Component</th>\n",
       "      <th>MRDTE</th>\n",
       "      <th>Product</th>\n",
       "      <th>BOM qty</th>\n",
       "      <th>SQFIN</th>\n",
       "      <th>MQREQ</th>\n",
       "      <th>SQREQ</th>\n",
       "      <th>Lot Number</th>\n",
       "      <th>Date</th>\n",
       "    </tr>\n",
       "  </thead>\n",
       "  <tbody>\n",
       "    <tr>\n",
       "      <th>0</th>\n",
       "      <td>190586</td>\n",
       "      <td>PT00062563</td>\n",
       "      <td>20200114</td>\n",
       "      <td>8934</td>\n",
       "      <td>1.91154</td>\n",
       "      <td>695.0</td>\n",
       "      <td>1330.433</td>\n",
       "      <td>696.0</td>\n",
       "      <td>19K17363</td>\n",
       "      <td>2020-01-14</td>\n",
       "    </tr>\n",
       "    <tr>\n",
       "      <th>1</th>\n",
       "      <td>190586</td>\n",
       "      <td>RM129</td>\n",
       "      <td>20200114</td>\n",
       "      <td>8934</td>\n",
       "      <td>389.95384</td>\n",
       "      <td>695.0</td>\n",
       "      <td>271407.872</td>\n",
       "      <td>696.0</td>\n",
       "      <td>19K17363</td>\n",
       "      <td>2020-01-14</td>\n",
       "    </tr>\n",
       "    <tr>\n",
       "      <th>2</th>\n",
       "      <td>190586</td>\n",
       "      <td>R5097</td>\n",
       "      <td>20200114</td>\n",
       "      <td>8934</td>\n",
       "      <td>2.00000</td>\n",
       "      <td>695.0</td>\n",
       "      <td>1392.000</td>\n",
       "      <td>696.0</td>\n",
       "      <td>19K17363</td>\n",
       "      <td>2020-01-14</td>\n",
       "    </tr>\n",
       "    <tr>\n",
       "      <th>3</th>\n",
       "      <td>190586</td>\n",
       "      <td>R1292D</td>\n",
       "      <td>20200114</td>\n",
       "      <td>8934</td>\n",
       "      <td>1.00000</td>\n",
       "      <td>695.0</td>\n",
       "      <td>696.000</td>\n",
       "      <td>696.0</td>\n",
       "      <td>19K17363</td>\n",
       "      <td>2020-01-14</td>\n",
       "    </tr>\n",
       "    <tr>\n",
       "      <th>4</th>\n",
       "      <td>190586</td>\n",
       "      <td>R4415</td>\n",
       "      <td>20200114</td>\n",
       "      <td>8934</td>\n",
       "      <td>1.00000</td>\n",
       "      <td>695.0</td>\n",
       "      <td>696.000</td>\n",
       "      <td>696.0</td>\n",
       "      <td>19K17363</td>\n",
       "      <td>2020-01-14</td>\n",
       "    </tr>\n",
       "  </tbody>\n",
       "</table>\n",
       "</div>"
      ],
      "text/plain": [
       "   Shop Order   Component     MRDTE Product    BOM qty  SQFIN       MQREQ  \\\n",
       "0      190586  PT00062563  20200114    8934    1.91154  695.0    1330.433   \n",
       "1      190586       RM129  20200114    8934  389.95384  695.0  271407.872   \n",
       "2      190586       R5097  20200114    8934    2.00000  695.0    1392.000   \n",
       "3      190586      R1292D  20200114    8934    1.00000  695.0     696.000   \n",
       "4      190586       R4415  20200114    8934    1.00000  695.0     696.000   \n",
       "\n",
       "   SQREQ Lot Number       Date  \n",
       "0  696.0   19K17363 2020-01-14  \n",
       "1  696.0   19K17363 2020-01-14  \n",
       "2  696.0   19K17363 2020-01-14  \n",
       "3  696.0   19K17363 2020-01-14  \n",
       "4  696.0   19K17363 2020-01-14  "
      ]
     },
     "execution_count": 5,
     "metadata": {},
     "output_type": "execute_result"
    }
   ],
   "source": [
    "df.head()"
   ]
  },
  {
   "cell_type": "code",
   "execution_count": 6,
   "id": "0bdb8d1d",
   "metadata": {},
   "outputs": [],
   "source": [
    "def lot_checker(lot_number):\n",
    "    'checks if lot number matches YYMXXX63 format'\n",
    "    if str(lot_number) == 'nan':\n",
    "        return False\n",
    "    return (re.compile('(:?[0-9]{2}[A-Ma-m]{1}[Oo0-9]{3}63[Xx]|[0-9]{2}[A-Ma-m]{1}[Oo0-9]{3}63)').match(lot_number) != None) *1\n",
    "df['Lot Format Match'] = list(map(lot_checker,df['Lot Number']))\n",
    "df = df[df['Lot Format Match'] == 1].drop(columns = 'Lot Format Match')"
   ]
  },
  {
   "cell_type": "code",
   "execution_count": 7,
   "id": "24b164c4",
   "metadata": {},
   "outputs": [],
   "source": [
    "def encode(frame,):\n",
    "    frame = frame.reset_index(drop=True)\n",
    "    lot_number = frame.loc[0,'Lot Number']\n",
    "    product = frame.loc[0,'Product']\n",
    "    date = frame.loc[0,'Date']\n",
    "    shop_order = str(frame.loc[0,'Shop Order'])\n",
    "    df = pd.DataFrame()\n",
    "    df.loc[lot_number,'Product'] = product\n",
    "    df.loc[lot_number,\"Date\"] = date\n",
    "    df.loc[lot_number,'Shop Order'] = shop_order\n",
    "    for i,component in enumerate(frame.Component):\n",
    "        try:\n",
    "            df.loc[lot_number,part_categories['Category'][part_categories.Component ==component ]] = component\n",
    "        except KeyError:\n",
    "            print(component)\n",
    "    return df.reset_index()\\\n",
    "            .rename(columns = {'index':'Lot Number'})\n"
   ]
  },
  {
   "cell_type": "code",
   "execution_count": 8,
   "id": "3f9a2794",
   "metadata": {},
   "outputs": [
    {
     "name": "stdout",
     "output_type": "stream",
     "text": [
      "Wall time: 1min 8s\n"
     ]
    }
   ],
   "source": [
    "%%time\n",
    "list_of_frames = [encode(frame) for lot, frame in df.groupby(by = 'Lot Number')]\n",
    "df = pd.concat(list_of_frames)\\\n",
    "            .reset_index(drop = True)"
   ]
  },
  {
   "cell_type": "code",
   "execution_count": 9,
   "id": "0e02289b",
   "metadata": {},
   "outputs": [],
   "source": [
    "df = df[['Lot Number','Product','Date','Shop Order','Formula Sheet','CONTAINER','PRINTER ACCESSORIES','SILICON FLUID',\n",
    "        'RUBBER TIP','RESIN','PACKAGING','SYRINGE','LABEL','PAD','SYRINGE','TRAY']]"
   ]
  },
  {
   "cell_type": "code",
   "execution_count": 10,
   "id": "8497cb2e",
   "metadata": {},
   "outputs": [
    {
     "data": {
      "text/html": [
       "<div>\n",
       "<style scoped>\n",
       "    .dataframe tbody tr th:only-of-type {\n",
       "        vertical-align: middle;\n",
       "    }\n",
       "\n",
       "    .dataframe tbody tr th {\n",
       "        vertical-align: top;\n",
       "    }\n",
       "\n",
       "    .dataframe thead th {\n",
       "        text-align: right;\n",
       "    }\n",
       "</style>\n",
       "<table border=\"1\" class=\"dataframe\">\n",
       "  <thead>\n",
       "    <tr style=\"text-align: right;\">\n",
       "      <th></th>\n",
       "      <th>Lot Number</th>\n",
       "      <th>Product</th>\n",
       "      <th>Date</th>\n",
       "      <th>Shop Order</th>\n",
       "      <th>Formula Sheet</th>\n",
       "      <th>CONTAINER</th>\n",
       "      <th>PRINTER ACCESSORIES</th>\n",
       "      <th>SILICON FLUID</th>\n",
       "      <th>RUBBER TIP</th>\n",
       "      <th>RESIN</th>\n",
       "      <th>PACKAGING</th>\n",
       "      <th>SYRINGE</th>\n",
       "      <th>LABEL</th>\n",
       "      <th>PAD</th>\n",
       "      <th>SYRINGE</th>\n",
       "      <th>TRAY</th>\n",
       "    </tr>\n",
       "  </thead>\n",
       "  <tbody>\n",
       "    <tr>\n",
       "      <th>0</th>\n",
       "      <td>19D27563X</td>\n",
       "      <td>4502570</td>\n",
       "      <td>2020-12-01</td>\n",
       "      <td>188358</td>\n",
       "      <td>DC00056758</td>\n",
       "      <td>EXP5013</td>\n",
       "      <td>EXP5050</td>\n",
       "      <td>PT00009994</td>\n",
       "      <td>NaN</td>\n",
       "      <td>NaN</td>\n",
       "      <td>NaN</td>\n",
       "      <td>NaN</td>\n",
       "      <td>NaN</td>\n",
       "      <td>NaN</td>\n",
       "      <td>NaN</td>\n",
       "      <td>NaN</td>\n",
       "    </tr>\n",
       "    <tr>\n",
       "      <th>1</th>\n",
       "      <td>19E02463X</td>\n",
       "      <td>4502570</td>\n",
       "      <td>2020-12-01</td>\n",
       "      <td>188400</td>\n",
       "      <td>DC00056758</td>\n",
       "      <td>EXP5013</td>\n",
       "      <td>EXP5050</td>\n",
       "      <td>PT00009994</td>\n",
       "      <td>NaN</td>\n",
       "      <td>NaN</td>\n",
       "      <td>NaN</td>\n",
       "      <td>NaN</td>\n",
       "      <td>NaN</td>\n",
       "      <td>NaN</td>\n",
       "      <td>NaN</td>\n",
       "      <td>NaN</td>\n",
       "    </tr>\n",
       "    <tr>\n",
       "      <th>2</th>\n",
       "      <td>19E02563X</td>\n",
       "      <td>4502570</td>\n",
       "      <td>2020-12-01</td>\n",
       "      <td>188401</td>\n",
       "      <td>DC00056758</td>\n",
       "      <td>EXP5013</td>\n",
       "      <td>EXP5050</td>\n",
       "      <td>PT00009994</td>\n",
       "      <td>4001204</td>\n",
       "      <td>5170588</td>\n",
       "      <td>5542735</td>\n",
       "      <td>NaN</td>\n",
       "      <td>NaN</td>\n",
       "      <td>NaN</td>\n",
       "      <td>NaN</td>\n",
       "      <td>NaN</td>\n",
       "    </tr>\n",
       "    <tr>\n",
       "      <th>3</th>\n",
       "      <td>19G00463X</td>\n",
       "      <td>4502570</td>\n",
       "      <td>2020-12-01</td>\n",
       "      <td>189166</td>\n",
       "      <td>DC00056758</td>\n",
       "      <td>EXP5013</td>\n",
       "      <td>EXP5050</td>\n",
       "      <td>PT00009994</td>\n",
       "      <td>NaN</td>\n",
       "      <td>NaN</td>\n",
       "      <td>NaN</td>\n",
       "      <td>NaN</td>\n",
       "      <td>NaN</td>\n",
       "      <td>NaN</td>\n",
       "      <td>NaN</td>\n",
       "      <td>NaN</td>\n",
       "    </tr>\n",
       "    <tr>\n",
       "      <th>4</th>\n",
       "      <td>19G10763X</td>\n",
       "      <td>8881112083</td>\n",
       "      <td>2020-12-01</td>\n",
       "      <td>189332</td>\n",
       "      <td>FS10017988</td>\n",
       "      <td>EXP5013</td>\n",
       "      <td>PT00033969</td>\n",
       "      <td>PT00009994</td>\n",
       "      <td>NaN</td>\n",
       "      <td>NaN</td>\n",
       "      <td>EXP6001</td>\n",
       "      <td>NaN</td>\n",
       "      <td>NaN</td>\n",
       "      <td>NaN</td>\n",
       "      <td>NaN</td>\n",
       "      <td>NaN</td>\n",
       "    </tr>\n",
       "  </tbody>\n",
       "</table>\n",
       "</div>"
      ],
      "text/plain": [
       "  Lot Number     Product       Date Shop Order Formula Sheet CONTAINER  \\\n",
       "0  19D27563X     4502570 2020-12-01     188358    DC00056758   EXP5013   \n",
       "1  19E02463X     4502570 2020-12-01     188400    DC00056758   EXP5013   \n",
       "2  19E02563X     4502570 2020-12-01     188401    DC00056758   EXP5013   \n",
       "3  19G00463X     4502570 2020-12-01     189166    DC00056758   EXP5013   \n",
       "4  19G10763X  8881112083 2020-12-01     189332    FS10017988   EXP5013   \n",
       "\n",
       "  PRINTER ACCESSORIES SILICON FLUID RUBBER TIP    RESIN PACKAGING SYRINGE  \\\n",
       "0             EXP5050    PT00009994        NaN      NaN       NaN     NaN   \n",
       "1             EXP5050    PT00009994        NaN      NaN       NaN     NaN   \n",
       "2             EXP5050    PT00009994    4001204  5170588   5542735     NaN   \n",
       "3             EXP5050    PT00009994        NaN      NaN       NaN     NaN   \n",
       "4          PT00033969    PT00009994        NaN      NaN   EXP6001     NaN   \n",
       "\n",
       "  LABEL  PAD SYRINGE TRAY  \n",
       "0   NaN  NaN     NaN  NaN  \n",
       "1   NaN  NaN     NaN  NaN  \n",
       "2   NaN  NaN     NaN  NaN  \n",
       "3   NaN  NaN     NaN  NaN  \n",
       "4   NaN  NaN     NaN  NaN  "
      ]
     },
     "execution_count": 10,
     "metadata": {},
     "output_type": "execute_result"
    }
   ],
   "source": [
    "df.head()"
   ]
  },
  {
   "cell_type": "code",
   "execution_count": 11,
   "id": "b1a2b4ac",
   "metadata": {},
   "outputs": [
    {
     "name": "stdout",
     "output_type": "stream",
     "text": [
      "Searching for most recent NC Full Report file \n",
      "C:\\Users\\steven.hansen01\\OneDrive - Cardinal Health\\General\\quality_issue_predictor\\raw_data\n",
      "Running NC Full Report...\n",
      "Compiling index, sit tight...\n"
     ]
    },
    {
     "name": "stderr",
     "output_type": "stream",
     "text": [
      "C:\\Users\\steven.hansen01\\AppData\\Roaming\\Python\\Python39\\site-packages\\openpyxl\\worksheet\\header_footer.py:48: UserWarning: Cannot parse header or footer so it will be ignored\n",
      "  warn(\"\"\"Cannot parse header or footer so it will be ignored\"\"\")\n"
     ]
    },
    {
     "name": "stdout",
     "output_type": "stream",
     "text": [
      "Wall time: 25.8 s\n"
     ]
    }
   ],
   "source": [
    "%%time\n",
    "nc_data = nc_full.NC_Full()\n",
    "nc_data.mostrecentreport(og_data_path = os.getcwd()+r'\\raw_data')\n",
    "\n",
    "nc_data = nc_data.run_report()\n",
    "for i, lot_number in enumerate(df['Lot Number']):\n",
    "    for j, nc_lot_nums in enumerate(nc_data['Lot Number']):\n",
    "        if lot_number in nc_lot_nums:\n",
    "            df.loc[i,'NC'] = 1\n",
    "            break\n",
    "#df = df.fillna(0)"
   ]
  },
  {
   "cell_type": "code",
   "execution_count": 12,
   "id": "6c0bcdea",
   "metadata": {},
   "outputs": [
    {
     "data": {
      "text/html": [
       "<div>\n",
       "<style scoped>\n",
       "    .dataframe tbody tr th:only-of-type {\n",
       "        vertical-align: middle;\n",
       "    }\n",
       "\n",
       "    .dataframe tbody tr th {\n",
       "        vertical-align: top;\n",
       "    }\n",
       "\n",
       "    .dataframe thead th {\n",
       "        text-align: right;\n",
       "    }\n",
       "</style>\n",
       "<table border=\"1\" class=\"dataframe\">\n",
       "  <thead>\n",
       "    <tr style=\"text-align: right;\">\n",
       "      <th></th>\n",
       "      <th>Lot Number</th>\n",
       "      <th>Product</th>\n",
       "      <th>Date</th>\n",
       "      <th>Shop Order</th>\n",
       "      <th>Formula Sheet</th>\n",
       "      <th>CONTAINER</th>\n",
       "      <th>PRINTER ACCESSORIES</th>\n",
       "      <th>SILICON FLUID</th>\n",
       "      <th>RUBBER TIP</th>\n",
       "      <th>RESIN</th>\n",
       "      <th>PACKAGING</th>\n",
       "      <th>SYRINGE</th>\n",
       "      <th>LABEL</th>\n",
       "      <th>PAD</th>\n",
       "      <th>SYRINGE</th>\n",
       "      <th>TRAY</th>\n",
       "      <th>NC</th>\n",
       "    </tr>\n",
       "  </thead>\n",
       "  <tbody>\n",
       "    <tr>\n",
       "      <th>0</th>\n",
       "      <td>19D27563X</td>\n",
       "      <td>4502570</td>\n",
       "      <td>2020-12-01</td>\n",
       "      <td>188358</td>\n",
       "      <td>DC00056758</td>\n",
       "      <td>EXP5013</td>\n",
       "      <td>EXP5050</td>\n",
       "      <td>PT00009994</td>\n",
       "      <td>NaN</td>\n",
       "      <td>NaN</td>\n",
       "      <td>NaN</td>\n",
       "      <td>NaN</td>\n",
       "      <td>NaN</td>\n",
       "      <td>NaN</td>\n",
       "      <td>NaN</td>\n",
       "      <td>NaN</td>\n",
       "      <td>NaN</td>\n",
       "    </tr>\n",
       "    <tr>\n",
       "      <th>1</th>\n",
       "      <td>19E02463X</td>\n",
       "      <td>4502570</td>\n",
       "      <td>2020-12-01</td>\n",
       "      <td>188400</td>\n",
       "      <td>DC00056758</td>\n",
       "      <td>EXP5013</td>\n",
       "      <td>EXP5050</td>\n",
       "      <td>PT00009994</td>\n",
       "      <td>NaN</td>\n",
       "      <td>NaN</td>\n",
       "      <td>NaN</td>\n",
       "      <td>NaN</td>\n",
       "      <td>NaN</td>\n",
       "      <td>NaN</td>\n",
       "      <td>NaN</td>\n",
       "      <td>NaN</td>\n",
       "      <td>1.0</td>\n",
       "    </tr>\n",
       "    <tr>\n",
       "      <th>2</th>\n",
       "      <td>19E02563X</td>\n",
       "      <td>4502570</td>\n",
       "      <td>2020-12-01</td>\n",
       "      <td>188401</td>\n",
       "      <td>DC00056758</td>\n",
       "      <td>EXP5013</td>\n",
       "      <td>EXP5050</td>\n",
       "      <td>PT00009994</td>\n",
       "      <td>4001204</td>\n",
       "      <td>5170588</td>\n",
       "      <td>5542735</td>\n",
       "      <td>NaN</td>\n",
       "      <td>NaN</td>\n",
       "      <td>NaN</td>\n",
       "      <td>NaN</td>\n",
       "      <td>NaN</td>\n",
       "      <td>1.0</td>\n",
       "    </tr>\n",
       "    <tr>\n",
       "      <th>3</th>\n",
       "      <td>19G00463X</td>\n",
       "      <td>4502570</td>\n",
       "      <td>2020-12-01</td>\n",
       "      <td>189166</td>\n",
       "      <td>DC00056758</td>\n",
       "      <td>EXP5013</td>\n",
       "      <td>EXP5050</td>\n",
       "      <td>PT00009994</td>\n",
       "      <td>NaN</td>\n",
       "      <td>NaN</td>\n",
       "      <td>NaN</td>\n",
       "      <td>NaN</td>\n",
       "      <td>NaN</td>\n",
       "      <td>NaN</td>\n",
       "      <td>NaN</td>\n",
       "      <td>NaN</td>\n",
       "      <td>NaN</td>\n",
       "    </tr>\n",
       "    <tr>\n",
       "      <th>4</th>\n",
       "      <td>19G10763X</td>\n",
       "      <td>8881112083</td>\n",
       "      <td>2020-12-01</td>\n",
       "      <td>189332</td>\n",
       "      <td>FS10017988</td>\n",
       "      <td>EXP5013</td>\n",
       "      <td>PT00033969</td>\n",
       "      <td>PT00009994</td>\n",
       "      <td>NaN</td>\n",
       "      <td>NaN</td>\n",
       "      <td>EXP6001</td>\n",
       "      <td>NaN</td>\n",
       "      <td>NaN</td>\n",
       "      <td>NaN</td>\n",
       "      <td>NaN</td>\n",
       "      <td>NaN</td>\n",
       "      <td>1.0</td>\n",
       "    </tr>\n",
       "  </tbody>\n",
       "</table>\n",
       "</div>"
      ],
      "text/plain": [
       "  Lot Number     Product       Date Shop Order Formula Sheet CONTAINER  \\\n",
       "0  19D27563X     4502570 2020-12-01     188358    DC00056758   EXP5013   \n",
       "1  19E02463X     4502570 2020-12-01     188400    DC00056758   EXP5013   \n",
       "2  19E02563X     4502570 2020-12-01     188401    DC00056758   EXP5013   \n",
       "3  19G00463X     4502570 2020-12-01     189166    DC00056758   EXP5013   \n",
       "4  19G10763X  8881112083 2020-12-01     189332    FS10017988   EXP5013   \n",
       "\n",
       "  PRINTER ACCESSORIES SILICON FLUID RUBBER TIP    RESIN PACKAGING SYRINGE  \\\n",
       "0             EXP5050    PT00009994        NaN      NaN       NaN     NaN   \n",
       "1             EXP5050    PT00009994        NaN      NaN       NaN     NaN   \n",
       "2             EXP5050    PT00009994    4001204  5170588   5542735     NaN   \n",
       "3             EXP5050    PT00009994        NaN      NaN       NaN     NaN   \n",
       "4          PT00033969    PT00009994        NaN      NaN   EXP6001     NaN   \n",
       "\n",
       "  LABEL  PAD SYRINGE TRAY   NC  \n",
       "0   NaN  NaN     NaN  NaN  NaN  \n",
       "1   NaN  NaN     NaN  NaN  1.0  \n",
       "2   NaN  NaN     NaN  NaN  1.0  \n",
       "3   NaN  NaN     NaN  NaN  NaN  \n",
       "4   NaN  NaN     NaN  NaN  1.0  "
      ]
     },
     "execution_count": 12,
     "metadata": {},
     "output_type": "execute_result"
    }
   ],
   "source": [
    "df.head()"
   ]
  },
  {
   "cell_type": "code",
   "execution_count": 58,
   "id": "557a3f0d",
   "metadata": {},
   "outputs": [
    {
     "name": "stdout",
     "output_type": "stream",
     "text": [
      "precent of lots with NCs = 9.94%\n"
     ]
    }
   ],
   "source": [
    "print(f'precent of lots with NCs = {round(100*np.nansum(df.NC)/len(df),2)}%')"
   ]
  },
  {
   "cell_type": "code",
   "execution_count": 59,
   "id": "68126737",
   "metadata": {},
   "outputs": [
    {
     "data": {
      "text/plain": [
       "(2886, 17)"
      ]
     },
     "execution_count": 59,
     "metadata": {},
     "output_type": "execute_result"
    }
   ],
   "source": [
    "df.shape"
   ]
  },
  {
   "cell_type": "code",
   "execution_count": 13,
   "id": "f7e523a8",
   "metadata": {},
   "outputs": [],
   "source": [
    "clean_data = df.iloc[:,4:-1]\n",
    "y = df.iloc[:,-1].fillna(0)"
   ]
  },
  {
   "cell_type": "code",
   "execution_count": 14,
   "id": "704b911a",
   "metadata": {},
   "outputs": [
    {
     "data": {
      "text/html": [
       "<div>\n",
       "<style scoped>\n",
       "    .dataframe tbody tr th:only-of-type {\n",
       "        vertical-align: middle;\n",
       "    }\n",
       "\n",
       "    .dataframe tbody tr th {\n",
       "        vertical-align: top;\n",
       "    }\n",
       "\n",
       "    .dataframe thead th {\n",
       "        text-align: right;\n",
       "    }\n",
       "</style>\n",
       "<table border=\"1\" class=\"dataframe\">\n",
       "  <thead>\n",
       "    <tr style=\"text-align: right;\">\n",
       "      <th></th>\n",
       "      <th>Formula Sheet</th>\n",
       "      <th>CONTAINER</th>\n",
       "      <th>PRINTER ACCESSORIES</th>\n",
       "      <th>SILICON FLUID</th>\n",
       "      <th>RUBBER TIP</th>\n",
       "      <th>RESIN</th>\n",
       "      <th>PACKAGING</th>\n",
       "      <th>SYRINGE</th>\n",
       "      <th>LABEL</th>\n",
       "      <th>PAD</th>\n",
       "      <th>SYRINGE</th>\n",
       "      <th>TRAY</th>\n",
       "    </tr>\n",
       "  </thead>\n",
       "  <tbody>\n",
       "    <tr>\n",
       "      <th>0</th>\n",
       "      <td>DC00056758</td>\n",
       "      <td>EXP5013</td>\n",
       "      <td>EXP5050</td>\n",
       "      <td>PT00009994</td>\n",
       "      <td>NaN</td>\n",
       "      <td>NaN</td>\n",
       "      <td>NaN</td>\n",
       "      <td>NaN</td>\n",
       "      <td>NaN</td>\n",
       "      <td>NaN</td>\n",
       "      <td>NaN</td>\n",
       "      <td>NaN</td>\n",
       "    </tr>\n",
       "    <tr>\n",
       "      <th>1</th>\n",
       "      <td>DC00056758</td>\n",
       "      <td>EXP5013</td>\n",
       "      <td>EXP5050</td>\n",
       "      <td>PT00009994</td>\n",
       "      <td>NaN</td>\n",
       "      <td>NaN</td>\n",
       "      <td>NaN</td>\n",
       "      <td>NaN</td>\n",
       "      <td>NaN</td>\n",
       "      <td>NaN</td>\n",
       "      <td>NaN</td>\n",
       "      <td>NaN</td>\n",
       "    </tr>\n",
       "    <tr>\n",
       "      <th>2</th>\n",
       "      <td>DC00056758</td>\n",
       "      <td>EXP5013</td>\n",
       "      <td>EXP5050</td>\n",
       "      <td>PT00009994</td>\n",
       "      <td>4001204</td>\n",
       "      <td>5170588</td>\n",
       "      <td>5542735</td>\n",
       "      <td>NaN</td>\n",
       "      <td>NaN</td>\n",
       "      <td>NaN</td>\n",
       "      <td>NaN</td>\n",
       "      <td>NaN</td>\n",
       "    </tr>\n",
       "    <tr>\n",
       "      <th>3</th>\n",
       "      <td>DC00056758</td>\n",
       "      <td>EXP5013</td>\n",
       "      <td>EXP5050</td>\n",
       "      <td>PT00009994</td>\n",
       "      <td>NaN</td>\n",
       "      <td>NaN</td>\n",
       "      <td>NaN</td>\n",
       "      <td>NaN</td>\n",
       "      <td>NaN</td>\n",
       "      <td>NaN</td>\n",
       "      <td>NaN</td>\n",
       "      <td>NaN</td>\n",
       "    </tr>\n",
       "    <tr>\n",
       "      <th>4</th>\n",
       "      <td>FS10017988</td>\n",
       "      <td>EXP5013</td>\n",
       "      <td>PT00033969</td>\n",
       "      <td>PT00009994</td>\n",
       "      <td>NaN</td>\n",
       "      <td>NaN</td>\n",
       "      <td>EXP6001</td>\n",
       "      <td>NaN</td>\n",
       "      <td>NaN</td>\n",
       "      <td>NaN</td>\n",
       "      <td>NaN</td>\n",
       "      <td>NaN</td>\n",
       "    </tr>\n",
       "  </tbody>\n",
       "</table>\n",
       "</div>"
      ],
      "text/plain": [
       "  Formula Sheet CONTAINER PRINTER ACCESSORIES SILICON FLUID RUBBER TIP  \\\n",
       "0    DC00056758   EXP5013             EXP5050    PT00009994        NaN   \n",
       "1    DC00056758   EXP5013             EXP5050    PT00009994        NaN   \n",
       "2    DC00056758   EXP5013             EXP5050    PT00009994    4001204   \n",
       "3    DC00056758   EXP5013             EXP5050    PT00009994        NaN   \n",
       "4    FS10017988   EXP5013          PT00033969    PT00009994        NaN   \n",
       "\n",
       "     RESIN PACKAGING SYRINGE LABEL  PAD SYRINGE TRAY  \n",
       "0      NaN       NaN     NaN   NaN  NaN     NaN  NaN  \n",
       "1      NaN       NaN     NaN   NaN  NaN     NaN  NaN  \n",
       "2  5170588   5542735     NaN   NaN  NaN     NaN  NaN  \n",
       "3      NaN       NaN     NaN   NaN  NaN     NaN  NaN  \n",
       "4      NaN   EXP6001     NaN   NaN  NaN     NaN  NaN  "
      ]
     },
     "execution_count": 14,
     "metadata": {},
     "output_type": "execute_result"
    }
   ],
   "source": [
    "clean_data.head()"
   ]
  },
  {
   "cell_type": "code",
   "execution_count": 15,
   "id": "9d4ba148",
   "metadata": {},
   "outputs": [
    {
     "data": {
      "text/plain": [
       "0    0.0\n",
       "1    1.0\n",
       "2    1.0\n",
       "3    0.0\n",
       "4    1.0\n",
       "Name: NC, dtype: float64"
      ]
     },
     "execution_count": 15,
     "metadata": {},
     "output_type": "execute_result"
    }
   ],
   "source": [
    "y.head()"
   ]
  },
  {
   "cell_type": "code",
   "execution_count": 16,
   "id": "a2acaa16",
   "metadata": {},
   "outputs": [],
   "source": [
    "from sklearn.preprocessing import OneHotEncoder\n"
   ]
  },
  {
   "cell_type": "code",
   "execution_count": 17,
   "id": "ad717b2e",
   "metadata": {},
   "outputs": [
    {
     "data": {
      "text/plain": [
       "OneHotEncoder(handle_unknown='ignore', sparse=False)"
      ]
     },
     "execution_count": 17,
     "metadata": {},
     "output_type": "execute_result"
    }
   ],
   "source": [
    "one_hot_encoder = OneHotEncoder(sparse=False,handle_unknown='ignore')\n",
    "one_hot_encoder.fit(clean_data)\n"
   ]
  },
  {
   "cell_type": "code",
   "execution_count": 18,
   "id": "5e8192c2",
   "metadata": {},
   "outputs": [],
   "source": [
    "df_encoded = one_hot_encoder.transform(clean_data)\n",
    "cols = []\n",
    "i=0\n",
    "while i < 12:\n",
    "    cols = cols+list(one_hot_encoder.categories_[i])\n",
    "    i+=1\n",
    "len(cols)\n",
    "df_encoded = pd.DataFrame(data=df_encoded, columns=cols)"
   ]
  },
  {
   "cell_type": "code",
   "execution_count": 19,
   "id": "4565da54",
   "metadata": {},
   "outputs": [
    {
     "data": {
      "text/plain": [
       "array([[0., 0., 0., ..., 0., 0., 1.],\n",
       "       [0., 0., 0., ..., 0., 0., 1.],\n",
       "       [0., 0., 0., ..., 0., 0., 1.],\n",
       "       ...,\n",
       "       [0., 0., 0., ..., 0., 0., 1.],\n",
       "       [0., 0., 0., ..., 0., 0., 1.],\n",
       "       [0., 0., 0., ..., 0., 0., 1.]])"
      ]
     },
     "execution_count": 19,
     "metadata": {},
     "output_type": "execute_result"
    }
   ],
   "source": [
    "df_encoded.to_numpy()\n"
   ]
  },
  {
   "cell_type": "code",
   "execution_count": 66,
   "id": "b0bc1dcc",
   "metadata": {},
   "outputs": [],
   "source": [
    "def ada_boost_models(X,y,n_estimators=100,max_depth=8,t_size = 0.25):\n",
    "    from sklearn.model_selection import train_test_split\n",
    "    from sklearn.ensemble import AdaBoostRegressor\n",
    "    from sklearn.tree import DecisionTreeRegressor\n",
    "    X_train, X_test, y_train, y_test = train_test_split(\n",
    "    X, y, test_size=t_size, random_state=42)\n",
    "    rng = np.random.RandomState(1)\n",
    "    regr = AdaBoostRegressor(DecisionTreeRegressor(max_depth = max_depth),\n",
    "                          n_estimators=n_estimators, random_state=rng)\n",
    "    regr.fit(X_train, y_train)\n",
    "    y_1 = regr.predict(X_test)\n",
    "    return regr,y_test,y_1\n",
    "regr,y_test,y_1 = ada_boost_models(df_encoded.to_numpy(),y.to_numpy())"
   ]
  },
  {
   "cell_type": "code",
   "execution_count": 67,
   "id": "40ab0ca1",
   "metadata": {},
   "outputs": [
    {
     "data": {
      "image/png": "[encoded data removed]",
      "text/plain": [
       "<Figure size 432x288 with 1 Axes>"
      ]
     },
     "metadata": {},
     "output_type": "display_data"
    }
   ],
   "source": [
    "def plot_prec_recall(y_test, y_1):\n",
    "    from sklearn.metrics import precision_recall_curve\n",
    "    precision, recall, thresholds = precision_recall_curve(y_test,y_1)\n",
    "    indicted = np.zeros(thresholds.shape)\n",
    "    for i,thresh in enumerate(thresholds):\n",
    "        indicted[i] = len(y_1[y_1>=thresh])/len(y_1)\n",
    "    \n",
    "    plt.plot(thresholds,precision[:-1],label = 'Precision')\n",
    "    plt.plot(thresholds,recall[:-1],label = 'Recall')\n",
    "    plt.plot(thresholds,indicted,label = 'Indicted')\n",
    "    plt.title('AdaBoost: Precision Recall Curve')\n",
    "    plt.xlabel('Threshold')\n",
    "    plt.legend()\n",
    "    plt.show()\n",
    "    return precision[:-1], recall[1:], thresholds\n",
    "precision,recall,thresholds = plot_prec_recall(y_test,y_1)"
   ]
  },
  {
   "cell_type": "code",
   "execution_count": 62,
   "id": "90596821",
   "metadata": {},
   "outputs": [
    {
     "data": {
      "text/plain": [
       "array([0.09217877, 0.09104046, 0.09170306, 0.09064327, 0.10148515,\n",
       "       0.10174419, 0.21518987, 0.21621622, 0.24561404, 0.25      ,\n",
       "       0.25641026, 0.28571429, 0.71428571, 0.83333333, 0.5       ])"
      ]
     },
     "execution_count": 62,
     "metadata": {},
     "output_type": "execute_result"
    }
   ],
   "source": [
    "precision"
   ]
  },
  {
   "cell_type": "code",
   "execution_count": 68,
   "id": "e5bbd941",
   "metadata": {},
   "outputs": [
    {
     "name": "stdout",
     "output_type": "stream",
     "text": [
      "----- Balanced Precision and Recall Model -----\n",
      "percent of lots indicted = 3.878%\n",
      "recall (NC reduction) = 7.58%\n",
      "total number of predicted NCs = 28\n",
      "True Positives = 8.0\n",
      "precision = 28.57%\n"
     ]
    }
   ],
   "source": [
    "#thresholds\n",
    "print(5*'-'+' Balanced Precision and Recall Model '+5*'-')\n",
    "test_threshold = np.round(thresholds[-4],4)\n",
    "print(f'percent of lots indicted = {round(100*len(y_1[y_1>=test_threshold])/len(y_1),3)}%')\n",
    "print(f'recall (NC reduction) = {round(100*recall[np.where(np.round(thresholds,4) == test_threshold)][0],2)}%')\n",
    "print(f'total number of predicted NCs = {len(y_1[y_1>=test_threshold])}')\n",
    "print(f'True Positives = {sum(y_test[np.where(y_1>=test_threshold)])}')\n",
    "print(f'precision = {round(100*precision[np.where(np.round(thresholds,4) == test_threshold)][0],2)}%')"
   ]
  },
  {
   "cell_type": "code",
   "execution_count": 24,
   "id": "51a71ead",
   "metadata": {},
   "outputs": [
    {
     "data": {
      "text/plain": [
       "array([0.0672665 , 0.16666667, 0.19565217, 0.20833333, 0.41176471,\n",
       "       0.5       , 0.55555556])"
      ]
     },
     "execution_count": 24,
     "metadata": {},
     "output_type": "execute_result"
    }
   ],
   "source": [
    "thresholds"
   ]
  },
  {
   "cell_type": "code",
   "execution_count": 71,
   "id": "6d404aba",
   "metadata": {},
   "outputs": [
    {
     "data": {
      "text/plain": [
       "289"
      ]
     },
     "execution_count": 71,
     "metadata": {},
     "output_type": "execute_result"
    }
   ],
   "source": [
    "len(y_test)"
   ]
  },
  {
   "cell_type": "markdown",
   "id": "6ac82ee1",
   "metadata": {},
   "source": [
    "### test size = 10%"
   ]
  },
  {
   "cell_type": "code",
   "execution_count": 80,
   "id": "74961ee2",
   "metadata": {},
   "outputs": [
    {
     "data": {
      "image/png": "[encoded data removed]",
      "text/plain": [
       "<Figure size 432x288 with 1 Axes>"
      ]
     },
     "metadata": {},
     "output_type": "display_data"
    },
    {
     "name": "stdout",
     "output_type": "stream",
     "text": [
      "----- AdaBoost low estimaters, deep depth Model -----\n",
      "percent of lots indicted = 2.076%\n",
      "recall (NC reduction) = 21.74%\n",
      "total number of predicted NCs = 6\n",
      "True Positives = 5.0\n",
      "precision = 75.0%\n"
     ]
    }
   ],
   "source": [
    "regr,y_test,y_1 = ada_boost_models(df_encoded.to_numpy(),y.to_numpy(),n_estimators=10,max_depth=20,t_size = 0.10)\n",
    "precision,recall,thresholds = plot_prec_recall(y_test,y_1)\n",
    "print(5*'-'+' AdaBoost low estimaters, deep depth Model '+5*'-')\n",
    "test_threshold = np.round(thresholds[-3],4)\n",
    "print(f'percent of lots indicted = {round(100*len(y_1[y_1>=test_threshold])/len(y_1),3)}%')\n",
    "print(f'recall (NC reduction) = {round(100*recall[np.where(np.round(thresholds,4) == test_threshold)][0],2)}%')\n",
    "print(f'total number of predicted NCs = {len(y_1[y_1>=test_threshold])}')\n",
    "print(f'True Positives = {sum(y_test[np.where(y_1>=test_threshold)])}')\n",
    "print(f'precision = {round(100*precision[np.where(np.round(thresholds,4) == test_threshold)][0],2)}%')"
   ]
  },
  {
   "cell_type": "code",
   "execution_count": null,
   "id": "a41a0285",
   "metadata": {},
   "outputs": [],
   "source": []
  },
  {
   "cell_type": "code",
   "execution_count": 75,
   "id": "e1fef654",
   "metadata": {},
   "outputs": [
    {
     "data": {
      "text/plain": [
       "array([0.09141274, 0.09295352, 0.10097087, 0.10294118, 0.10315789,\n",
       "       0.10403397, 0.10425532, 0.10447761, 0.10961969, 0.11036036,\n",
       "       0.10958904, 0.11435523, 0.11557789, 0.11616162, 0.11794872,\n",
       "       0.11340206, 0.11320755, 0.15137615, 0.15277778, 0.15533981,\n",
       "       0.15577889, 0.16666667, 0.19333333, 0.18518519, 0.18584071,\n",
       "       0.2038835 , 0.21      , 0.20408163, 0.20618557, 0.20547945,\n",
       "       0.21126761, 0.20634921, 0.21311475, 0.22807018, 0.27777778,\n",
       "       0.28571429, 0.33333333, 0.35294118, 0.41666667, 0.125     ])"
      ]
     },
     "execution_count": 75,
     "metadata": {},
     "output_type": "execute_result"
    }
   ],
   "source": [
    "precision"
   ]
  },
  {
   "cell_type": "markdown",
   "id": "21fac1c4",
   "metadata": {},
   "source": [
    "### test size = 20%\n"
   ]
  },
  {
   "cell_type": "code",
   "execution_count": 104,
   "id": "b22d698a",
   "metadata": {},
   "outputs": [
    {
     "data": {
      "image/png": "[encoded data removed]",
      "text/plain": [
       "<Figure size 432x288 with 1 Axes>"
      ]
     },
     "metadata": {},
     "output_type": "display_data"
    },
    {
     "name": "stdout",
     "output_type": "stream",
     "text": [
      "----- AdaBoost low estimaters, deep depth Model -----\n",
      "percent of lots indicted = 1.211%\n",
      "recall (NC reduction) = 9.43%\n",
      "total number of predicted NCs = 7\n",
      "True Positives = 5.0\n",
      "precision = 62.5%\n"
     ]
    }
   ],
   "source": [
    "regr,y_test,y_1 = ada_boost_models(df_encoded.to_numpy(),y.to_numpy(),n_estimators=5,max_depth=10,t_size = 0.20)\n",
    "precision,recall,thresholds = plot_prec_recall(y_test,y_1)\n",
    "print(5*'-'+' AdaBoost low estimaters, deep depth Model '+5*'-')\n",
    "test_threshold = np.round(thresholds[-2],4)\n",
    "print(f'percent of lots indicted = {round(100*len(y_1[y_1>=test_threshold])/len(y_1),3)}%')\n",
    "print(f'recall (NC reduction) = {round(100*recall[np.where(np.round(thresholds,4) == test_threshold)][0],2)}%')\n",
    "print(f'total number of predicted NCs = {len(y_1[y_1>=test_threshold])}')\n",
    "print(f'True Positives = {sum(y_test[np.where(y_1>=test_threshold)])}')\n",
    "print(f'precision = {round(100*precision[np.where(np.round(thresholds,4) == test_threshold)][0],2)}%')"
   ]
  },
  {
   "cell_type": "markdown",
   "id": "9b61eba2",
   "metadata": {},
   "source": [
    "### test size = 33%"
   ]
  },
  {
   "cell_type": "code",
   "execution_count": 110,
   "id": "392af01a",
   "metadata": {},
   "outputs": [
    {
     "data": {
      "image/png": "[encoded data removed]",
      "text/plain": [
       "<Figure size 432x288 with 1 Axes>"
      ]
     },
     "metadata": {},
     "output_type": "display_data"
    },
    {
     "name": "stdout",
     "output_type": "stream",
     "text": [
      "----- AdaBoost low estimaters, deep depth Model -----\n",
      "percent of lots indicted = 1.679%\n",
      "recall (NC reduction) = 4.21%\n",
      "total number of predicted NCs = 16\n",
      "True Positives = 4.0\n",
      "precision = 32.35%\n"
     ]
    }
   ],
   "source": [
    "regr,y_test,y_1 = ada_boost_models(df_encoded.to_numpy(),y.to_numpy(),n_estimators=5,max_depth=10,t_size = 0.33)\n",
    "precision,recall,thresholds = plot_prec_recall(y_test,y_1)\n",
    "print(5*'-'+' AdaBoost low estimaters, deep depth Model '+5*'-')\n",
    "test_threshold = np.round(thresholds[-5],4)\n",
    "print(f'percent of lots indicted = {round(100*len(y_1[y_1>=test_threshold])/len(y_1),3)}%')\n",
    "print(f'recall (NC reduction) = {round(100*recall[np.where(np.round(thresholds,4) == test_threshold)][0],2)}%')\n",
    "print(f'total number of predicted NCs = {len(y_1[y_1>=test_threshold])}')\n",
    "print(f'True Positives = {sum(y_test[np.where(y_1>=test_threshold)])}')\n",
    "print(f'precision = {round(100*precision[np.where(np.round(thresholds,4) == test_threshold)][0],2)}%')"
   ]
  },
  {
   "cell_type": "code",
   "execution_count": 106,
   "id": "032279f8",
   "metadata": {},
   "outputs": [
    {
     "data": {
      "text/plain": [
       "array([0.10063559, 0.1061828 , 0.10803324, 0.11175337, 0.1167002 ,\n",
       "       0.19298246, 0.18823529, 0.1863354 , 0.23478261, 0.24675325,\n",
       "       0.32352941, 0.25      , 0.26666667, 0.33333333, 0.4       ])"
      ]
     },
     "execution_count": 106,
     "metadata": {},
     "output_type": "execute_result"
    }
   ],
   "source": [
    "precision"
   ]
  },
  {
   "cell_type": "code",
   "execution_count": 72,
   "id": "304d2ea8",
   "metadata": {},
   "outputs": [],
   "source": [
    "from sklearn.model_selection import RepeatedKFold\n",
    "from sklearn.model_selection import cross_val_score\n",
    "from sklearn.linear_model import LogisticRegression\n",
    "from sklearn.linear_model import LinearRegression\n",
    "from sklearn.ensemble import AdaBoostClassifier"
   ]
  },
  {
   "cell_type": "code",
   "execution_count": 73,
   "id": "16033940",
   "metadata": {},
   "outputs": [],
   "source": [
    "cv = RepeatedKFold(n_splits=3, n_repeats=3, random_state=1)"
   ]
  },
  {
   "cell_type": "code",
   "execution_count": 111,
   "id": "209ac2f9",
   "metadata": {},
   "outputs": [
    {
     "data": {
      "text/plain": [
       "AdaBoostClassifier()"
      ]
     },
     "execution_count": 111,
     "metadata": {},
     "output_type": "execute_result"
    }
   ],
   "source": [
    "ada_boost_class = AdaBoostClassifier()\n",
    "ada_boost_class.fit(df_encoded.to_numpy(),y.to_numpy())"
   ]
  },
  {
   "cell_type": "code",
   "execution_count": 116,
   "id": "e44ede8d",
   "metadata": {},
   "outputs": [],
   "source": [
    "ada_boost_class.predict\n",
    "from sklearn.model_selection import train_test_split\n",
    "X = df_encoded.to_numpy()\n",
    "#y = y.to_numpy()\n",
    "t_size = 0.33\n",
    "X_train, X_test, y_train, y_test = train_test_split(\n",
    "    X, y, test_size=t_size, random_state=42)\n",
    "rng = np.random.RandomState(1)\n",
    "ada_boost_class = AdaBoostClassifier()\n",
    "ada_boost_class.fit(X_train, y_train)\n",
    "y_1 = ada_boost_class.predict(X_test)"
   ]
  },
  {
   "cell_type": "code",
   "execution_count": 125,
   "id": "6b16e723",
   "metadata": {},
   "outputs": [
    {
     "name": "stdout",
     "output_type": "stream",
     "text": [
      "True positive = 2\n",
      "False Positive = 6\n",
      "Recall = 0.25\n"
     ]
    }
   ],
   "source": [
    "true_pos = 0\n",
    "false_pos = 0\n",
    "false_neg = 0\n",
    "true_neg = 0\n",
    "for i in range(len(y_1)):\n",
    "    if (y_1[i] == 1) & (y_1[i] == y_test[i]):\n",
    "        true_pos+=1\n",
    "    elif (y_1[i] == 1) & (y_1[i]!=y_test[i]):\n",
    "        false_pos+=1\n",
    "    elif (y_1[i] == 0) & (y_1[i] == y_test[i]):\n",
    "        true_neg +=1\n",
    "    elif (y_1[i] == 0) & (y_1[i]!=y_test[i]):\n",
    "        false_neg+=1\n",
    "\n",
    "print(f'True positive = {true_pos}')\n",
    "print(f'False Positive = {false_pos}')\n",
    "print(f'Recall = {true_pos/(true_pos+false_pos)}')"
   ]
  },
  {
   "cell_type": "code",
   "execution_count": 127,
   "id": "68335f74",
   "metadata": {},
   "outputs": [
    {
     "data": {
      "text/plain": [
       "95.0"
      ]
     },
     "execution_count": 127,
     "metadata": {},
     "output_type": "execute_result"
    }
   ],
   "source": [
    "sum(y_test)"
   ]
  },
  {
   "cell_type": "code",
   "execution_count": 128,
   "id": "edd67ea4",
   "metadata": {},
   "outputs": [
    {
     "data": {
      "text/plain": [
       "8.0"
      ]
     },
     "execution_count": 128,
     "metadata": {},
     "output_type": "execute_result"
    }
   ],
   "source": [
    "sum(y_1)"
   ]
  },
  {
   "cell_type": "markdown",
   "id": "c7d7f20d",
   "metadata": {},
   "source": [
    "### import current_so"
   ]
  },
  {
   "cell_type": "code",
   "execution_count": 29,
   "id": "45a6c978",
   "metadata": {},
   "outputs": [],
   "source": [
    "curr_df = pd.read_csv(open('./raw_data/current_so.csv','rb'))"
   ]
  },
  {
   "cell_type": "code",
   "execution_count": 30,
   "id": "966dbb3b",
   "metadata": {},
   "outputs": [
    {
     "data": {
      "text/html": [
       "<div>\n",
       "<style scoped>\n",
       "    .dataframe tbody tr th:only-of-type {\n",
       "        vertical-align: middle;\n",
       "    }\n",
       "\n",
       "    .dataframe tbody tr th {\n",
       "        vertical-align: top;\n",
       "    }\n",
       "\n",
       "    .dataframe thead th {\n",
       "        text-align: right;\n",
       "    }\n",
       "</style>\n",
       "<table border=\"1\" class=\"dataframe\">\n",
       "  <thead>\n",
       "    <tr style=\"text-align: right;\">\n",
       "      <th></th>\n",
       "      <th>Lot Number</th>\n",
       "      <th>Product</th>\n",
       "      <th>Date</th>\n",
       "      <th>Shop Order</th>\n",
       "      <th>Formula Sheet</th>\n",
       "      <th>CONTAINER</th>\n",
       "      <th>PRINTER ACCESSORIES</th>\n",
       "      <th>SILICON FLUID</th>\n",
       "      <th>RUBBER TIP</th>\n",
       "      <th>RESIN</th>\n",
       "      <th>PACKAGING</th>\n",
       "      <th>SYRINGE</th>\n",
       "      <th>LABEL</th>\n",
       "      <th>PAD</th>\n",
       "      <th>SYRINGE</th>\n",
       "      <th>TRAY</th>\n",
       "      <th>NC</th>\n",
       "    </tr>\n",
       "  </thead>\n",
       "  <tbody>\n",
       "    <tr>\n",
       "      <th>0</th>\n",
       "      <td>19D27563X</td>\n",
       "      <td>4502570</td>\n",
       "      <td>2020-12-01</td>\n",
       "      <td>188358</td>\n",
       "      <td>DC00056758</td>\n",
       "      <td>EXP5013</td>\n",
       "      <td>EXP5050</td>\n",
       "      <td>PT00009994</td>\n",
       "      <td>NaN</td>\n",
       "      <td>NaN</td>\n",
       "      <td>NaN</td>\n",
       "      <td>NaN</td>\n",
       "      <td>NaN</td>\n",
       "      <td>NaN</td>\n",
       "      <td>NaN</td>\n",
       "      <td>NaN</td>\n",
       "      <td>NaN</td>\n",
       "    </tr>\n",
       "    <tr>\n",
       "      <th>1</th>\n",
       "      <td>19E02463X</td>\n",
       "      <td>4502570</td>\n",
       "      <td>2020-12-01</td>\n",
       "      <td>188400</td>\n",
       "      <td>DC00056758</td>\n",
       "      <td>EXP5013</td>\n",
       "      <td>EXP5050</td>\n",
       "      <td>PT00009994</td>\n",
       "      <td>NaN</td>\n",
       "      <td>NaN</td>\n",
       "      <td>NaN</td>\n",
       "      <td>NaN</td>\n",
       "      <td>NaN</td>\n",
       "      <td>NaN</td>\n",
       "      <td>NaN</td>\n",
       "      <td>NaN</td>\n",
       "      <td>1.0</td>\n",
       "    </tr>\n",
       "    <tr>\n",
       "      <th>2</th>\n",
       "      <td>19E02563X</td>\n",
       "      <td>4502570</td>\n",
       "      <td>2020-12-01</td>\n",
       "      <td>188401</td>\n",
       "      <td>DC00056758</td>\n",
       "      <td>EXP5013</td>\n",
       "      <td>EXP5050</td>\n",
       "      <td>PT00009994</td>\n",
       "      <td>4001204</td>\n",
       "      <td>5170588</td>\n",
       "      <td>5542735</td>\n",
       "      <td>NaN</td>\n",
       "      <td>NaN</td>\n",
       "      <td>NaN</td>\n",
       "      <td>NaN</td>\n",
       "      <td>NaN</td>\n",
       "      <td>1.0</td>\n",
       "    </tr>\n",
       "    <tr>\n",
       "      <th>3</th>\n",
       "      <td>19G00463X</td>\n",
       "      <td>4502570</td>\n",
       "      <td>2020-12-01</td>\n",
       "      <td>189166</td>\n",
       "      <td>DC00056758</td>\n",
       "      <td>EXP5013</td>\n",
       "      <td>EXP5050</td>\n",
       "      <td>PT00009994</td>\n",
       "      <td>NaN</td>\n",
       "      <td>NaN</td>\n",
       "      <td>NaN</td>\n",
       "      <td>NaN</td>\n",
       "      <td>NaN</td>\n",
       "      <td>NaN</td>\n",
       "      <td>NaN</td>\n",
       "      <td>NaN</td>\n",
       "      <td>NaN</td>\n",
       "    </tr>\n",
       "    <tr>\n",
       "      <th>4</th>\n",
       "      <td>19G10763X</td>\n",
       "      <td>8881112083</td>\n",
       "      <td>2020-12-01</td>\n",
       "      <td>189332</td>\n",
       "      <td>FS10017988</td>\n",
       "      <td>EXP5013</td>\n",
       "      <td>PT00033969</td>\n",
       "      <td>PT00009994</td>\n",
       "      <td>NaN</td>\n",
       "      <td>NaN</td>\n",
       "      <td>EXP6001</td>\n",
       "      <td>NaN</td>\n",
       "      <td>NaN</td>\n",
       "      <td>NaN</td>\n",
       "      <td>NaN</td>\n",
       "      <td>NaN</td>\n",
       "      <td>1.0</td>\n",
       "    </tr>\n",
       "  </tbody>\n",
       "</table>\n",
       "</div>"
      ],
      "text/plain": [
       "  Lot Number     Product       Date Shop Order Formula Sheet CONTAINER  \\\n",
       "0  19D27563X     4502570 2020-12-01     188358    DC00056758   EXP5013   \n",
       "1  19E02463X     4502570 2020-12-01     188400    DC00056758   EXP5013   \n",
       "2  19E02563X     4502570 2020-12-01     188401    DC00056758   EXP5013   \n",
       "3  19G00463X     4502570 2020-12-01     189166    DC00056758   EXP5013   \n",
       "4  19G10763X  8881112083 2020-12-01     189332    FS10017988   EXP5013   \n",
       "\n",
       "  PRINTER ACCESSORIES SILICON FLUID RUBBER TIP    RESIN PACKAGING SYRINGE  \\\n",
       "0             EXP5050    PT00009994        NaN      NaN       NaN     NaN   \n",
       "1             EXP5050    PT00009994        NaN      NaN       NaN     NaN   \n",
       "2             EXP5050    PT00009994    4001204  5170588   5542735     NaN   \n",
       "3             EXP5050    PT00009994        NaN      NaN       NaN     NaN   \n",
       "4          PT00033969    PT00009994        NaN      NaN   EXP6001     NaN   \n",
       "\n",
       "  LABEL  PAD SYRINGE TRAY   NC  \n",
       "0   NaN  NaN     NaN  NaN  NaN  \n",
       "1   NaN  NaN     NaN  NaN  1.0  \n",
       "2   NaN  NaN     NaN  NaN  1.0  \n",
       "3   NaN  NaN     NaN  NaN  NaN  \n",
       "4   NaN  NaN     NaN  NaN  1.0  "
      ]
     },
     "execution_count": 30,
     "metadata": {},
     "output_type": "execute_result"
    }
   ],
   "source": [
    "df.head()"
   ]
  },
  {
   "cell_type": "code",
   "execution_count": 31,
   "id": "837dc185",
   "metadata": {},
   "outputs": [
    {
     "data": {
      "text/plain": [
       "(4337, 9)"
      ]
     },
     "execution_count": 31,
     "metadata": {},
     "output_type": "execute_result"
    }
   ],
   "source": [
    "remove_cols = ['Unnamed: 0','MQISS','BOM qty.1','MOPNO','Finished qty','SOSTS']\n",
    "rename_cols = {'MRdate':'MRDTE','Requested qty':'SQREQ'}\n",
    "\n",
    "curr_df = curr_df.drop(columns =remove_cols)\\\n",
    "    .rename(columns =rename_cols)\n",
    "curr_df.shape"
   ]
  },
  {
   "cell_type": "code",
   "execution_count": 32,
   "id": "8f63d4e9",
   "metadata": {},
   "outputs": [
    {
     "data": {
      "text/plain": [
       "(3326, 9)"
      ]
     },
     "execution_count": 32,
     "metadata": {},
     "output_type": "execute_result"
    }
   ],
   "source": [
    "curr_df['Lot Format Match'] = list(map(lot_checker,curr_df['Lot Number']))\n",
    "curr_df = curr_df[curr_df['Lot Format Match'] == 1].drop(columns = 'Lot Format Match')\n",
    "curr_df.shape"
   ]
  },
  {
   "cell_type": "code",
   "execution_count": 33,
   "id": "4ac6ddd6",
   "metadata": {},
   "outputs": [
    {
     "name": "stdout",
     "output_type": "stream",
     "text": [
      "Wall time: 4.48 s\n"
     ]
    }
   ],
   "source": [
    "%%time\n",
    "list_of_frames = [encode(frame) for lot, frame in curr_df.groupby(by = 'Lot Number')]\n",
    "curr_df = pd.concat(list_of_frames)\\\n",
    "            .reset_index(drop = True)"
   ]
  },
  {
   "cell_type": "code",
   "execution_count": 34,
   "id": "fa7cdd57",
   "metadata": {},
   "outputs": [
    {
     "data": {
      "text/html": [
       "<div>\n",
       "<style scoped>\n",
       "    .dataframe tbody tr th:only-of-type {\n",
       "        vertical-align: middle;\n",
       "    }\n",
       "\n",
       "    .dataframe tbody tr th {\n",
       "        vertical-align: top;\n",
       "    }\n",
       "\n",
       "    .dataframe thead th {\n",
       "        text-align: right;\n",
       "    }\n",
       "</style>\n",
       "<table border=\"1\" class=\"dataframe\">\n",
       "  <thead>\n",
       "    <tr style=\"text-align: right;\">\n",
       "      <th></th>\n",
       "      <th>Lot Number</th>\n",
       "      <th>Product</th>\n",
       "      <th>Date</th>\n",
       "      <th>Shop Order</th>\n",
       "      <th>CONTAINER</th>\n",
       "      <th>RESIN</th>\n",
       "      <th>Formula Sheet</th>\n",
       "      <th>PAD</th>\n",
       "      <th>PACKAGING</th>\n",
       "      <th>LABEL</th>\n",
       "      <th>...</th>\n",
       "      <th>NaN</th>\n",
       "      <th>NaN</th>\n",
       "      <th>NaN</th>\n",
       "      <th>NaN</th>\n",
       "      <th>NaN</th>\n",
       "      <th>NaN</th>\n",
       "      <th>NaN</th>\n",
       "      <th>NaN</th>\n",
       "      <th>NaN</th>\n",
       "      <th>NaN</th>\n",
       "    </tr>\n",
       "  </thead>\n",
       "  <tbody>\n",
       "    <tr>\n",
       "      <th>0</th>\n",
       "      <td>21C45963</td>\n",
       "      <td>8985</td>\n",
       "      <td>2021-09-20</td>\n",
       "      <td>196901</td>\n",
       "      <td>PT00012138</td>\n",
       "      <td>PT00103021</td>\n",
       "      <td>FS10003221</td>\n",
       "      <td>R5097</td>\n",
       "      <td>R1644A</td>\n",
       "      <td>PT00006646</td>\n",
       "      <td>...</td>\n",
       "      <td>NaN</td>\n",
       "      <td>NaN</td>\n",
       "      <td>NaN</td>\n",
       "      <td>NaN</td>\n",
       "      <td>NaN</td>\n",
       "      <td>NaN</td>\n",
       "      <td>NaN</td>\n",
       "      <td>NaN</td>\n",
       "      <td>NaN</td>\n",
       "      <td>NaN</td>\n",
       "    </tr>\n",
       "    <tr>\n",
       "      <th>1</th>\n",
       "      <td>21C48863X</td>\n",
       "      <td>8881907003</td>\n",
       "      <td>2021-09-15</td>\n",
       "      <td>196956</td>\n",
       "      <td>EXP5013</td>\n",
       "      <td>NaN</td>\n",
       "      <td>FS10017465</td>\n",
       "      <td>NaN</td>\n",
       "      <td>5000231</td>\n",
       "      <td>PT00006674</td>\n",
       "      <td>...</td>\n",
       "      <td>NaN</td>\n",
       "      <td>NaN</td>\n",
       "      <td>NaN</td>\n",
       "      <td>NaN</td>\n",
       "      <td>NaN</td>\n",
       "      <td>NaN</td>\n",
       "      <td>NaN</td>\n",
       "      <td>NaN</td>\n",
       "      <td>NaN</td>\n",
       "      <td>NaN</td>\n",
       "    </tr>\n",
       "    <tr>\n",
       "      <th>2</th>\n",
       "      <td>21C48963X</td>\n",
       "      <td>8881907003</td>\n",
       "      <td>2021-09-15</td>\n",
       "      <td>196957</td>\n",
       "      <td>EXP5013</td>\n",
       "      <td>NaN</td>\n",
       "      <td>FS10017465</td>\n",
       "      <td>NaN</td>\n",
       "      <td>5000231</td>\n",
       "      <td>PT00006674</td>\n",
       "      <td>...</td>\n",
       "      <td>NaN</td>\n",
       "      <td>NaN</td>\n",
       "      <td>NaN</td>\n",
       "      <td>NaN</td>\n",
       "      <td>NaN</td>\n",
       "      <td>NaN</td>\n",
       "      <td>NaN</td>\n",
       "      <td>NaN</td>\n",
       "      <td>NaN</td>\n",
       "      <td>NaN</td>\n",
       "    </tr>\n",
       "    <tr>\n",
       "      <th>3</th>\n",
       "      <td>21C49063X</td>\n",
       "      <td>8881907003</td>\n",
       "      <td>2021-09-15</td>\n",
       "      <td>196958</td>\n",
       "      <td>EXP5013</td>\n",
       "      <td>NaN</td>\n",
       "      <td>FS10017465</td>\n",
       "      <td>NaN</td>\n",
       "      <td>5000231</td>\n",
       "      <td>PT00006674</td>\n",
       "      <td>...</td>\n",
       "      <td>NaN</td>\n",
       "      <td>NaN</td>\n",
       "      <td>NaN</td>\n",
       "      <td>NaN</td>\n",
       "      <td>NaN</td>\n",
       "      <td>NaN</td>\n",
       "      <td>NaN</td>\n",
       "      <td>NaN</td>\n",
       "      <td>NaN</td>\n",
       "      <td>NaN</td>\n",
       "    </tr>\n",
       "    <tr>\n",
       "      <th>4</th>\n",
       "      <td>21D27763X</td>\n",
       "      <td>8881907003</td>\n",
       "      <td>2021-09-15</td>\n",
       "      <td>197328</td>\n",
       "      <td>EXP5013</td>\n",
       "      <td>NaN</td>\n",
       "      <td>FS10017465</td>\n",
       "      <td>NaN</td>\n",
       "      <td>5000231</td>\n",
       "      <td>PT00006674</td>\n",
       "      <td>...</td>\n",
       "      <td>NaN</td>\n",
       "      <td>NaN</td>\n",
       "      <td>NaN</td>\n",
       "      <td>NaN</td>\n",
       "      <td>NaN</td>\n",
       "      <td>NaN</td>\n",
       "      <td>NaN</td>\n",
       "      <td>NaN</td>\n",
       "      <td>NaN</td>\n",
       "      <td>NaN</td>\n",
       "    </tr>\n",
       "  </tbody>\n",
       "</table>\n",
       "<p>5 rows × 28 columns</p>\n",
       "</div>"
      ],
      "text/plain": [
       "  Lot Number     Product        Date Shop Order   CONTAINER       RESIN  \\\n",
       "0   21C45963        8985  2021-09-20     196901  PT00012138  PT00103021   \n",
       "1  21C48863X  8881907003  2021-09-15     196956     EXP5013         NaN   \n",
       "2  21C48963X  8881907003  2021-09-15     196957     EXP5013         NaN   \n",
       "3  21C49063X  8881907003  2021-09-15     196958     EXP5013         NaN   \n",
       "4  21D27763X  8881907003  2021-09-15     197328     EXP5013         NaN   \n",
       "\n",
       "  Formula Sheet    PAD PACKAGING       LABEL  ...  NaN  NaN  NaN  NaN  NaN  \\\n",
       "0    FS10003221  R5097    R1644A  PT00006646  ...  NaN  NaN  NaN  NaN  NaN   \n",
       "1    FS10017465    NaN   5000231  PT00006674  ...  NaN  NaN  NaN  NaN  NaN   \n",
       "2    FS10017465    NaN   5000231  PT00006674  ...  NaN  NaN  NaN  NaN  NaN   \n",
       "3    FS10017465    NaN   5000231  PT00006674  ...  NaN  NaN  NaN  NaN  NaN   \n",
       "4    FS10017465    NaN   5000231  PT00006674  ...  NaN  NaN  NaN  NaN  NaN   \n",
       "\n",
       "   NaN  NaN  NaN  NaN  NaN  \n",
       "0  NaN  NaN  NaN  NaN  NaN  \n",
       "1  NaN  NaN  NaN  NaN  NaN  \n",
       "2  NaN  NaN  NaN  NaN  NaN  \n",
       "3  NaN  NaN  NaN  NaN  NaN  \n",
       "4  NaN  NaN  NaN  NaN  NaN  \n",
       "\n",
       "[5 rows x 28 columns]"
      ]
     },
     "execution_count": 34,
     "metadata": {},
     "output_type": "execute_result"
    }
   ],
   "source": [
    "curr_df.head()"
   ]
  },
  {
   "cell_type": "code",
   "execution_count": 35,
   "id": "9bd7b60e",
   "metadata": {},
   "outputs": [],
   "source": [
    "clean_curr_data = curr_df.iloc[:,4:-1]"
   ]
  },
  {
   "cell_type": "code",
   "execution_count": 36,
   "id": "89c3aa5f",
   "metadata": {},
   "outputs": [],
   "source": [
    "features = ['Lot Number','Product','Date','Shop Order','Formula Sheet','CONTAINER','PRINTER ACCESSORIES','SILICON FLUID',\n",
    "        'RUBBER TIP','RESIN','PACKAGING','SYRINGE','LABEL','PAD','SYRINGE','TRAY']\n",
    "for f in features:\n",
    "    if f not in curr_df.columns:\n",
    "        curr_df.loc[:,f] = str(np.nan)\n"
   ]
  },
  {
   "cell_type": "code",
   "execution_count": 37,
   "id": "ecd6d539",
   "metadata": {
    "scrolled": true
   },
   "outputs": [
    {
     "data": {
      "text/html": [
       "<div>\n",
       "<style scoped>\n",
       "    .dataframe tbody tr th:only-of-type {\n",
       "        vertical-align: middle;\n",
       "    }\n",
       "\n",
       "    .dataframe tbody tr th {\n",
       "        vertical-align: top;\n",
       "    }\n",
       "\n",
       "    .dataframe thead th {\n",
       "        text-align: right;\n",
       "    }\n",
       "</style>\n",
       "<table border=\"1\" class=\"dataframe\">\n",
       "  <thead>\n",
       "    <tr style=\"text-align: right;\">\n",
       "      <th></th>\n",
       "      <th>Lot Number</th>\n",
       "      <th>Product</th>\n",
       "      <th>Date</th>\n",
       "      <th>Shop Order</th>\n",
       "      <th>Formula Sheet</th>\n",
       "      <th>CONTAINER</th>\n",
       "      <th>PRINTER ACCESSORIES</th>\n",
       "      <th>SILICON FLUID</th>\n",
       "      <th>RUBBER TIP</th>\n",
       "      <th>RESIN</th>\n",
       "      <th>PACKAGING</th>\n",
       "      <th>SYRINGE</th>\n",
       "      <th>LABEL</th>\n",
       "      <th>PAD</th>\n",
       "      <th>SYRINGE</th>\n",
       "      <th>TRAY</th>\n",
       "    </tr>\n",
       "  </thead>\n",
       "  <tbody>\n",
       "    <tr>\n",
       "      <th>0</th>\n",
       "      <td>21C45963</td>\n",
       "      <td>8985</td>\n",
       "      <td>2021-09-20</td>\n",
       "      <td>196901</td>\n",
       "      <td>FS10003221</td>\n",
       "      <td>PT00012138</td>\n",
       "      <td>NaN</td>\n",
       "      <td>NaN</td>\n",
       "      <td>nan</td>\n",
       "      <td>PT00103021</td>\n",
       "      <td>R1644A</td>\n",
       "      <td>NaN</td>\n",
       "      <td>PT00006646</td>\n",
       "      <td>R5097</td>\n",
       "      <td>NaN</td>\n",
       "      <td>NaN</td>\n",
       "    </tr>\n",
       "    <tr>\n",
       "      <th>1</th>\n",
       "      <td>21C48863X</td>\n",
       "      <td>8881907003</td>\n",
       "      <td>2021-09-15</td>\n",
       "      <td>196956</td>\n",
       "      <td>FS10017465</td>\n",
       "      <td>EXP5013</td>\n",
       "      <td>4230505</td>\n",
       "      <td>PT00009994</td>\n",
       "      <td>nan</td>\n",
       "      <td>NaN</td>\n",
       "      <td>5000231</td>\n",
       "      <td>4101801</td>\n",
       "      <td>PT00006674</td>\n",
       "      <td>NaN</td>\n",
       "      <td>4101801</td>\n",
       "      <td>NaN</td>\n",
       "    </tr>\n",
       "    <tr>\n",
       "      <th>2</th>\n",
       "      <td>21C48963X</td>\n",
       "      <td>8881907003</td>\n",
       "      <td>2021-09-15</td>\n",
       "      <td>196957</td>\n",
       "      <td>FS10017465</td>\n",
       "      <td>EXP5013</td>\n",
       "      <td>4230505</td>\n",
       "      <td>PT00009994</td>\n",
       "      <td>nan</td>\n",
       "      <td>NaN</td>\n",
       "      <td>5000231</td>\n",
       "      <td>4101801</td>\n",
       "      <td>PT00006674</td>\n",
       "      <td>NaN</td>\n",
       "      <td>4101801</td>\n",
       "      <td>NaN</td>\n",
       "    </tr>\n",
       "    <tr>\n",
       "      <th>3</th>\n",
       "      <td>21C49063X</td>\n",
       "      <td>8881907003</td>\n",
       "      <td>2021-09-15</td>\n",
       "      <td>196958</td>\n",
       "      <td>FS10017465</td>\n",
       "      <td>EXP5013</td>\n",
       "      <td>4230505</td>\n",
       "      <td>PT00009994</td>\n",
       "      <td>nan</td>\n",
       "      <td>NaN</td>\n",
       "      <td>5000231</td>\n",
       "      <td>4101801</td>\n",
       "      <td>PT00006674</td>\n",
       "      <td>NaN</td>\n",
       "      <td>4101801</td>\n",
       "      <td>NaN</td>\n",
       "    </tr>\n",
       "    <tr>\n",
       "      <th>4</th>\n",
       "      <td>21D27763X</td>\n",
       "      <td>8881907003</td>\n",
       "      <td>2021-09-15</td>\n",
       "      <td>197328</td>\n",
       "      <td>FS10017465</td>\n",
       "      <td>EXP5013</td>\n",
       "      <td>4230505</td>\n",
       "      <td>PT00009994</td>\n",
       "      <td>nan</td>\n",
       "      <td>NaN</td>\n",
       "      <td>5000231</td>\n",
       "      <td>4101801</td>\n",
       "      <td>PT00006674</td>\n",
       "      <td>NaN</td>\n",
       "      <td>4101801</td>\n",
       "      <td>NaN</td>\n",
       "    </tr>\n",
       "  </tbody>\n",
       "</table>\n",
       "</div>"
      ],
      "text/plain": [
       "  Lot Number     Product        Date Shop Order Formula Sheet   CONTAINER  \\\n",
       "0   21C45963        8985  2021-09-20     196901    FS10003221  PT00012138   \n",
       "1  21C48863X  8881907003  2021-09-15     196956    FS10017465     EXP5013   \n",
       "2  21C48963X  8881907003  2021-09-15     196957    FS10017465     EXP5013   \n",
       "3  21C49063X  8881907003  2021-09-15     196958    FS10017465     EXP5013   \n",
       "4  21D27763X  8881907003  2021-09-15     197328    FS10017465     EXP5013   \n",
       "\n",
       "  PRINTER ACCESSORIES SILICON FLUID RUBBER TIP       RESIN PACKAGING  SYRINGE  \\\n",
       "0                 NaN           NaN        nan  PT00103021    R1644A      NaN   \n",
       "1             4230505    PT00009994        nan         NaN   5000231  4101801   \n",
       "2             4230505    PT00009994        nan         NaN   5000231  4101801   \n",
       "3             4230505    PT00009994        nan         NaN   5000231  4101801   \n",
       "4             4230505    PT00009994        nan         NaN   5000231  4101801   \n",
       "\n",
       "        LABEL    PAD  SYRINGE TRAY  \n",
       "0  PT00006646  R5097      NaN  NaN  \n",
       "1  PT00006674    NaN  4101801  NaN  \n",
       "2  PT00006674    NaN  4101801  NaN  \n",
       "3  PT00006674    NaN  4101801  NaN  \n",
       "4  PT00006674    NaN  4101801  NaN  "
      ]
     },
     "execution_count": 37,
     "metadata": {},
     "output_type": "execute_result"
    }
   ],
   "source": [
    "curr_df = curr_df[['Lot Number','Product','Date','Shop Order','Formula Sheet','CONTAINER','PRINTER ACCESSORIES','SILICON FLUID',\n",
    "        'RUBBER TIP','RESIN','PACKAGING','SYRINGE','LABEL','PAD','SYRINGE','TRAY']]\n",
    "curr_df.head()"
   ]
  },
  {
   "cell_type": "code",
   "execution_count": 38,
   "id": "4825c687",
   "metadata": {},
   "outputs": [],
   "source": [
    "clean_curr_df = curr_df.iloc[:,4:]"
   ]
  },
  {
   "cell_type": "code",
   "execution_count": 39,
   "id": "9ae587f8",
   "metadata": {},
   "outputs": [
    {
     "data": {
      "text/plain": [
       "Formula Sheet          object\n",
       "CONTAINER              object\n",
       "PRINTER ACCESSORIES    object\n",
       "SILICON FLUID          object\n",
       "RUBBER TIP             object\n",
       "RESIN                  object\n",
       "PACKAGING              object\n",
       "SYRINGE                object\n",
       "LABEL                  object\n",
       "PAD                    object\n",
       "SYRINGE                object\n",
       "TRAY                   object\n",
       "dtype: object"
      ]
     },
     "execution_count": 39,
     "metadata": {},
     "output_type": "execute_result"
    }
   ],
   "source": [
    "clean_curr_df.dtypes"
   ]
  },
  {
   "cell_type": "code",
   "execution_count": 40,
   "id": "7e013359",
   "metadata": {},
   "outputs": [],
   "source": [
    "curr_df_encoded = one_hot_encoder.transform(clean_curr_df)\n",
    "cols = []\n",
    "i=0\n",
    "while i < 12:\n",
    "    cols = cols+list(one_hot_encoder.categories_[i])\n",
    "    i+=1\n",
    "len(cols)\n",
    "curr_df_encoded = pd.DataFrame(data=curr_df_encoded, columns=cols)"
   ]
  },
  {
   "cell_type": "code",
   "execution_count": 41,
   "id": "edc5b781",
   "metadata": {},
   "outputs": [],
   "source": [
    "curr_df['predictions'] = regr.predict(curr_df_encoded)"
   ]
  },
  {
   "cell_type": "code",
   "execution_count": 42,
   "id": "a27352eb",
   "metadata": {},
   "outputs": [
    {
     "data": {
      "text/html": [
       "<div>\n",
       "<style scoped>\n",
       "    .dataframe tbody tr th:only-of-type {\n",
       "        vertical-align: middle;\n",
       "    }\n",
       "\n",
       "    .dataframe tbody tr th {\n",
       "        vertical-align: top;\n",
       "    }\n",
       "\n",
       "    .dataframe thead th {\n",
       "        text-align: right;\n",
       "    }\n",
       "</style>\n",
       "<table border=\"1\" class=\"dataframe\">\n",
       "  <thead>\n",
       "    <tr style=\"text-align: right;\">\n",
       "      <th></th>\n",
       "      <th>Lot Number</th>\n",
       "      <th>Product</th>\n",
       "      <th>Date</th>\n",
       "      <th>Shop Order</th>\n",
       "      <th>Formula Sheet</th>\n",
       "      <th>CONTAINER</th>\n",
       "      <th>PRINTER ACCESSORIES</th>\n",
       "      <th>SILICON FLUID</th>\n",
       "      <th>RUBBER TIP</th>\n",
       "      <th>RESIN</th>\n",
       "      <th>PACKAGING</th>\n",
       "      <th>SYRINGE</th>\n",
       "      <th>LABEL</th>\n",
       "      <th>PAD</th>\n",
       "      <th>SYRINGE</th>\n",
       "      <th>TRAY</th>\n",
       "      <th>predictions</th>\n",
       "    </tr>\n",
       "  </thead>\n",
       "  <tbody>\n",
       "    <tr>\n",
       "      <th>1</th>\n",
       "      <td>21C48863X</td>\n",
       "      <td>8881907003</td>\n",
       "      <td>2021-09-15</td>\n",
       "      <td>196956</td>\n",
       "      <td>FS10017465</td>\n",
       "      <td>EXP5013</td>\n",
       "      <td>4230505</td>\n",
       "      <td>PT00009994</td>\n",
       "      <td>nan</td>\n",
       "      <td>NaN</td>\n",
       "      <td>5000231</td>\n",
       "      <td>4101801</td>\n",
       "      <td>PT00006674</td>\n",
       "      <td>NaN</td>\n",
       "      <td>4101801</td>\n",
       "      <td>NaN</td>\n",
       "      <td>0.714286</td>\n",
       "    </tr>\n",
       "    <tr>\n",
       "      <th>2</th>\n",
       "      <td>21C48963X</td>\n",
       "      <td>8881907003</td>\n",
       "      <td>2021-09-15</td>\n",
       "      <td>196957</td>\n",
       "      <td>FS10017465</td>\n",
       "      <td>EXP5013</td>\n",
       "      <td>4230505</td>\n",
       "      <td>PT00009994</td>\n",
       "      <td>nan</td>\n",
       "      <td>NaN</td>\n",
       "      <td>5000231</td>\n",
       "      <td>4101801</td>\n",
       "      <td>PT00006674</td>\n",
       "      <td>NaN</td>\n",
       "      <td>4101801</td>\n",
       "      <td>NaN</td>\n",
       "      <td>0.714286</td>\n",
       "    </tr>\n",
       "    <tr>\n",
       "      <th>3</th>\n",
       "      <td>21C49063X</td>\n",
       "      <td>8881907003</td>\n",
       "      <td>2021-09-15</td>\n",
       "      <td>196958</td>\n",
       "      <td>FS10017465</td>\n",
       "      <td>EXP5013</td>\n",
       "      <td>4230505</td>\n",
       "      <td>PT00009994</td>\n",
       "      <td>nan</td>\n",
       "      <td>NaN</td>\n",
       "      <td>5000231</td>\n",
       "      <td>4101801</td>\n",
       "      <td>PT00006674</td>\n",
       "      <td>NaN</td>\n",
       "      <td>4101801</td>\n",
       "      <td>NaN</td>\n",
       "      <td>0.714286</td>\n",
       "    </tr>\n",
       "    <tr>\n",
       "      <th>4</th>\n",
       "      <td>21D27763X</td>\n",
       "      <td>8881907003</td>\n",
       "      <td>2021-09-15</td>\n",
       "      <td>197328</td>\n",
       "      <td>FS10017465</td>\n",
       "      <td>EXP5013</td>\n",
       "      <td>4230505</td>\n",
       "      <td>PT00009994</td>\n",
       "      <td>nan</td>\n",
       "      <td>NaN</td>\n",
       "      <td>5000231</td>\n",
       "      <td>4101801</td>\n",
       "      <td>PT00006674</td>\n",
       "      <td>NaN</td>\n",
       "      <td>4101801</td>\n",
       "      <td>NaN</td>\n",
       "      <td>0.714286</td>\n",
       "    </tr>\n",
       "    <tr>\n",
       "      <th>201</th>\n",
       "      <td>21J11163</td>\n",
       "      <td>8881112015</td>\n",
       "      <td>2021-10-11</td>\n",
       "      <td>198796</td>\n",
       "      <td>DC00005796</td>\n",
       "      <td>R7642B</td>\n",
       "      <td>EXP5050</td>\n",
       "      <td>PT00009994</td>\n",
       "      <td>nan</td>\n",
       "      <td>5170588</td>\n",
       "      <td>5542735</td>\n",
       "      <td>4101801</td>\n",
       "      <td>5241008</td>\n",
       "      <td>NaN</td>\n",
       "      <td>4101801</td>\n",
       "      <td>NaN</td>\n",
       "      <td>0.463167</td>\n",
       "    </tr>\n",
       "    <tr>\n",
       "      <th>202</th>\n",
       "      <td>21J11263</td>\n",
       "      <td>8881112015</td>\n",
       "      <td>2021-10-12</td>\n",
       "      <td>198797</td>\n",
       "      <td>DC00005796</td>\n",
       "      <td>R7642B</td>\n",
       "      <td>EXP5050</td>\n",
       "      <td>PT00009994</td>\n",
       "      <td>nan</td>\n",
       "      <td>5170588</td>\n",
       "      <td>5542735</td>\n",
       "      <td>4101801</td>\n",
       "      <td>5241008</td>\n",
       "      <td>NaN</td>\n",
       "      <td>4101801</td>\n",
       "      <td>NaN</td>\n",
       "      <td>0.463167</td>\n",
       "    </tr>\n",
       "  </tbody>\n",
       "</table>\n",
       "</div>"
      ],
      "text/plain": [
       "    Lot Number     Product        Date Shop Order Formula Sheet CONTAINER  \\\n",
       "1    21C48863X  8881907003  2021-09-15     196956    FS10017465   EXP5013   \n",
       "2    21C48963X  8881907003  2021-09-15     196957    FS10017465   EXP5013   \n",
       "3    21C49063X  8881907003  2021-09-15     196958    FS10017465   EXP5013   \n",
       "4    21D27763X  8881907003  2021-09-15     197328    FS10017465   EXP5013   \n",
       "201   21J11163  8881112015  2021-10-11     198796    DC00005796    R7642B   \n",
       "202   21J11263  8881112015  2021-10-12     198797    DC00005796    R7642B   \n",
       "\n",
       "    PRINTER ACCESSORIES SILICON FLUID RUBBER TIP    RESIN PACKAGING  SYRINGE  \\\n",
       "1               4230505    PT00009994        nan      NaN   5000231  4101801   \n",
       "2               4230505    PT00009994        nan      NaN   5000231  4101801   \n",
       "3               4230505    PT00009994        nan      NaN   5000231  4101801   \n",
       "4               4230505    PT00009994        nan      NaN   5000231  4101801   \n",
       "201             EXP5050    PT00009994        nan  5170588   5542735  4101801   \n",
       "202             EXP5050    PT00009994        nan  5170588   5542735  4101801   \n",
       "\n",
       "          LABEL  PAD  SYRINGE TRAY  predictions  \n",
       "1    PT00006674  NaN  4101801  NaN     0.714286  \n",
       "2    PT00006674  NaN  4101801  NaN     0.714286  \n",
       "3    PT00006674  NaN  4101801  NaN     0.714286  \n",
       "4    PT00006674  NaN  4101801  NaN     0.714286  \n",
       "201     5241008  NaN  4101801  NaN     0.463167  \n",
       "202     5241008  NaN  4101801  NaN     0.463167  "
      ]
     },
     "execution_count": 42,
     "metadata": {},
     "output_type": "execute_result"
    }
   ],
   "source": [
    "curr_df[curr_df['predictions']>0.42857142857142855]"
   ]
  },
  {
   "cell_type": "code",
   "execution_count": 43,
   "id": "594d2d3c",
   "metadata": {},
   "outputs": [],
   "source": [
    "## adding made up PM information\n",
    "import random\n",
    "for i, pred in enumerate(curr_df['predictions']):\n",
    "    if pred > 0.5:\n",
    "        curr_df.loc[i,'Machine Next PM (days away)'] = 7\n",
    "    else:\n",
    "        curr_df.loc[i,'Machine Next PM (days away)'] = random.randint(0,30)\n",
    "\n",
    "curr_pred_df = curr_df[['Lot Number','Product','Date','Machine Next PM (days away)','predictions']].copy()\n",
    "rename_cols = {'Product':'Product Code','predictions':'Model Predictions'}\n",
    "curr_pred_df = curr_pred_df.rename(columns = rename_cols)\n",
    "curr_pred_df.to_clipboard()"
   ]
  },
  {
   "cell_type": "code",
   "execution_count": 44,
   "id": "0631745c",
   "metadata": {},
   "outputs": [],
   "source": [
    "curr_pred_df.to_clipboard()"
   ]
  },
  {
   "cell_type": "code",
   "execution_count": 45,
   "id": "fcb82afe",
   "metadata": {},
   "outputs": [],
   "source": [
    "pd.DataFrame({'thresholds':thresholds}).to_clipboard()"
   ]
  },
  {
   "cell_type": "code",
   "execution_count": 46,
   "id": "49c4d52f",
   "metadata": {},
   "outputs": [],
   "source": [
    "pd.DataFrame({'recall':recall}).to_clipboard()"
   ]
  },
  {
   "cell_type": "code",
   "execution_count": 47,
   "id": "a221495a",
   "metadata": {},
   "outputs": [],
   "source": [
    "pd.DataFrame({'precision':precision}).to_clipboard()\n"
   ]
  },
  {
   "cell_type": "code",
   "execution_count": null,
   "id": "7602b81d",
   "metadata": {},
   "outputs": [],
   "source": []
  },
  {
   "cell_type": "code",
   "execution_count": 48,
   "id": "9963f6a6",
   "metadata": {},
   "outputs": [
    {
     "data": {
      "text/plain": [
       "25"
      ]
     },
     "execution_count": 48,
     "metadata": {},
     "output_type": "execute_result"
    }
   ],
   "source": [
    "\n",
    "random.randint(0,30)"
   ]
  },
  {
   "cell_type": "code",
   "execution_count": 49,
   "id": "6cdbb0fd",
   "metadata": {},
   "outputs": [
    {
     "data": {
      "text/plain": [
       "['BPF',\n",
       " 'LOG4',\n",
       " 'NV_MAGICCONST',\n",
       " 'RECIP_BPF',\n",
       " 'Random',\n",
       " 'SG_MAGICCONST',\n",
       " 'SystemRandom',\n",
       " 'TWOPI',\n",
       " '_Sequence',\n",
       " '_Set',\n",
       " '__all__',\n",
       " '__builtins__',\n",
       " '__cached__',\n",
       " '__doc__',\n",
       " '__file__',\n",
       " '__loader__',\n",
       " '__name__',\n",
       " '__package__',\n",
       " '__spec__',\n",
       " '_accumulate',\n",
       " '_acos',\n",
       " '_bisect',\n",
       " '_ceil',\n",
       " '_cos',\n",
       " '_e',\n",
       " '_exp',\n",
       " '_floor',\n",
       " '_inst',\n",
       " '_log',\n",
       " '_os',\n",
       " '_pi',\n",
       " '_random',\n",
       " '_repeat',\n",
       " '_sha512',\n",
       " '_sin',\n",
       " '_sqrt',\n",
       " '_test',\n",
       " '_test_generator',\n",
       " '_urandom',\n",
       " '_warn',\n",
       " 'betavariate',\n",
       " 'choice',\n",
       " 'choices',\n",
       " 'expovariate',\n",
       " 'gammavariate',\n",
       " 'gauss',\n",
       " 'getrandbits',\n",
       " 'getstate',\n",
       " 'lognormvariate',\n",
       " 'normalvariate',\n",
       " 'paretovariate',\n",
       " 'randbytes',\n",
       " 'randint',\n",
       " 'random',\n",
       " 'randrange',\n",
       " 'sample',\n",
       " 'seed',\n",
       " 'setstate',\n",
       " 'shuffle',\n",
       " 'triangular',\n",
       " 'uniform',\n",
       " 'vonmisesvariate',\n",
       " 'weibullvariate']"
      ]
     },
     "execution_count": 49,
     "metadata": {},
     "output_type": "execute_result"
    }
   ],
   "source": [
    "dir(random)"
   ]
  },
  {
   "cell_type": "markdown",
   "id": "893b447c",
   "metadata": {},
   "source": [
    "### Widget attempt"
   ]
  },
  {
   "cell_type": "code",
   "execution_count": 50,
   "id": "4c3a8556",
   "metadata": {},
   "outputs": [],
   "source": [
    "from __future__ import print_function\n",
    "from ipywidgets import interact, interactive, fixed, interact_manual\n",
    "import ipywidgets as widgets"
   ]
  },
  {
   "cell_type": "code",
   "execution_count": 51,
   "id": "090fbbcd",
   "metadata": {},
   "outputs": [
    {
     "ename": "TypeError",
     "evalue": "__init__() missing 1 required positional argument: '_interactive__interact_f'",
     "output_type": "error",
     "traceback": [
      "\u001b[1;31m---------------------------------------------------------------------------\u001b[0m",
      "\u001b[1;31mTypeError\u001b[0m                                 Traceback (most recent call last)",
      "\u001b[1;32mC:\\Users\\STEVEN~1.HAN\\AppData\\Local\\Temp/ipykernel_9412/1705555507.py\u001b[0m in \u001b[0;36m<module>\u001b[1;34m\u001b[0m\n\u001b[1;32m----> 1\u001b[1;33m \u001b[1;33m@\u001b[0m\u001b[0minteractive\u001b[0m\u001b[1;33m(\u001b[0m\u001b[0mx\u001b[0m\u001b[1;33m=\u001b[0m\u001b[0mwidgets\u001b[0m\u001b[1;33m.\u001b[0m\u001b[0mIntSlider\u001b[0m\u001b[1;33m(\u001b[0m\u001b[0mmin\u001b[0m\u001b[1;33m=\u001b[0m\u001b[1;36m0\u001b[0m\u001b[1;33m,\u001b[0m \u001b[0mmax\u001b[0m\u001b[1;33m=\u001b[0m\u001b[0mlen\u001b[0m\u001b[1;33m(\u001b[0m\u001b[0mthresholds\u001b[0m\u001b[1;33m)\u001b[0m\u001b[1;33m,\u001b[0m \u001b[0mstep\u001b[0m\u001b[1;33m=\u001b[0m\u001b[1;36m1\u001b[0m\u001b[1;33m,\u001b[0m \u001b[0mvalue\u001b[0m\u001b[1;33m=\u001b[0m\u001b[1;36m0\u001b[0m\u001b[1;33m)\u001b[0m\u001b[1;33m)\u001b[0m\u001b[1;33m\u001b[0m\u001b[1;33m\u001b[0m\u001b[0m\n\u001b[0m\u001b[0;32m      2\u001b[0m \u001b[1;32mdef\u001b[0m \u001b[0mresults\u001b[0m\u001b[1;33m(\u001b[0m\u001b[0mx\u001b[0m\u001b[1;33m)\u001b[0m\u001b[1;33m:\u001b[0m\u001b[1;33m\u001b[0m\u001b[1;33m\u001b[0m\u001b[0m\n\u001b[0;32m      3\u001b[0m     \u001b[1;32mglobal\u001b[0m \u001b[0my_test\u001b[0m\u001b[1;33m,\u001b[0m\u001b[0my_1\u001b[0m\u001b[1;33m\u001b[0m\u001b[1;33m\u001b[0m\u001b[0m\n\u001b[0;32m      4\u001b[0m     \u001b[0mprint\u001b[0m\u001b[1;33m(\u001b[0m\u001b[1;36m5\u001b[0m\u001b[1;33m*\u001b[0m\u001b[1;34m'-'\u001b[0m\u001b[1;33m+\u001b[0m\u001b[1;34m' AdaBoost low estimaters, deep depth Model '\u001b[0m\u001b[1;33m+\u001b[0m\u001b[1;36m5\u001b[0m\u001b[1;33m*\u001b[0m\u001b[1;34m'-'\u001b[0m\u001b[1;33m)\u001b[0m\u001b[1;33m\u001b[0m\u001b[1;33m\u001b[0m\u001b[0m\n\u001b[0;32m      5\u001b[0m     \u001b[0mprint\u001b[0m\u001b[1;33m(\u001b[0m\u001b[0mx\u001b[0m\u001b[1;33m)\u001b[0m\u001b[1;33m\u001b[0m\u001b[1;33m\u001b[0m\u001b[0m\n",
      "\u001b[1;31mTypeError\u001b[0m: __init__() missing 1 required positional argument: '_interactive__interact_f'"
     ]
    }
   ],
   "source": [
    "@interactive(x=widgets.IntSlider(min=0, max=len(thresholds), step=1, value=0))\n",
    "def results(x):\n",
    "    global y_test,y_1\n",
    "    print(5*'-'+' AdaBoost low estimaters, deep depth Model '+5*'-')\n",
    "    print(x)\n",
    "    test_threshold = np.round(thresholds[x],4)\n",
    "    print(f'percent of lots indicted = {round(100*len(y_1[y_1>=test_threshold])/len(y_1),3)}%')\n",
    "    print(f'recall (NC reduction) = {round(100*recall[np.where(np.round(thresholds,4) == test_threshold)][0],2)}%')\n",
    "    print(f'total number of predicted NCs = {len(y_1[y_1>=test_threshold])}')\n",
    "    print(f'True Positives = {sum(y_test[np.where(y_1>=test_threshold)])}')\n",
    "    print(f'precision = {round(100*precision[np.where(np.round(thresholds,4) == test_threshold)][0],2)}%')\n",
    "results(thresholds)"
   ]
  },
  {
   "cell_type": "code",
   "execution_count": null,
   "id": "88796c64",
   "metadata": {},
   "outputs": [],
   "source": [
    "regr_II,y_test,y_1 = ada_boost_models(df_encoded.to_numpy(),y.to_numpy(),n_estimators=5,max_depth=20)\n",
    "precision,recall,thresholds = plot_prec_recall(y_test,y_1)"
   ]
  },
  {
   "cell_type": "code",
   "execution_count": null,
   "id": "0c6b67a1",
   "metadata": {},
   "outputs": [],
   "source": [
    "@interact(x=(0.0,20.0,0.5))\n",
    "def h(x=5.5):\n",
    "    return x"
   ]
  },
  {
   "cell_type": "code",
   "execution_count": null,
   "id": "c8460585",
   "metadata": {},
   "outputs": [],
   "source": []
  }
 ],
 "metadata": {
  "kernelspec": {
   "display_name": "Python 3 (ipykernel)",
   "language": "python",
   "name": "python3"
  },
  "language_info": {
   "codemirror_mode": {
    "name": "ipython",
    "version": 3
   },
   "file_extension": ".py",
   "mimetype": "text/x-python",
   "name": "python",
   "nbconvert_exporter": "python",
   "pygments_lexer": "ipython3",
   "version": "3.9.5"
  }
 },
 "nbformat": 4,
 "nbformat_minor": 5
}
