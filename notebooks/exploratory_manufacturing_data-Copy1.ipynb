{
 "cells": [
  {
   "cell_type": "code",
   "execution_count": 1,
   "metadata": {},
   "outputs": [],
   "source": [
    "### only run once! sets up working directory to be /quality_issue_predictor\n",
    "import os\n",
    "os.chdir(os.getcwd()[:-34] + r'\\quality_issue_predictor') "
   ]
  },
  {
   "cell_type": "code",
   "execution_count": 2,
   "metadata": {},
   "outputs": [],
   "source": [
    "import pandas as pd\n",
    "import numpy as np\n",
    "import os\n",
    "import re\n",
    "#import tensorflow as tf\n",
    "import matplotlib.pyplot as plt\n",
    "\n",
    "#import qa_productivity_tool.complaints as cmplnts\n",
    "import qa_productivity_tool.nc_full as nc_full"
   ]
  },
  {
   "cell_type": "markdown",
   "metadata": {},
   "source": [
    "Table of Contents <a name = \"tableofcontents\"></a>\n",
    "1. [Data Cleaning/preparing](#datacleaning)\n",
    "    1. [Archived Shop Order Cleanup](#socleanup)\n",
    "    2. [Plant Star Cleanup](#plantstarcleanup)\n",
    "    3. [Combine SO and Plantstar Date](#combinesoplantstar)\n",
    "    4. [Quality Data injestion](#qualitydata)\n",
    "2. [Models](#models)\n",
    "    1. [K-means No NC data](#kmeansnonc)\n",
    "    2. [K-means combinded with NC Data](#kmeanswithnc)\n",
    "    3. [Decision Tree Models](#decisiontrees)\n",
    "        1. [Adaboost](#adaboostresults)\n",
    "        2. [Decision Tree Regressor](#dtrresults)\n",
    "    4. [Dimensional Reduction Attempts](#dimensionalreduction)\n",
    "        1. [PCA](#pca)"
   ]
  },
  {
   "cell_type": "markdown",
   "metadata": {},
   "source": [
    "## Data Cleaning/Preparing"
   ]
  },
  {
   "cell_type": "markdown",
   "metadata": {},
   "source": [
    "### Archived/Current Shop Order Clean up"
   ]
  },
  {
   "cell_type": "code",
   "execution_count": 4,
   "metadata": {},
   "outputs": [],
   "source": [
    "df_arch = pd.read_excel(open('./raw_data/archived SO.xlsx','rb'))\n",
    "df_curr = pd.read_csv(open('./raw_data/current_so.csv','rb'))"
   ]
  },
  {
   "cell_type": "code",
   "execution_count": 8,
   "metadata": {},
   "outputs": [
    {
     "data": {
      "text/plain": [
       "Index(['Unnamed: 0', 'Shop Order', 'Component', 'MRdate', 'MQISS', 'Product',\n",
       "       'BOM qty', 'BOM qty.1', 'MOPNO', 'Finished qty', 'MQREQ',\n",
       "       'Requested qty', 'Lot Number', 'SOSTS', 'Date'],\n",
       "      dtype='object')"
      ]
     },
     "execution_count": 8,
     "metadata": {},
     "output_type": "execute_result"
    }
   ],
   "source": [
    "drop_cols = ['MQISS','Unnamed: 0', 'MOPNO'\n",
    "df_curr.columns"
   ]
  },
  {
   "cell_type": "code",
   "execution_count": 5,
   "metadata": {},
   "outputs": [],
   "source": [
    "cols = {'MORD':\"Shop Order\",'MPROD':\"Component\",'MAPRD':\"Product\",'MBOM':'BOM qty','SOLOT':'Lot Number','MRDTE':'MRdate',\n",
    "       'SQFIN':'Finished qty'}\n",
    "drop_cols = ['MQISS', 'MASTS','MOPNO']"
   ]
  },
  {
   "cell_type": "code",
   "execution_count": 6,
   "metadata": {},
   "outputs": [
    {
     "data": {
      "text/plain": [
       "(51587, 10)"
      ]
     },
     "execution_count": 6,
     "metadata": {},
     "output_type": "execute_result"
    }
   ],
   "source": [
    "df_arch = df_arch.rename(columns = cols)\\\n",
    "        .drop(columns = drop_cols)\n",
    "df_arch.shape"
   ]
  },
  {
   "cell_type": "code",
   "execution_count": 7,
   "metadata": {},
   "outputs": [
    {
     "data": {
      "text/plain": [
       "Index(['Shop Order', 'Component', 'MRDTE', 'Product', 'BOM qty', 'SQFIN',\n",
       "       'MQREQ', 'SQREQ', 'Lot Number', 'Date'],\n",
       "      dtype='object')"
      ]
     },
     "execution_count": 7,
     "metadata": {},
     "output_type": "execute_result"
    }
   ],
   "source": [
    "df_arch.columns"
   ]
  },
  {
   "cell_type": "code",
   "execution_count": null,
   "metadata": {},
   "outputs": [],
   "source": [
    "def lot_checker(lot_number):\n",
    "    'checks if lot number matches YYMXXX63 format'\n",
    "    if str(lot_number) == 'nan':\n",
    "        return False\n",
    "    return (re.compile('(:?[0-9]{2}[A-Ma-m]{1}[Oo0-9]{3}63[Xx]|[0-9]{2}[A-Ma-m]{1}[Oo0-9]{3}63)').match(lot_number) != None) *1\n",
    "df['Lot Format Match'] = list(map(lot_checker,df['Lot Number']))\n",
    "df = df[df['Lot Format Match'] == 1].drop(columns = 'Lot Format Match')"
   ]
  },
  {
   "cell_type": "code",
   "execution_count": null,
   "metadata": {},
   "outputs": [],
   "source": [
    "def cleanup(frame):\n",
    "    frame = frame.reset_index(drop=True)\n",
    "    lot_number = frame.loc[0,'Lot Number']\n",
    "    product = frame.loc[0,'Product']\n",
    "    date = frame.loc[0,'Date']\n",
    "    shop_order = str(frame.loc[0,'Shop Order'])\n",
    "    df = pd.DataFrame()\n",
    "    df.loc[lot_number,'Product'] = product\n",
    "    df.loc[lot_number,\"Date\"] = date\n",
    "    df.loc[lot_number,'Shop Order'] = shop_order\n",
    "    for i,component in enumerate(frame.Component):\n",
    "        df.loc[lot_number,component] = frame.loc[i,'BOM qty']\n",
    "    return df.reset_index()\\\n",
    "            .rename(columns = {'index':'Lot Number'})\n"
   ]
  },
  {
   "cell_type": "code",
   "execution_count": null,
   "metadata": {},
   "outputs": [],
   "source": [
    "list_of_frames = [cleanup(frame) for lot, frame in df.groupby(by = 'Lot Number')]\n",
    "X = pd.concat(list_of_frames)\\\n",
    "            .fillna(0)\\\n",
    "            .reset_index(drop = True)"
   ]
  },
  {
   "cell_type": "code",
   "execution_count": null,
   "metadata": {},
   "outputs": [],
   "source": [
    "X.shape"
   ]
  },
  {
   "cell_type": "code",
   "execution_count": null,
   "metadata": {},
   "outputs": [],
   "source": [
    "X.head()"
   ]
  },
  {
   "cell_type": "code",
   "execution_count": null,
   "metadata": {
    "tags": []
   },
   "outputs": [],
   "source": [
    "print(min(X.Date).strftime(\"%Y-%b-%d\"))\n",
    "print(max(X.Date).strftime(\"%Y-%b-%d\"))"
   ]
  },
  {
   "cell_type": "markdown",
   "metadata": {},
   "source": [
    "Why are there lots through Dec 2021?"
   ]
  },
  {
   "cell_type": "code",
   "execution_count": null,
   "metadata": {},
   "outputs": [],
   "source": [
    "X.head()"
   ]
  },
  {
   "cell_type": "code",
   "execution_count": null,
   "metadata": {},
   "outputs": [],
   "source": [
    "df.head()"
   ]
  },
  {
   "cell_type": "markdown",
   "metadata": {},
   "source": [
    "### Plantstar Clean-up <a name = \"plantstarcleanup\"></a>\n",
    "[return](#tableofcontents)"
   ]
  },
  {
   "cell_type": "code",
   "execution_count": null,
   "metadata": {},
   "outputs": [],
   "source": [
    "plant_df = pd.read_excel(open(\"./raw_data/Plantstar.xlsx\",'rb'))"
   ]
  },
  {
   "cell_type": "code",
   "execution_count": null,
   "metadata": {},
   "outputs": [],
   "source": [
    "plant_df.head()"
   ]
  },
  {
   "cell_type": "code",
   "execution_count": null,
   "metadata": {},
   "outputs": [],
   "source": [
    "cols = {'user_text_4':'Shop Order'}\n",
    "plant_df = plant_df.rename(columns = cols)\n",
    "plant_df.head()"
   ]
  },
  {
   "cell_type": "code",
   "execution_count": null,
   "metadata": {},
   "outputs": [],
   "source": [
    "def plantstar_extract(shop_order):\n",
    "    tools = list(plant_df['tool'][plant_df['Shop Order'] == shop_order].unique())\n",
    "    machines = list(plant_df['mach_name'][plant_df['Shop Order'] == shop_order].unique())\n",
    "    num_entries = len(plant_df['start_time'][plant_df['Shop Order'] == shop_order]) #related to how long SO ran?\n",
    "    return tools, machines, num_entries"
   ]
  },
  {
   "cell_type": "markdown",
   "metadata": {},
   "source": [
    "### Combine SO data and Plantstar Data <a name = \"combinesoplantstar\"></a>\n",
    "[return](#tableofcontents)"
   ]
  },
  {
   "cell_type": "code",
   "execution_count": null,
   "metadata": {},
   "outputs": [],
   "source": [
    "for i, shop_order in enumerate(X['Shop Order']):\n",
    "    tools,machines,num_entries = plantstar_extract(shop_order)\n",
    "    if num_entries == 0:\n",
    "        X = X.drop(i)\n",
    "        continue\n",
    "    for t in tools:\n",
    "        X.loc[i,t] = 1\n",
    "    for m in machines:\n",
    "        X.loc[i,m] = 1\n",
    "    X.loc[i,'num_plantstar_entries'] = num_entries\n",
    "X = X.fillna(0)\\\n",
    "    .reset_index(drop= True)\n",
    "X.head()"
   ]
  },
  {
   "cell_type": "markdown",
   "metadata": {},
   "source": [
    "### Quality Records Data <a name = \"qualitydata\"></a>\n",
    "[return](#tableofcontents)"
   ]
  },
  {
   "cell_type": "code",
   "execution_count": null,
   "metadata": {
    "tags": []
   },
   "outputs": [],
   "source": [
    "\n",
    "nc_data = nc_full.NC_Full()\n",
    "nc_data.mostrecentreport(og_data_path = os.getcwd()+r'\\raw_data')"
   ]
  },
  {
   "cell_type": "code",
   "execution_count": null,
   "metadata": {
    "tags": []
   },
   "outputs": [],
   "source": [
    "nc_data = nc_data.run_report()"
   ]
  },
  {
   "cell_type": "code",
   "execution_count": null,
   "metadata": {},
   "outputs": [],
   "source": [
    "nc_data['Lot Number']"
   ]
  },
  {
   "cell_type": "code",
   "execution_count": null,
   "metadata": {},
   "outputs": [],
   "source": [
    "for i, lot_number in enumerate(X['Lot Number']):\n",
    "    for j, nc_lot_nums in enumerate(nc_data['Lot Number']):\n",
    "        if lot_number in nc_lot_nums:\n",
    "            X.loc[i,'NC'] = 1\n",
    "            break\n"
   ]
  },
  {
   "cell_type": "code",
   "execution_count": null,
   "metadata": {},
   "outputs": [],
   "source": [
    "X = X.fillna(0)"
   ]
  },
  {
   "cell_type": "code",
   "execution_count": null,
   "metadata": {},
   "outputs": [],
   "source": [
    "sum(X.NC)"
   ]
  },
  {
   "cell_type": "code",
   "execution_count": null,
   "metadata": {},
   "outputs": [],
   "source": [
    "X.head()"
   ]
  },
  {
   "cell_type": "markdown",
   "metadata": {},
   "source": [
    "## Models <a name = 'models'></a>\n",
    "[return](#tableofcontents)"
   ]
  },
  {
   "cell_type": "markdown",
   "metadata": {},
   "source": [
    "### Kmeans clustering no NC data <a name = 'kmeansnonc'></a>\n",
    "[return](#tableofcontents)"
   ]
  },
  {
   "cell_type": "code",
   "execution_count": null,
   "metadata": {},
   "outputs": [],
   "source": [
    "from sklearn.cluster import KMeans"
   ]
  },
  {
   "cell_type": "code",
   "execution_count": null,
   "metadata": {
    "tags": []
   },
   "outputs": [],
   "source": [
    "for col in X.columns[4:]:\n",
    "    if str(col) == 'nan':\n",
    "       X =  X.drop(columns =col)"
   ]
  },
  {
   "cell_type": "code",
   "execution_count": null,
   "metadata": {
    "scrolled": true
   },
   "outputs": [],
   "source": [
    "X_cluster = X[X.columns[4:]].to_numpy()"
   ]
  },
  {
   "cell_type": "code",
   "execution_count": null,
   "metadata": {},
   "outputs": [],
   "source": [
    "kmeans = KMeans(n_clusters=8, random_state=0).fit(X_cluster)"
   ]
  },
  {
   "cell_type": "code",
   "execution_count": null,
   "metadata": {},
   "outputs": [],
   "source": [
    "len(kmeans.labels_)"
   ]
  },
  {
   "cell_type": "code",
   "execution_count": null,
   "metadata": {},
   "outputs": [],
   "source": [
    "len(X_cluster)"
   ]
  },
  {
   "cell_type": "code",
   "execution_count": null,
   "metadata": {},
   "outputs": [],
   "source": [
    "X[\"labels\"] = list(kmeans.labels_)"
   ]
  },
  {
   "cell_type": "code",
   "execution_count": null,
   "metadata": {},
   "outputs": [],
   "source": [
    "X[X.labels == 7]"
   ]
  },
  {
   "cell_type": "code",
   "execution_count": null,
   "metadata": {
    "tags": []
   },
   "outputs": [],
   "source": [
    "for group, frame  in X.groupby(by = 'labels'):\n",
    "    print(group, str(len(frame)))"
   ]
  },
  {
   "cell_type": "markdown",
   "metadata": {},
   "source": [
    "### Combine k-Means results with NCs <a name = 'kmeanswithnc'></a>\n",
    "[return](#tableofcontents)"
   ]
  },
  {
   "cell_type": "code",
   "execution_count": null,
   "metadata": {
    "tags": []
   },
   "outputs": [],
   "source": [
    "for group, frame  in X.groupby(by = 'labels'):\n",
    "    print(group, sum(frame.NC)/len(frame)*100)\n"
   ]
  },
  {
   "cell_type": "code",
   "execution_count": null,
   "metadata": {},
   "outputs": [],
   "source": [
    "X[X.labels == 7]"
   ]
  },
  {
   "cell_type": "markdown",
   "metadata": {},
   "source": [
    "## Run K-Means with NC data"
   ]
  },
  {
   "cell_type": "code",
   "execution_count": null,
   "metadata": {},
   "outputs": [],
   "source": [
    "X = X.drop(columns = ['labels'])\n",
    "X_cluster = X[X.columns[4:]].to_numpy()"
   ]
  },
  {
   "cell_type": "code",
   "execution_count": null,
   "metadata": {},
   "outputs": [],
   "source": [
    "kmeans = KMeans(n_clusters=9, random_state=0).fit(X_cluster)"
   ]
  },
  {
   "cell_type": "code",
   "execution_count": null,
   "metadata": {},
   "outputs": [],
   "source": [
    "X[\"labels\"] = list(kmeans.labels_)"
   ]
  },
  {
   "cell_type": "code",
   "execution_count": null,
   "metadata": {
    "tags": []
   },
   "outputs": [],
   "source": [
    "for group, frame  in X.groupby(by = 'labels'):\n",
    "    \n",
    "    print(group, len(frame), sum(frame.NC),round(sum(frame.NC)/len(frame)*100,2))"
   ]
  },
  {
   "cell_type": "code",
   "execution_count": null,
   "metadata": {},
   "outputs": [],
   "source": [
    "X.replace(0.0,np.nan,inplace = True)"
   ]
  },
  {
   "cell_type": "code",
   "execution_count": null,
   "metadata": {},
   "outputs": [],
   "source": [
    "X[X.labels == 7].count().sort_values(ascending=False)[6:16]"
   ]
  },
  {
   "cell_type": "code",
   "execution_count": null,
   "metadata": {},
   "outputs": [],
   "source": [
    "X[X.labels == 3].count()\\\n",
    "                .sort_values(ascending = False)[6:16]\\\n",
    "                .reset_index()"
   ]
  },
  {
   "cell_type": "code",
   "execution_count": null,
   "metadata": {
    "tags": []
   },
   "outputs": [],
   "source": [
    "for product,frame in X[X.labels == 1].groupby(by='Product'):\n",
    "    print(product, np.nansum(frame.NC)/len(frame))"
   ]
  },
  {
   "cell_type": "code",
   "execution_count": null,
   "metadata": {},
   "outputs": [],
   "source": [
    "X[X.labels == 1].count().sort_values(ascending = False)[6:16]"
   ]
  },
  {
   "cell_type": "code",
   "execution_count": null,
   "metadata": {},
   "outputs": [],
   "source": [
    "X = X.replace(0.0,np.nan,inplace = True)"
   ]
  },
  {
   "cell_type": "code",
   "execution_count": null,
   "metadata": {},
   "outputs": [],
   "source": [
    "import seaborn as sns"
   ]
  },
  {
   "cell_type": "markdown",
   "metadata": {},
   "source": [
    "## Decision Tree Models <a name = decisiontrees></a>\n",
    "[return](#tableofcontents)"
   ]
  },
  {
   "cell_type": "code",
   "execution_count": null,
   "metadata": {},
   "outputs": [],
   "source": [
    "X_cluster.shape"
   ]
  },
  {
   "cell_type": "code",
   "execution_count": null,
   "metadata": {},
   "outputs": [],
   "source": [
    "X = X_cluster[:,:-1]\n",
    "y = X_cluster[:,-1]"
   ]
  },
  {
   "cell_type": "code",
   "execution_count": null,
   "metadata": {},
   "outputs": [],
   "source": [
    "import numpy as np\n",
    "from sklearn.model_selection import train_test_split"
   ]
  },
  {
   "cell_type": "code",
   "execution_count": null,
   "metadata": {},
   "outputs": [],
   "source": [
    "X_train, X_test, y_train, y_test = train_test_split(\n",
    "X, y, test_size=0.33, random_state=42)"
   ]
  },
  {
   "cell_type": "code",
   "execution_count": null,
   "metadata": {},
   "outputs": [],
   "source": [
    "X_train.shape"
   ]
  },
  {
   "cell_type": "code",
   "execution_count": null,
   "metadata": {},
   "outputs": [],
   "source": [
    "X_test.shape"
   ]
  },
  {
   "cell_type": "code",
   "execution_count": null,
   "metadata": {},
   "outputs": [],
   "source": [
    "from sklearn.ensemble import AdaBoostRegressor\n",
    "from sklearn.tree import DecisionTreeRegressor"
   ]
  },
  {
   "cell_type": "code",
   "execution_count": null,
   "metadata": {},
   "outputs": [],
   "source": [
    "rng = np.random.RandomState(1)\n",
    "regr_1 = DecisionTreeRegressor(max_depth=4)\n",
    "regr_2 = AdaBoostRegressor(DecisionTreeRegressor(max_depth=10),\n",
    "                          n_estimators=300, random_state=rng)"
   ]
  },
  {
   "cell_type": "code",
   "execution_count": null,
   "metadata": {},
   "outputs": [],
   "source": [
    "import pickle"
   ]
  },
  {
   "cell_type": "code",
   "execution_count": null,
   "metadata": {},
   "outputs": [],
   "source": [
    "filename = 'ada_boost_v1.sav'\n",
    "ada_boost_v1 = pickle.dump(regr_2,open(filename,'wb'))"
   ]
  },
  {
   "cell_type": "code",
   "execution_count": null,
   "metadata": {},
   "outputs": [],
   "source": [
    "from joblib import dump, load\n",
    "dump(regr_2, 'ada_boost_v1.joblib') "
   ]
  },
  {
   "cell_type": "code",
   "execution_count": null,
   "metadata": {},
   "outputs": [],
   "source": [
    "regr_1.fit(X_train, y_train)\n",
    "regr_2.fit(X_train,y_train)"
   ]
  },
  {
   "cell_type": "code",
   "execution_count": null,
   "metadata": {},
   "outputs": [],
   "source": [
    "y_1 = regr_1.predict(X_test)\n",
    "y_2 = regr_2.predict(X_test)"
   ]
  },
  {
   "cell_type": "code",
   "execution_count": null,
   "metadata": {},
   "outputs": [],
   "source": [
    "os.getcwd()"
   ]
  },
  {
   "cell_type": "code",
   "execution_count": null,
   "metadata": {},
   "outputs": [],
   "source": [
    "pd.DataFrame(X_train).to_csv('./training_data_v1.0/X_train.csv')"
   ]
  },
  {
   "cell_type": "code",
   "execution_count": null,
   "metadata": {},
   "outputs": [],
   "source": [
    "pd.DataFrame(X_test).to_csv('./training_data_v1.0/X_test.csv')\n",
    "pd.DataFrame(y_train).to_csv('./training_data_v1.0/y_train.csv')\n",
    "pd.DataFrame(y_test).to_csv('./training_data_v1.0/y_test.csv')"
   ]
  },
  {
   "cell_type": "markdown",
   "metadata": {},
   "source": [
    "### AdaBoost Results <a name = \"adaboostresults\"></a>\n",
    "[return](#tableofcontents)"
   ]
  },
  {
   "cell_type": "code",
   "execution_count": null,
   "metadata": {},
   "outputs": [],
   "source": [
    "from sklearn.metrics import precision_recall_curve\n"
   ]
  },
  {
   "cell_type": "code",
   "execution_count": null,
   "metadata": {},
   "outputs": [],
   "source": [
    "precision, recall, thresholds = precision_recall_curve(y_test,y_2)"
   ]
  },
  {
   "cell_type": "code",
   "execution_count": null,
   "metadata": {},
   "outputs": [],
   "source": [
    "plt.plot(thresholds,precision[:-1],label = 'Precision')\n",
    "plt.plot(thresholds,recall[:-1],label = 'Recall')\n",
    "plt.title('AdaBoost: Precision Recall Curve')\n",
    "plt.xlabel('Threshold')\n",
    "plt.legend()\n",
    "plt.show()"
   ]
  },
  {
   "cell_type": "code",
   "execution_count": null,
   "metadata": {
    "tags": []
   },
   "outputs": [],
   "source": [
    "#thresholds\n",
    "print(5*'-'+' Balanced Precision and Recall Model '+5*'-')\n",
    "test_threshold = np.round(0.49714286,4)\n",
    "print(f'percent of lots indicted = {round(100*len(y_2[y_2>=test_threshold])/len(y_2),2)}%')\n",
    "print(f'recall (NC reduction) = {round(100*recall[np.where(np.round(thresholds,4) == test_threshold)][0],2)}%')\n",
    "print(f'total number of predicted NCs = {len(y_2[y_2>=test_threshold])}')\n",
    "print(f'True Positives = {sum(y_test[np.where(y_2>=test_threshold)])}')\n",
    "print(f'precision = {round(100*precision[np.where(np.round(thresholds,4) == test_threshold)][0],2)}%')"
   ]
  },
  {
   "cell_type": "code",
   "execution_count": null,
   "metadata": {},
   "outputs": [],
   "source": [
    "pd.DataFrame(thresholds).to_csv('./training_data_v1.0/example_thresholds.csv')"
   ]
  },
  {
   "cell_type": "code",
   "execution_count": null,
   "metadata": {},
   "outputs": [],
   "source": [
    "pd.DataFrame(recall[1:]).to_csv('./training_data_v1.0/example_recall.csv')"
   ]
  },
  {
   "cell_type": "code",
   "execution_count": null,
   "metadata": {},
   "outputs": [],
   "source": [
    "pd.DataFrame(precision[:-1]).to_csv('./training_data_v1.0/example_precision.csv')"
   ]
  },
  {
   "cell_type": "code",
   "execution_count": null,
   "metadata": {},
   "outputs": [],
   "source": [
    "print(f'Number of SOs = {len(y_2)}')\n",
    "print(f'Number of NCs = {sum(y_test)}')\n",
    "print(f'Percent of SO with NCs in Test data = {round(100*sum(y_test)/len(y_2))}%')"
   ]
  },
  {
   "cell_type": "markdown",
   "metadata": {},
   "source": [
    "### Decision Tree Regressor results <a name = dtrresults></a>\n",
    "[return](#tableofcontents)"
   ]
  },
  {
   "cell_type": "code",
   "execution_count": null,
   "metadata": {},
   "outputs": [],
   "source": [
    "precision, recall, thresholds = precision_recall_curve(y_test,y_1)"
   ]
  },
  {
   "cell_type": "code",
   "execution_count": null,
   "metadata": {},
   "outputs": [],
   "source": [
    "plt.plot(thresholds,precision[:-1],label = 'Precision')\n",
    "plt.plot(thresholds,recall[:-1],label = 'Recall')\n",
    "plt.title('Precision Recall Curve')\n",
    "plt.legend()\n",
    "plt.show()"
   ]
  },
  {
   "cell_type": "code",
   "execution_count": null,
   "metadata": {},
   "outputs": [],
   "source": [
    "thresholds"
   ]
  },
  {
   "cell_type": "code",
   "execution_count": null,
   "metadata": {},
   "outputs": [],
   "source": [
    "precision[:-1]"
   ]
  },
  {
   "cell_type": "code",
   "execution_count": null,
   "metadata": {},
   "outputs": [],
   "source": [
    "recall[:-1]"
   ]
  },
  {
   "cell_type": "code",
   "execution_count": null,
   "metadata": {},
   "outputs": [],
   "source": [
    "y_1[y_1>=1]"
   ]
  },
  {
   "cell_type": "markdown",
   "metadata": {},
   "source": [
    "### Nearest Neighbors <a name = nn></a>\n",
    "[return](#tableofcontents)"
   ]
  },
  {
   "cell_type": "code",
   "execution_count": null,
   "metadata": {},
   "outputs": [],
   "source": [
    "from sklearn import neighbors"
   ]
  },
  {
   "cell_type": "code",
   "execution_count": null,
   "metadata": {},
   "outputs": [],
   "source": [
    "n_neighbors = 15\n",
    "clf = neighbors.KNeighborsClassifier(n_neighbors, weights='distance')\n",
    "clf.fit(X_train,y_train)"
   ]
  },
  {
   "cell_type": "code",
   "execution_count": null,
   "metadata": {},
   "outputs": [],
   "source": [
    "nn_results = clf.predict(X_test)"
   ]
  },
  {
   "cell_type": "code",
   "execution_count": null,
   "metadata": {},
   "outputs": [],
   "source": [
    "nn_precision, nn_recall, nn_thresholds = precision_recall_curve(y_test,nn_results)"
   ]
  },
  {
   "cell_type": "code",
   "execution_count": null,
   "metadata": {},
   "outputs": [],
   "source": [
    "plt.plot(nn_thresholds,nn_precision[:-1],label = 'Precision')\n",
    "plt.plot(nn_thresholds,nn_recall[:-1],label = 'Recall')\n",
    "plt.title('NN: Precision Recall Curve')\n",
    "plt.xlabel('Threshold')\n",
    "plt.legend()\n",
    "plt.show()"
   ]
  },
  {
   "cell_type": "code",
   "execution_count": null,
   "metadata": {},
   "outputs": [],
   "source": [
    "nn_precision"
   ]
  },
  {
   "cell_type": "markdown",
   "metadata": {},
   "source": [
    "## Dimensional Reduction <a name = \"dimensionalreduction\"></a>\n",
    "[return](#tableofcontents)"
   ]
  },
  {
   "cell_type": "markdown",
   "metadata": {},
   "source": [
    "### PCA <a name = pca></a>\n",
    "[return](#tableofcontents)"
   ]
  },
  {
   "cell_type": "code",
   "execution_count": null,
   "metadata": {},
   "outputs": [],
   "source": [
    "from sklearn import decomposition"
   ]
  },
  {
   "cell_type": "code",
   "execution_count": null,
   "metadata": {},
   "outputs": [],
   "source": [
    "pca = decomposition.PCA(n_components=3)\n",
    "pca.fit(X_test)"
   ]
  },
  {
   "cell_type": "code",
   "execution_count": null,
   "metadata": {},
   "outputs": [],
   "source": [
    "X_pca = pca.transform(X_test)"
   ]
  },
  {
   "cell_type": "code",
   "execution_count": null,
   "metadata": {},
   "outputs": [],
   "source": [
    "PCA_ADA_model = AdaBoostRegressor(DecisionTreeRegressor(max_depth=8),\n",
    "                          n_estimators=300, random_state=rng)"
   ]
  },
  {
   "cell_type": "code",
   "execution_count": null,
   "metadata": {},
   "outputs": [],
   "source": [
    "PCA_ADA_model.fit(X_train,y_train)"
   ]
  },
  {
   "cell_type": "code",
   "execution_count": null,
   "metadata": {},
   "outputs": [],
   "source": [
    "y_pca_ada = PCA_ADA_model.predict(X_test)"
   ]
  },
  {
   "cell_type": "code",
   "execution_count": null,
   "metadata": {},
   "outputs": [],
   "source": [
    "precision_pca, recall_pca, thresholds_pca = precision_recall_curve(y_test,y_pca_ada)"
   ]
  },
  {
   "cell_type": "code",
   "execution_count": null,
   "metadata": {},
   "outputs": [],
   "source": [
    "plt.plot(thresholds_pca,precision_pca[:-1],label = 'Precision')\n",
    "plt.plot(thresholds_pca,recall_pca[:-1],label = 'Recall')\n",
    "plt.title('AdaBoost: Precision Recall Curve')\n",
    "plt.xlabel('Threshold')\n",
    "plt.legend()\n",
    "plt.show()"
   ]
  },
  {
   "cell_type": "code",
   "execution_count": null,
   "metadata": {},
   "outputs": [],
   "source": [
    "precision_pca[:-1]"
   ]
  },
  {
   "cell_type": "code",
   "execution_count": null,
   "metadata": {},
   "outputs": [],
   "source": [
    "thresholds_pca"
   ]
  },
  {
   "cell_type": "code",
   "execution_count": null,
   "metadata": {},
   "outputs": [],
   "source": [
    "test_threshold = np.round(0.47771836,4)\n",
    "print(f'recall = {round(recall_pca[np.where(np.round(thresholds_pca,4) == test_threshold)][0],4)}')\n",
    "print(f'precision = {round(precision_pca[np.where(np.round(thresholds_pca,4) == test_threshold)][0],4)}')\n",
    "print(f'number of predicted NCs = {len(y_2[y_2>=test_threshold])}')\n",
    "print(f'True Positives = {sum(y_test[np.where(y_2>=test_threshold)])}')"
   ]
  },
  {
   "cell_type": "code",
   "execution_count": null,
   "metadata": {},
   "outputs": [],
   "source": []
  }
 ],
 "metadata": {
  "kernelspec": {
   "display_name": "Python 3.8.3 32-bit",
   "language": "python",
   "name": "python38332bit2b8480b44fa447f4ab201d5dd8281470"
  },
  "language_info": {
   "codemirror_mode": {
    "name": "ipython",
    "version": 3
   },
   "file_extension": ".py",
   "mimetype": "text/x-python",
   "name": "python",
   "nbconvert_exporter": "python",
   "pygments_lexer": "ipython3",
   "version": "3.8.3"
  }
 },
 "nbformat": 4,
 "nbformat_minor": 4
}
